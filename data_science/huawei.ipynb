{
 "cells": [
  {
   "cell_type": "code",
   "execution_count": 2,
   "metadata": {},
   "outputs": [
    {
     "name": "stdout",
     "output_type": "stream",
     "text": [
      "hello world\n",
      "5\n"
     ]
    }
   ],
   "source": [
    "s=input().split()\n",
    "print(len(s.pop()))"
   ]
  },
  {
   "cell_type": "code",
   "execution_count": 8,
   "metadata": {},
   "outputs": [
    {
     "data": {
      "text/plain": [
       "(True, True, False, 'a', 'A')"
      ]
     },
     "execution_count": 8,
     "metadata": {},
     "output_type": "execute_result"
    }
   ],
   "source": [
    "'a'.islower(),'A'.isupper(),'1'.isupper(),'A'.lower(),'a'.upper()"
   ]
  },
  {
   "cell_type": "code",
   "execution_count": 9,
   "metadata": {},
   "outputs": [
    {
     "name": "stdout",
     "output_type": "stream",
     "text": [
      "ABCDEF A\n",
      "A\n",
      "2\n"
     ]
    }
   ],
   "source": [
    "s=list(input())\n",
    "c=input()\n",
    "if c.islower():\n",
    "    cc=c.upper()\n",
    "    print(s.count(c)+s.count(cc))\n",
    "elif c.isupper():\n",
    "    cc=c.lower()\n",
    "    print(s.count(c)+s.count(cc))\n",
    "else:\n",
    "    print(s.count(c))"
   ]
  },
  {
   "cell_type": "code",
   "execution_count": 25,
   "metadata": {},
   "outputs": [
    {
     "name": "stdout",
     "output_type": "stream",
     "text": [
      "None\n",
      "None\n",
      "list index out of range\n"
     ]
    },
    {
     "data": {
      "text/plain": [
       "{1: 2, 2: 3}"
      ]
     },
     "execution_count": 25,
     "metadata": {},
     "output_type": "execute_result"
    }
   ],
   "source": [
    "l=[1,2,3]\n",
    "print(True if 4 in l else None)\n",
    "try:\n",
    "    l.index(4)\n",
    "except:\n",
    "    print(None)\n",
    "try:\n",
    "    print(l[3])\n",
    "except Exception as e:\n",
    "    print(e)\n",
    "    \n",
    "mydict=dict()\n",
    "mydict[1]=2\n",
    "mydict.update({2:3})\n",
    "mydict"
   ]
  },
  {
   "cell_type": "code",
   "execution_count": 28,
   "metadata": {},
   "outputs": [
    {
     "name": "stdout",
     "output_type": "stream",
     "text": [
      "4\n",
      "2\n",
      "0\n"
     ]
    }
   ],
   "source": [
    "while 1:\n",
    "    n=int(input())\n",
    "    if not n:break\n",
    "    print(n//2)"
   ]
  },
  {
   "cell_type": "code",
   "execution_count": 29,
   "metadata": {},
   "outputs": [
    {
     "name": "stdout",
     "output_type": "stream",
     "text": [
      "3\n",
      "1\n",
      "4\n",
      "2\n",
      "5\n",
      "2\n",
      "81\n",
      "40\n",
      "10\n",
      "5\n",
      "0\n"
     ]
    }
   ],
   "source": [
    "while 1:\n",
    "    n=int(input())\n",
    "    if not n:\n",
    "        break\n",
    "    res=0\n",
    "    while n>=2:\n",
    "        n -=2\n",
    "        res +=1\n",
    "    print(res)"
   ]
  },
  {
   "cell_type": "code",
   "execution_count": 33,
   "metadata": {},
   "outputs": [
    {
     "name": "stdout",
     "output_type": "stream",
     "text": [
      "1\n",
      "0\n",
      "2\n",
      "1\n",
      "5\n",
      "2\n",
      "0\n"
     ]
    }
   ],
   "source": [
    "while 1:\n",
    "    try:\n",
    "        n=int(input())\n",
    "        if not n:\n",
    "            break\n",
    "        print(n//2)\n",
    "    except:\n",
    "        break"
   ]
  },
  {
   "cell_type": "code",
   "execution_count": 43,
   "metadata": {},
   "outputs": [
    {
     "name": "stdout",
     "output_type": "stream",
     "text": [
      "3+2*{1+2*[-4/(8-6)+7]}\n",
      "25\n",
      "\n"
     ]
    }
   ],
   "source": [
    "while 1:\n",
    "    try:\n",
    "        ans=input()\n",
    "        arr={'{':'(','}':')','[':'(',']':')'}\n",
    "        for k in arr:\n",
    "            ans=ans.replace(k,arr[k])\n",
    "            \n",
    "        #print(ans)\n",
    "        n=eval(ans)\n",
    "        print(int(n))\n",
    "    except:\n",
    "        break"
   ]
  },
  {
   "cell_type": "code",
   "execution_count": 65,
   "metadata": {},
   "outputs": [
    {
     "name": "stdout",
     "output_type": "stream",
     "text": [
      "4\n",
      "[[1], [1, 1, 1], [1, 2, 3, 2, 1], [1, 3, 6, 7, 6, 3, 1]]\n",
      "3\n",
      "\n"
     ]
    }
   ],
   "source": [
    "def get_it(i,l):\n",
    "    n=len(l)\n",
    "    if i<0 or i>=n:\n",
    "        return 0\n",
    "    else:\n",
    "        return l[i]\n",
    "while 1:\n",
    "    n=input()\n",
    "    if not n:\n",
    "        break\n",
    "    n=int(n)\n",
    "    res=[[1]*i for i in range(1,2*n,2)]\n",
    "    \n",
    "    for i in range(2,n):\n",
    "        for j in range(len(res[i])):\n",
    "            res[i][j]=sum(list(map(get_it,[j-2,j-1,j],[res[i-1]]*3)))\n",
    "            #print(sum(list(map(get_it,[j-2,j-1,j],[res[i-1]]*3))))\n",
    "    \n",
    "    print(res)\n",
    "    \n",
    "    flag=0\n",
    "    for x in range(len(res[-1])):\n",
    "        if res[-1][x]%2==0:\n",
    "            print(x+1)\n",
    "            flag=1\n",
    "            break\n",
    "            \n",
    "    if not flag:\n",
    "        print(-1)\n",
    "        "
   ]
  },
  {
   "cell_type": "code",
   "execution_count": 53,
   "metadata": {},
   "outputs": [
    {
     "data": {
      "text/plain": [
       "(3, 0, 0, [1, 2, 3, 1, 2, 3, 1, 2, 3], [[1, 2, 3], [1, 2, 3], [1, 2, 3]])"
      ]
     },
     "execution_count": 53,
     "metadata": {},
     "output_type": "execute_result"
    }
   ],
   "source": [
    "def get_it(i,l):\n",
    "    try:\n",
    "        return l[i] if i>=0 else 0\n",
    "    except:\n",
    "        return 0\n",
    "\n",
    "l=[x for x in range(5)]\n",
    "get_it(3,l),get_it(-2,l),get_it(6,l),[1,2,3]*3,[[1,2,3]]*3"
   ]
  },
  {
   "cell_type": "code",
   "execution_count": 59,
   "metadata": {},
   "outputs": [
    {
     "name": "stdout",
     "output_type": "stream",
     "text": [
      "[[-2, -1, 0], [[1, 2, 3], [1, 2, 3], [1, 2, 3]]]\n",
      "[[-2, [1, 2, 3]], [-1, [1, 2, 3]], [0, [1, 2, 3]]]\n"
     ]
    }
   ],
   "source": [
    "res=[1,2,3]\n",
    "tmp1=[j-2,j-1,j]\n",
    "tmp2=[res]*3\n",
    "print(tmp)\n",
    "print(list(map(lambda x,y:[x,y],tmp1,tmp2)))    "
   ]
  },
  {
   "cell_type": "code",
   "execution_count": 66,
   "metadata": {},
   "outputs": [
    {
     "name": "stdout",
     "output_type": "stream",
     "text": [
      "3\n",
      "2\n",
      "4\n",
      "3\n",
      "\n"
     ]
    }
   ],
   "source": [
    "def get_it(i,l):\n",
    "    n=len(l)\n",
    "    if i<0 or i>=n:\n",
    "        return 0\n",
    "    else:\n",
    "        return l[i]\n",
    "\n",
    "while 1:\n",
    "    try:\n",
    "        n=input()\n",
    "        if not n:\n",
    "            break\n",
    "        n=int(n)\n",
    "        res=[[1]*i for i in range(1,2*n,2)]\n",
    "\n",
    "        for i in range(2,n):\n",
    "            for j in range(len(res[i])):\n",
    "                res[i][j]=sum(list(map(get_it,[j-2,j-1,j],[res[i-1]]*3)))\n",
    "\n",
    "        flag=0\n",
    "        for x in range(len(res[-1])):\n",
    "            if res[-1][x]%2==0:\n",
    "                print(x+1)\n",
    "                flag=1\n",
    "                break\n",
    "\n",
    "        if not flag:\n",
    "            print(-1)\n",
    "    except:\n",
    "        break"
   ]
  },
  {
   "cell_type": "code",
   "execution_count": 85,
   "metadata": {},
   "outputs": [
    {
     "data": {
      "text/plain": [
       "(5, 6, 5, 6, 6, 5, 5, 5, (0.40000000000000036, 5.0))"
      ]
     },
     "execution_count": 85,
     "metadata": {},
     "output_type": "execute_result"
    }
   ],
   "source": [
    "import math\n",
    "int(5.5),math.ceil(5.5),int(5.4),math.ceil(5.4),round(5.5),math.floor(5.5),round(5.4),math.floor(5.4),math.modf(5.4)"
   ]
  },
  {
   "cell_type": "code",
   "execution_count": 89,
   "metadata": {},
   "outputs": [
    {
     "name": "stdout",
     "output_type": "stream",
     "text": [
      "5.5\n",
      "6\n",
      "5.4\n",
      "5\n",
      "\n"
     ]
    }
   ],
   "source": [
    "import math\n",
    "while 1:\n",
    "    try:\n",
    "        n=input()\n",
    "        if not n:\n",
    "            break\n",
    "        \n",
    "        n=float(n)\n",
    "        tmp=math.modf(n)\n",
    "        if tmp[0]<0.5:\n",
    "            print(int(n))\n",
    "        else:\n",
    "            print(int(n)+1)\n",
    "            #print(math.ceil(n))\n",
    "    except:\n",
    "        break"
   ]
  },
  {
   "cell_type": "code",
   "execution_count": 91,
   "metadata": {},
   "outputs": [
    {
     "data": {
      "text/plain": [
       "(6, 8, 7)"
      ]
     },
     "execution_count": 91,
     "metadata": {},
     "output_type": "execute_result"
    }
   ],
   "source": [
    "round(float('6.5')),round(float('7.5')),int(7.5)"
   ]
  },
  {
   "cell_type": "code",
   "execution_count": 92,
   "metadata": {},
   "outputs": [
    {
     "name": "stdout",
     "output_type": "stream",
     "text": [
      "5\n",
      "2\n",
      "8\n",
      "1\n",
      "\n"
     ]
    }
   ],
   "source": [
    "while 1:\n",
    "    try:\n",
    "        n=input()\n",
    "        if not n:\n",
    "            break\n",
    "        \n",
    "        res=list(bin(int(n)))\n",
    "        print(res.count('1'))\n",
    "\n",
    "    except:\n",
    "        break"
   ]
  },
  {
   "cell_type": "code",
   "execution_count": 96,
   "metadata": {},
   "outputs": [
    {
     "name": "stdout",
     "output_type": "stream",
     "text": [
      "30\n",
      "2 [6, 28]\n",
      "1000\n",
      "3 [6, 28, 496]\n",
      "\n"
     ]
    }
   ],
   "source": [
    "while 1:\n",
    "    try:\n",
    "        n=input()\n",
    "        if not n:\n",
    "            break\n",
    "        \n",
    "        res=[]\n",
    "        for i in range(1,int(n)):\n",
    "            tmp=0\n",
    "            for j in range(1,i//2+1):\n",
    "                if i%j==0:\n",
    "                    tmp +=j\n",
    "            if i==tmp:\n",
    "                res.append(i)\n",
    "                \n",
    "        print(len(res),res)\n",
    "\n",
    "    except:\n",
    "        print(-1)\n",
    "        break"
   ]
  },
  {
   "cell_type": "code",
   "execution_count": 97,
   "metadata": {},
   "outputs": [
    {
     "data": {
      "text/plain": [
       "[[0],\n",
       " [1],\n",
       " [1, 2],\n",
       " [1, 3],\n",
       " [1, 2, 4],\n",
       " [1, 5],\n",
       " [1, 2, 3, 6],\n",
       " [1, 7],\n",
       " [1, 2, 4, 8],\n",
       " [1, 3, 9],\n",
       " [1, 2, 5, 10],\n",
       " [1, 11]]"
      ]
     },
     "execution_count": 97,
     "metadata": {},
     "output_type": "execute_result"
    }
   ],
   "source": [
    "def get_divisor(n):\n",
    "    res=[]\n",
    "    for i in range(1,n//2+1):\n",
    "        if n%i==0:\n",
    "            res.append(i)\n",
    "            \n",
    "    res.append(n)\n",
    "    \n",
    "    return res\n",
    "\n",
    "l=[get_divisor(x) for x in range(12)]        \n",
    "l"
   ]
  },
  {
   "cell_type": "code",
   "execution_count": 1,
   "metadata": {},
   "outputs": [
    {
     "name": "stdout",
     "output_type": "stream",
     "text": [
      "i n m\n",
      "m n i\n",
      "\n"
     ]
    }
   ],
   "source": [
    "'''\n",
    "放苹果分为两种情况，一种是有盘子为空，一种是每个盘子上都有苹果。\n",
    "令(m,n)表示将m个苹果放入n个盘子中的摆放方法总数。\n",
    "1.假设有一个盘子为空，则(m,n)问题转化为将m个苹果放在n-1个盘子上，即求得(m,n-1)即可\n",
    "2.假设所有盘子都装有苹果，则每个盘子上至少有一个苹果，即最多剩下m-n个苹果，问题转化为将m-n个苹果放到n个盘子上\n",
    "即求(m-n，n)\n",
    "'''\n",
    "def f(m,n):\n",
    "    if m<0 or n<0:\n",
    "        return 0\n",
    "    elif m==1 or n==1:\n",
    "        return 1\n",
    "    else:\n",
    "        return f(m,n-1)+f(m-n,n)\n",
    "while True:\n",
    "    try:\n",
    "        m,n=map(int,input().split())\n",
    "        print(f(m,n))\n",
    "    except:\n",
    "        break"
   ]
  },
  {
   "cell_type": "code",
   "execution_count": 4,
   "metadata": {},
   "outputs": [
    {
     "name": "stdout",
     "output_type": "stream",
     "text": [
      "1\n",
      "0\n",
      "2\n",
      "0\n",
      "3\n",
      "1\n",
      "4\n",
      "1\n",
      "5\n",
      "2\n",
      "6\n",
      "3\n",
      "\n"
     ]
    }
   ],
   "source": [
    "def f(m,n):\n",
    "    if m<2 or n<2:\n",
    "        return 0\n",
    "    elif m==2 or n==2:\n",
    "        return 1\n",
    "    else:\n",
    "        return f(m,n-1)+f(m-n,n)\n",
    "while True:\n",
    "    try:\n",
    "        m=int(input())\n",
    "        if m<3:\n",
    "            print(0)\n",
    "        else:    \n",
    "            print(f(m,m-1))\n",
    "    except:\n",
    "        break"
   ]
  },
  {
   "cell_type": "code",
   "execution_count": 1,
   "metadata": {},
   "outputs": [
    {
     "name": "stdout",
     "output_type": "stream",
     "text": [
      "3 3\n",
      "[[0, 1, 2], [1, 1, 1]]\n",
      "3\n",
      "7 3\n",
      "[[0, 1, 6], [0, 2, 5], [0, 3, 4], [1, 1, 5], [1, 2, 4], [1, 3, 3], [2, 2, 3]]\n",
      "8\n",
      "\n"
     ]
    }
   ],
   "source": [
    "from functools import reduce\n",
    "while 1:\n",
    "    try:\n",
    "        ans=input()\n",
    "        if not ans:\n",
    "            break\n",
    "        m,n=list(map(int, ans.split()))\n",
    "        \n",
    "        app=[str(x) for x in range(m)]\n",
    "        f=lambda x,y:[i+\"#\"+j  for i in x for j in y]\n",
    "        tmp=list(reduce(f, [app]*n))\n",
    "        tmp1=list(map(lambda x:sorted(map(int,x.split(\"#\"))),tmp))\n",
    "        #print(tmp1)\n",
    "        res=[]\n",
    "        for tmp2 in tmp1:\n",
    "            if tmp2 not in res and sum(tmp2)==m:\n",
    "                res.append(tmp2)\n",
    "        \n",
    "        print(res)\n",
    "        print(len(res)+1)\n",
    "        \n",
    "    except:\n",
    "        break"
   ]
  },
  {
   "cell_type": "code",
   "execution_count": 2,
   "metadata": {},
   "outputs": [
    {
     "name": "stdout",
     "output_type": "stream",
     "text": [
      "3 3\n",
      "3\n",
      "7 3\n",
      "8\n",
      "\n"
     ]
    }
   ],
   "source": [
    "from functools import reduce\n",
    "while 1:\n",
    "    try:\n",
    "        ans=input()\n",
    "        if not ans:\n",
    "            break\n",
    "        m,n=list(map(int, ans.split()))\n",
    "        \n",
    "        app=[str(x) for x in range(m)]\n",
    "        f=lambda x,y:[i+\"#\"+j  for i in x for j in y]\n",
    "        tmp=list(reduce(f, [app]*n))\n",
    "        tmp=list(map(lambda x:sorted(map(int,x.split(\"#\"))),tmp))\n",
    "        res=1\n",
    "        while tmp:\n",
    "            t=tmp.pop()\n",
    "            if t not in tmp and sum(t)==m:\n",
    "                res +=1\n",
    "        \n",
    "        print(res)\n",
    "        \n",
    "    except:\n",
    "        break"
   ]
  },
  {
   "cell_type": "code",
   "execution_count": 18,
   "metadata": {},
   "outputs": [
    {
     "name": "stdout",
     "output_type": "stream",
     "text": [
      "3 2\n",
      "2\n",
      "\n"
     ]
    }
   ],
   "source": [
    "'''\n",
    "放苹果分为两种情况，一种是有盘子为空，一种是每个盘子上都有苹果。\n",
    "令(m,n)表示将m个苹果放入n个盘子中的摆放方法总数。\n",
    "1.假设有一个盘子为空，则(m,n)问题转化为将m个苹果放在n-1个盘子上，即求得(m,n-1)即可\n",
    "2.假设所有盘子都装有苹果，则每个盘子上至少有一个苹果，即最多剩下m-n个苹果，问题转化为将m-n个苹果放到n个盘子上\n",
    "即求(m-n，n)\n",
    "'''\n",
    "def f(m,n):\n",
    "    if m<0 or n<0:\n",
    "        return 0\n",
    "    elif m==1 or n==1:\n",
    "        return 1\n",
    "    else:\n",
    "        return f(m,n-1)+f(m-n,n)\n",
    "while True:\n",
    "    try:\n",
    "        m,n=map(int,input().split())\n",
    "        print(f(m,n))\n",
    "    except:\n",
    "        break"
   ]
  },
  {
   "cell_type": "code",
   "execution_count": 9,
   "metadata": {},
   "outputs": [
    {
     "name": "stdout",
     "output_type": "stream",
     "text": [
      "xcopy /s “C:\\program files” “d:\\”\n",
      "4 ['xcopy', '/s', 'C:\\\\program files', 'd:\\\\']\n",
      "xcopy\n",
      "/s\n",
      "C:\\program files\n",
      "d:\\\n",
      "\n"
     ]
    }
   ],
   "source": [
    "while 1:\n",
    "    try:\n",
    "        n=input()\n",
    "        if not n:\n",
    "            break\n",
    "        \n",
    "        if '“' or '”' in n:\n",
    "            res=[]\n",
    "            tmp=''\n",
    "            for i in n:\n",
    "                if i=='”':\n",
    "                    if tmp:\n",
    "                        res.append(tmp[1:])\n",
    "                        tmp=''\n",
    "                    continue\n",
    "                    \n",
    "                if not i==' ':\n",
    "                    tmp +=i\n",
    "                else:\n",
    "                    if tmp:\n",
    "                        if tmp[0]!='“':\n",
    "                            res.append(tmp)\n",
    "                            tmp=''\n",
    "                        else:\n",
    "                            tmp +=i\n",
    "            if tmp:\n",
    "                res.append(tmp)\n",
    "            \n",
    "            print(len(res),res)\n",
    "            for ans in res:\n",
    "                print(ans)\n",
    "        else:\n",
    "            tmp=n.split()\n",
    "            print(len(tmp))\n",
    "            for res in tmp:\n",
    "                print(res)\n",
    "        \n",
    "    except:\n",
    "        break"
   ]
  },
  {
   "cell_type": "code",
   "execution_count": 11,
   "metadata": {},
   "outputs": [
    {
     "data": {
      "text/plain": [
       "(1, 0, ['abc'])"
      ]
     },
     "execution_count": 11,
     "metadata": {},
     "output_type": "execute_result"
    }
   ],
   "source": [
    "0 if not ' ' else 1,0 if not '' else 1,'abc'.split()"
   ]
  },
  {
   "cell_type": "code",
   "execution_count": 10,
   "metadata": {},
   "outputs": [
    {
     "name": "stdout",
     "output_type": "stream",
     "text": [
      "add123#$%#%#O\n",
      "1\n",
      "\n"
     ]
    }
   ],
   "source": [
    "while 1:\n",
    "    try:\n",
    "        n=input()\n",
    "        if not n:\n",
    "            break\n",
    "        \n",
    "        ans=0\n",
    "        for c in n:\n",
    "            if c.isupper():\n",
    "                ans +=1\n",
    "        print(ans)\n",
    "    except:\n",
    "        break"
   ]
  },
  {
   "cell_type": "code",
   "execution_count": 19,
   "metadata": {},
   "outputs": [
    {
     "name": "stdout",
     "output_type": "stream",
     "text": [
      "board delete\n",
      "no board at all\n",
      "\n"
     ]
    }
   ],
   "source": [
    "import re\n",
    "while 1:\n",
    "    try:\n",
    "        n=input()\n",
    "        if not n:\n",
    "            break\n",
    "            \n",
    "        com={'reset board':'board fault',\n",
    "        'board add':'where to add',\n",
    "        'board delete':'no board at all',\n",
    "        'reboot backplane':'impossible',\n",
    "        'backplane abort':'install first'\n",
    "        }\n",
    "        \n",
    "        l=n.split()\n",
    "        if len(l)==1:\n",
    "            tmp=re.match(n+'[a-z]*', 'reset')\n",
    "            if tmp:\n",
    "                print('reset what')\n",
    "                continue\n",
    "        elif len(l)==2:       \n",
    "            q=[t+'[a-z]*' for t in l]\n",
    "            p=' '.join(q)\n",
    "            res=[]\n",
    "            for k in com:\n",
    "                tmp=re.match(p, k)\n",
    "                if tmp:\n",
    "                    res.append(tmp.group(0))\n",
    "            #print(res)\n",
    "            if res and len(res)==1:\n",
    "                print(com[res[0]])\n",
    "                continue\n",
    "        \n",
    "        print('unknown command')\n",
    "        \n",
    "    except:\n",
    "        break"
   ]
  },
  {
   "cell_type": "code",
   "execution_count": 5,
   "metadata": {},
   "outputs": [
    {
     "name": "stdout",
     "output_type": "stream",
     "text": [
      "werasdfaswer\n",
      "asdfas\n",
      "6\n",
      "\n",
      "\n"
     ]
    }
   ],
   "source": [
    "while 1:\n",
    "    try:\n",
    "        n1=input().lower()\n",
    "        n2=input().lower()\n",
    "        if not n1 or not n2:\n",
    "            break\n",
    "        \n",
    "        ans=0\n",
    "        l1=len(n1)\n",
    "        l2=len(n2)\n",
    "        res=[]\n",
    "        \n",
    "        for i in range(l1):\n",
    "            k=i\n",
    "            j=0\n",
    "            while j<l2:\n",
    "                #print(k,j,n2[j])\n",
    "                if k<l1 and j<l2 and n2[j]==n1[k]:\n",
    "                    ans +=1\n",
    "                    k +=1              \n",
    "                else:\n",
    "                    if ans:\n",
    "                        res.append(ans)\n",
    "                        j -=ans\n",
    "                        ans=0\n",
    "                        k=i\n",
    "                \n",
    "                j +=1\n",
    "                \n",
    "        if res:\n",
    "            print(max(res))\n",
    "        else:\n",
    "            print(0)\n",
    "    except Exception as e:\n",
    "        #print(e)\n",
    "        break"
   ]
  },
  {
   "cell_type": "code",
   "execution_count": 3,
   "metadata": {},
   "outputs": [
    {
     "name": "stdout",
     "output_type": "stream",
     "text": [
      "baaabbabababbaabbaaaaaabbaabaabaaabbabbbbaabbaaabbbbbabababaaaaabbbbbabbbabaababaa\n",
      "bbbbbababbabaabbaabba\n",
      "9\n",
      "\n",
      "\n"
     ]
    }
   ],
   "source": [
    "while 1:\n",
    "    try:\n",
    "        n1=input().lower()\n",
    "        n2=input().lower()\n",
    "        if not n1 or not n2:\n",
    "            break\n",
    "        \n",
    "        ans=0\n",
    "        l1=len(n1)\n",
    "        l2=len(n2)\n",
    "        if l1>l2:\n",
    "            n1,n2 = n2,n1\n",
    "            l1,l2 = l2,l1\n",
    "            \n",
    "        \n",
    "        res=[]\n",
    "        \n",
    "        for i in range(l1):\n",
    "            k=i\n",
    "            j=0\n",
    "            while j<l2:\n",
    "                #print(k,j,n2[j])\n",
    "                if k<l1 and n2[j]==n1[k]:\n",
    "                    ans +=1\n",
    "                    k +=1              \n",
    "                else:\n",
    "                    if ans:\n",
    "                        res.append(ans)\n",
    "                        j -=ans\n",
    "                        ans=0\n",
    "                        k=i\n",
    "                \n",
    "                j +=1\n",
    "                \n",
    "        if res:\n",
    "            print(max(res))\n",
    "        else:\n",
    "            print(0)\n",
    "    except Exception as e:\n",
    "        #print(e)\n",
    "        break"
   ]
  },
  {
   "cell_type": "code",
   "execution_count": 5,
   "metadata": {},
   "outputs": [
    {
     "name": "stdout",
     "output_type": "stream",
     "text": [
      "1\n",
      "0 25 75\n",
      "4 18 78\n",
      "8 11 81\n",
      "12 4 84\n",
      "2\n",
      "0 25 75\n",
      "4 18 78\n",
      "8 11 81\n",
      "12 4 84\n",
      "\n"
     ]
    }
   ],
   "source": [
    "while 1:\n",
    "    try:\n",
    "        n=input()\n",
    "        if not n:\n",
    "            break\n",
    "        \n",
    "        res=[[0, 25, 75],[4, 18, 78],[8, 11, 81],[12, 4, 84]]\n",
    "        \n",
    "        for ans in res:\n",
    "            ans=list(map(str, ans))\n",
    "            print(' '.join(ans))\n",
    "    except:\n",
    "        break"
   ]
  },
  {
   "cell_type": "code",
   "execution_count": 6,
   "metadata": {},
   "outputs": [
    {
     "name": "stdout",
     "output_type": "stream",
     "text": [
      "ABBA\n",
      "4\n",
      "abaaab\n",
      "5\n",
      "123321\n",
      "6\n",
      "512233214\n",
      "4\n",
      "\n"
     ]
    }
   ],
   "source": [
    "def slideWindows(s,size):\n",
    "    n=len(s)\n",
    "    for i in range(n-size+1):\n",
    "        tmp=s[i:i+size]\n",
    "        if tmp==tmp[::-1]:\n",
    "            return 1\n",
    "while 1:\n",
    "    try:\n",
    "        s=input()\n",
    "        if not s:\n",
    "            break\n",
    "        \n",
    "        ans=1\n",
    "        \n",
    "        n=len(s)\n",
    "        for size in range(2,n+1):\n",
    "            res=slideWindows(s, size)\n",
    "            if res and ans<size:\n",
    "                ans=size\n",
    "        \n",
    "        print(ans)\n",
    "    except:\n",
    "        break"
   ]
  },
  {
   "cell_type": "code",
   "execution_count": 1,
   "metadata": {},
   "outputs": [
    {
     "name": "stdout",
     "output_type": "stream",
     "text": [
      "1\n",
      "1\n",
      "2\n",
      "3+5\n",
      "3\n",
      "7+9+11\n",
      "4\n",
      "13+15+17+19\n",
      "5\n",
      "21+23+25+27+29\n",
      "6\n",
      "31+33+35+37+39+41\n",
      "\n"
     ]
    }
   ],
   "source": [
    "while 1:\n",
    "    try:\n",
    "        n=input()\n",
    "        if not n:\n",
    "            break\n",
    "        \n",
    "        n=int(n)\n",
    "        ans=n*(n-1)+1\n",
    "        res=[str(x) for x in range(ans,ans+2*n,2)]\n",
    "        print('+'.join(res))\n",
    "\n",
    "    except:\n",
    "        break"
   ]
  },
  {
   "cell_type": "code",
   "execution_count": 2,
   "metadata": {},
   "outputs": [
    {
     "name": "stdout",
     "output_type": "stream",
     "text": [
      "2\n",
      "7\n",
      "3\n",
      "15\n",
      "7\n",
      "77\n",
      "\n"
     ]
    }
   ],
   "source": [
    "while 1:\n",
    "    try:\n",
    "        n=input()\n",
    "        if not n:\n",
    "            break\n",
    "        \n",
    "        n=int(n)\n",
    "        ans=n*(3*n+1)//2\n",
    "        print(ans)\n",
    "\n",
    "    except:\n",
    "        break"
   ]
  },
  {
   "cell_type": "code",
   "execution_count": 5,
   "metadata": {},
   "outputs": [
    {
     "name": "stdout",
     "output_type": "stream",
     "text": [
      "2012 12 31\n",
      "366\n",
      "\n"
     ]
    }
   ],
   "source": [
    "while 1:\n",
    "    try:\n",
    "        n=input()\n",
    "        if not n:\n",
    "            break\n",
    "        \n",
    "        y,m,d=list(map(int, n.split()))\n",
    "        \n",
    "        res=[31,28,31,30,31,30,31,31,30,31,30,31]\n",
    "        \n",
    "        if y%4 == 0 and (y %100!=0 or y%400==0):\n",
    "            leap=1\n",
    "        else:\n",
    "            leap=0\n",
    "            \n",
    "        if leap:\n",
    "            res[1] +=1\n",
    "            \n",
    "        ans=sum(res[:m-1])+d\n",
    "        print(ans)\n",
    "\n",
    "    except:\n",
    "        break"
   ]
  },
  {
   "cell_type": "code",
   "execution_count": 36,
   "metadata": {},
   "outputs": [
    {
     "data": {
      "text/plain": [
       "(time.struct_time(tm_year=2012, tm_mon=12, tm_mday=31, tm_hour=0, tm_min=0, tm_sec=0, tm_wday=0, tm_yday=366, tm_isdst=-1),\n",
       " time.struct_time(tm_year=2012, tm_mon=12, tm_mday=31, tm_hour=10, tm_min=10, tm_sec=10, tm_wday=0, tm_yday=366, tm_isdst=-1),\n",
       " time.struct_time(tm_year=2012, tm_mon=12, tm_mday=31, tm_hour=0, tm_min=0, tm_sec=0, tm_wday=0, tm_yday=366, tm_isdst=-1),\n",
       " 0,\n",
       " 366,\n",
       " 0,\n",
       " 366)"
      ]
     },
     "execution_count": 36,
     "metadata": {},
     "output_type": "execute_result"
    }
   ],
   "source": [
    "from datetime import datetime,date\n",
    "t=date(2012,12,31)\n",
    "t1=date(2012,12,31).timetuple()\n",
    "t2=datetime(2012,12,31,10,10,10).timetuple()\n",
    "t3=datetime(2012,12,31,10,10,10).date().timetuple()\n",
    "t1,t2,t3,t.weekday(),t1[7],t1[6],t1.tm_yday"
   ]
  },
  {
   "cell_type": "code",
   "execution_count": 42,
   "metadata": {},
   "outputs": [
    {
     "data": {
      "text/plain": [
       "(['__add__',\n",
       "  '__class__',\n",
       "  '__delattr__',\n",
       "  '__dir__',\n",
       "  '__doc__',\n",
       "  '__eq__',\n",
       "  '__format__',\n",
       "  '__ge__',\n",
       "  '__getattribute__',\n",
       "  '__gt__',\n",
       "  '__hash__',\n",
       "  '__init__',\n",
       "  '__init_subclass__',\n",
       "  '__le__',\n",
       "  '__lt__',\n",
       "  '__ne__',\n",
       "  '__new__',\n",
       "  '__radd__',\n",
       "  '__reduce__',\n",
       "  '__reduce_ex__',\n",
       "  '__repr__',\n",
       "  '__rsub__',\n",
       "  '__setattr__',\n",
       "  '__sizeof__',\n",
       "  '__str__',\n",
       "  '__sub__',\n",
       "  '__subclasshook__',\n",
       "  'ctime',\n",
       "  'day',\n",
       "  'fromisoformat',\n",
       "  'fromordinal',\n",
       "  'fromtimestamp',\n",
       "  'isocalendar',\n",
       "  'isoformat',\n",
       "  'isoweekday',\n",
       "  'max',\n",
       "  'min',\n",
       "  'month',\n",
       "  'replace',\n",
       "  'resolution',\n",
       "  'strftime',\n",
       "  'timetuple',\n",
       "  'today',\n",
       "  'toordinal',\n",
       "  'weekday',\n",
       "  'year'],\n",
       " '366',\n",
       " '366')"
      ]
     },
     "execution_count": 42,
     "metadata": {},
     "output_type": "execute_result"
    }
   ],
   "source": [
    "dir(t),t.strftime(\"%j\"),t.strftime(\"%j\").lstrip('0')"
   ]
  },
  {
   "cell_type": "code",
   "execution_count": 37,
   "metadata": {},
   "outputs": [
    {
     "name": "stdout",
     "output_type": "stream",
     "text": [
      "2012 12 31\n",
      "366\n",
      "\n"
     ]
    }
   ],
   "source": [
    "while 1:\n",
    "    try:\n",
    "        n=input()\n",
    "        if not n:\n",
    "            break\n",
    "        \n",
    "        y,m,d=list(map(int, n.split()))\n",
    "        \n",
    "        from datetime import date\n",
    "        \n",
    "        ans=date(y,m,d).timetuple().tm_yday\n",
    "        print(ans)\n",
    "\n",
    "    except:\n",
    "        break"
   ]
  },
  {
   "cell_type": "code",
   "execution_count": 11,
   "metadata": {},
   "outputs": [
    {
     "name": "stdout",
     "output_type": "stream",
     "text": [
      "[0, 1, 2, 3, 4, 5, 6, 7, 8, 9] [0, 1, 2, 3, 4]\n"
     ]
    }
   ],
   "source": [
    "a=[x for x in range(10)]\n",
    "b=[y for y in range(5)]\n",
    "print(a,b)"
   ]
  },
  {
   "cell_type": "code",
   "execution_count": 14,
   "metadata": {},
   "outputs": [
    {
     "data": {
      "text/plain": [
       "({0, 1, 2, 3, 4}, {5, 6, 7, 8, 9})"
      ]
     },
     "execution_count": 14,
     "metadata": {},
     "output_type": "execute_result"
    }
   ],
   "source": [
    "aset=set(a)\n",
    "bset=set(b)\n",
    "same=aset.intersection(bset)\n",
    "diff=aset.difference(bset).union(bset.difference(aset))\n",
    "same,diff"
   ]
  },
  {
   "cell_type": "code",
   "execution_count": 43,
   "metadata": {},
   "outputs": [
    {
     "data": {
      "text/plain": [
       "0"
      ]
     },
     "execution_count": 43,
     "metadata": {},
     "output_type": "execute_result"
    }
   ],
   "source": [
    "int()"
   ]
  },
  {
   "cell_type": "code",
   "execution_count": 53,
   "metadata": {},
   "outputs": [
    {
     "name": "stdout",
     "output_type": "stream",
     "text": [
      "7 3\n",
      "0\n",
      "2 2\n",
      "4 0\n",
      "0\n",
      "4\n",
      "0\n",
      "4\n",
      "-1\n",
      "6 2\n",
      "0\n",
      "\n"
     ]
    }
   ],
   "source": [
    "def get_mn():\n",
    "    m,n=input().split()\n",
    "    m,n=int(m),int(n)\n",
    "    return m,n\n",
    "\n",
    "def set_list(m,n):\n",
    "    if 0<m<=9 and 0<n<=9:\n",
    "        print(0)\n",
    "    else:\n",
    "        print(-1)\n",
    "        \n",
    "    l=[[0 for _ in range(n)]] * m   \n",
    "    return l\n",
    "\n",
    "def exchange(l,ex_index):\n",
    "    m,n=len(l),len(l[0])\n",
    "    \n",
    "    for ex in ex_index:\n",
    "        if 0<=ex[0]<m and 0<=ex[1]<n:\n",
    "            flag=1\n",
    "        else:\n",
    "            flag=0\n",
    "    if flag:\n",
    "        print(0)\n",
    "    else:\n",
    "        print(-1)\n",
    "        \n",
    "def row_insert(l,m_i):\n",
    "    m,n=len(l),len(l[0])\n",
    "    if 0<m+1<=9 and 0<n<=9 and m_i<m:\n",
    "        print(0)\n",
    "        l.append([0 for _ in range(n)])\n",
    "    else:\n",
    "        print(-1)\n",
    "    return l\n",
    "\n",
    "def col_insert(l,n_i):\n",
    "    m,n=len(l),len(l[0])\n",
    "    if 0<m<=9 and 0<n+1<=9 and n_i<n:\n",
    "        print(0)\n",
    "        #l=[[0 for _ in range(n+1)]] * m\n",
    "        for tmp in l:\n",
    "            tmp.append(0)\n",
    "    else:\n",
    "        print(-1)\n",
    "    return l\n",
    "\n",
    "def is_trace(m,n,x,y):\n",
    "    if 0<=x<m and 0<=y<n:\n",
    "        print(0)\n",
    "    else:\n",
    "        print(-1)\n",
    "        \n",
    "while 1:\n",
    "    try:\n",
    "        m,n=get_mn()\n",
    "        l=set_list(m,n)\n",
    "        \n",
    "        ex_index=[]\n",
    "        for _ in range(2):\n",
    "            ex_index.append(get_mn())\n",
    "            \n",
    "        #print(ex_index)\n",
    "        exchange(l, ex_index)\n",
    "        \n",
    "        m_i=int(input())\n",
    "        l=row_insert(l,m_i)\n",
    "        n_i=int(input())\n",
    "        l=col_insert(l,n_i)\n",
    "        \n",
    "        x,y=get_mn()\n",
    "        is_trace(m,n,x,y)\n",
    "    except Exception as e:\n",
    "        #print(e)\n",
    "        break"
   ]
  },
  {
   "cell_type": "code",
   "execution_count": 52,
   "metadata": {},
   "outputs": [
    {
     "name": "stdout",
     "output_type": "stream",
     "text": [
      "7 3\n",
      "0\n",
      "2 2 4 0\n",
      "0\n",
      "4\n",
      "0\n",
      "4\n",
      "-1\n",
      "6 2\n",
      "0\n",
      "\n"
     ]
    }
   ],
   "source": [
    "def set_list(m,n):\n",
    "    if 0<m<=9 and 0<n<=9:\n",
    "        print(0)\n",
    "    else:\n",
    "        print(-1)\n",
    "        \n",
    "    l=[[0 for _ in range(n)]] * m   \n",
    "    return l\n",
    "\n",
    "def exchange(l,ex_index):\n",
    "    m,n=len(l),len(l[0])\n",
    "    a,b,c,d=ex_index\n",
    "    if 0<=a<m and 0<=b<n and 0<=c<m and 0<=d<n:\n",
    "        flag=1\n",
    "    else:\n",
    "        flag=0\n",
    "        \n",
    "    if flag:\n",
    "        print(0)\n",
    "    else:\n",
    "        print(-1)\n",
    "        \n",
    "def row_insert(l,m_i):\n",
    "    m,n=len(l),len(l[0])\n",
    "    if 0<m+1<=9 and 0<n<=9 and m_i<m:\n",
    "        print(0)\n",
    "        l.append([0 for _ in range(n)])\n",
    "    else:\n",
    "        print(-1)\n",
    "    return l\n",
    "\n",
    "def col_insert(l,n_i):\n",
    "    m,n=len(l),len(l[0])\n",
    "    if 0<m<=9 and 0<n+1<=9 and n_i<n:\n",
    "        print(0)\n",
    "        #l=[[0 for _ in range(n+1)]] * m\n",
    "        for tmp in l:\n",
    "            tmp.append(0)\n",
    "    else:\n",
    "        print(-1)\n",
    "    return l\n",
    "\n",
    "def is_trace(m,n,x,y):\n",
    "    if 0<=x<m and 0<=y<n:\n",
    "        print(0)\n",
    "    else:\n",
    "        print(-1)\n",
    "        \n",
    "while 1:\n",
    "    try:\n",
    "        m,n=input().split()\n",
    "        m,n=int(m),int(n)\n",
    "        l=set_list(m,n)\n",
    "        \n",
    "        \n",
    "        tmp=input().split()\n",
    "        ex_index=list(map(int,tmp))\n",
    "        exchange(l, ex_index)\n",
    "        \n",
    "        m_i=int(input())\n",
    "        l=row_insert(l,m_i)\n",
    "        n_i=int(input())\n",
    "        l=col_insert(l,n_i)\n",
    "        \n",
    "        x,y=input().split()\n",
    "        x,y=int(x),int(y)\n",
    "        is_trace(m,n,x,y)\n",
    "    except Exception as e:\n",
    "        #print(e)\n",
    "        break"
   ]
  },
  {
   "cell_type": "code",
   "execution_count": 72,
   "metadata": {},
   "outputs": [
    {
     "data": {
      "text/plain": [
       "(97, 122, 65, 90, 48, 57, 33, 47, 58, 64, 91, 96, 123, 126)"
      ]
     },
     "execution_count": 72,
     "metadata": {},
     "output_type": "execute_result"
    }
   ],
   "source": [
    "ord('a'),ord('z'),ord('A'),ord('Z'),ord('0'),ord('9'),int(0x21),int(0x2F),int(0x3a),int(0x40),int(0x5b),int(0x60),int(0x7b),int(0x7e)"
   ]
  },
  {
   "cell_type": "code",
   "execution_count": 74,
   "metadata": {},
   "outputs": [
    {
     "data": {
      "text/plain": [
       "(['a',\n",
       "  'b',\n",
       "  'c',\n",
       "  'd',\n",
       "  'e',\n",
       "  'f',\n",
       "  'g',\n",
       "  'h',\n",
       "  'i',\n",
       "  'j',\n",
       "  'k',\n",
       "  'l',\n",
       "  'm',\n",
       "  'n',\n",
       "  'o',\n",
       "  'p',\n",
       "  'q',\n",
       "  'r',\n",
       "  's',\n",
       "  't',\n",
       "  'u',\n",
       "  'v',\n",
       "  'w',\n",
       "  'x',\n",
       "  'y',\n",
       "  'z'],\n",
       " ['A',\n",
       "  'B',\n",
       "  'C',\n",
       "  'D',\n",
       "  'E',\n",
       "  'F',\n",
       "  'G',\n",
       "  'H',\n",
       "  'I',\n",
       "  'J',\n",
       "  'K',\n",
       "  'L',\n",
       "  'M',\n",
       "  'N',\n",
       "  'O',\n",
       "  'P',\n",
       "  'Q',\n",
       "  'R',\n",
       "  'S',\n",
       "  'T',\n",
       "  'U',\n",
       "  'V',\n",
       "  'W',\n",
       "  'X',\n",
       "  'Y',\n",
       "  'Z'],\n",
       " ['0', '1', '2', '3', '4', '5', '6', '7', '8', '9'],\n",
       " ['!',\n",
       "  '\"',\n",
       "  '#',\n",
       "  '$',\n",
       "  '%',\n",
       "  '&',\n",
       "  \"'\",\n",
       "  '(',\n",
       "  ')',\n",
       "  '*',\n",
       "  '+',\n",
       "  ',',\n",
       "  '-',\n",
       "  '.',\n",
       "  '/',\n",
       "  ':',\n",
       "  ';',\n",
       "  '<',\n",
       "  '=',\n",
       "  '>',\n",
       "  '?',\n",
       "  '@',\n",
       "  '[',\n",
       "  '\\\\',\n",
       "  ']',\n",
       "  '^',\n",
       "  '_',\n",
       "  '`',\n",
       "  '{',\n",
       "  '|',\n",
       "  '}',\n",
       "  '~'])"
      ]
     },
     "execution_count": 74,
     "metadata": {},
     "output_type": "execute_result"
    }
   ],
   "source": [
    "ll=[chr(i) for i in range(97,123)]\n",
    "lu=[chr(i) for i in range(65,91)]\n",
    "num=[chr(i) for i in range(48,58)]\n",
    "sym=[chr(i) for i in range(33,48)]+[chr(i) for i in range(58,65)]+[chr(i) for i in range(91,97)]+[chr(i) for i in range(123,127)]\n",
    "        \n",
    "ll,lu,num,sym"
   ]
  },
  {
   "cell_type": "code",
   "execution_count": 75,
   "metadata": {},
   "outputs": [
    {
     "name": "stdout",
     "output_type": "stream",
     "text": [
      "38$@NoNoNo\n",
      "VERY_SECURE\n",
      "38NoNoNo\n",
      "STRONG\n",
      "38NoNo\n",
      "AVERAGE\n",
      "38abc\n",
      "WEAK\n",
      "\n"
     ]
    }
   ],
   "source": [
    "while 1:\n",
    "    try:\n",
    "        s=input()\n",
    "        if not s:\n",
    "            break\n",
    "        n=len(s)\n",
    "        ans=0\n",
    "        if n<5:\n",
    "            ans +=5\n",
    "        elif 4<n<7:\n",
    "            ans +=10\n",
    "        else:\n",
    "            ans +=25\n",
    "        ll=[chr(i) for i in range(97,123)]\n",
    "        lu=[chr(i) for i in range(65,91)]\n",
    "        num=[chr(i) for i in range(48,58)]\n",
    "        sym=[chr(i) for i in range(33,48)]+[chr(i) for i in range(58,65)]+[chr(i) for i in range(91,97)]+[chr(i) for i in range(123,127)]\n",
    "        \n",
    "        ll_count=lu_count=num_count=sym_count=0\n",
    "        for tmp in s:\n",
    "            if tmp in ll:\n",
    "                ll_count +=1\n",
    "            elif tmp in lu:\n",
    "                lu_count +=1\n",
    "            elif tmp in num:\n",
    "                num_count +=1\n",
    "            elif tmp in sym:\n",
    "                sym_count +=1\n",
    "                \n",
    "        if (ll_count>0 and lu_count==0) or (ll_count==0 and lu_count>0):\n",
    "            ans +=10\n",
    "            flag=1\n",
    "        elif ll_count>0 and lu_count>0:\n",
    "            ans +=20\n",
    "            flag=2\n",
    "        else:\n",
    "            flag=0\n",
    "            \n",
    "        if num_count>1:\n",
    "            ans +=20\n",
    "        elif num_count==1:\n",
    "            ans +=10\n",
    "            \n",
    "        if sym_count>1:\n",
    "            ans +=25\n",
    "        elif sym_count==1:\n",
    "            ans +=10\n",
    "            \n",
    "            \n",
    "        if flag==1:\n",
    "            if num_count>0:\n",
    "                if sym_count>0:\n",
    "                    ans +=3\n",
    "                else:\n",
    "                    ans +=2\n",
    "        elif flag==2:\n",
    "            if num_count>0:\n",
    "                if sym_count>0:\n",
    "                    ans +=5\n",
    "                else:\n",
    "                    ans +=2\n",
    "        if ans>=90:\n",
    "            print('VERY_SECURE')\n",
    "        elif ans>=80:\n",
    "            print('SECURE')\n",
    "        elif ans>=70:\n",
    "            print('VERY_STRONG')\n",
    "        elif ans>=60:\n",
    "            print('STRONG')\n",
    "        elif ans>=50:\n",
    "            print('AVERAGE')\n",
    "        elif ans>=25:\n",
    "            print('WEAK')\n",
    "        else:\n",
    "            print('VERY_WEAK')\n",
    "\n",
    "    except:\n",
    "        break"
   ]
  },
  {
   "cell_type": "code",
   "execution_count": 7,
   "metadata": {},
   "outputs": [
    {
     "name": "stdout",
     "output_type": "stream",
     "text": [
      "2 2\n",
      "6\n",
      "1 1\n",
      "2\n",
      "\n"
     ]
    }
   ],
   "source": [
    "while 1:\n",
    "    try:\n",
    "        m,n=input().split()\n",
    "        if not m or not n:\n",
    "            break\n",
    "        \n",
    "        m,n=int(m)+1,int(n)+1\n",
    "        dp=[[1 for _ in range(m)]]+[[1]+[0 for _ in range(m-1)]]* (n-1)\n",
    "        for i in range(1,n):\n",
    "            for j in range(1,m):\n",
    "                dp[i][j]=dp[i-1][j]+dp[i][j-1]\n",
    "        \n",
    "        ans=dp[n-1][m-1]\n",
    "        print(ans)\n",
    "\n",
    "    except:\n",
    "        break"
   ]
  },
  {
   "cell_type": "code",
   "execution_count": 8,
   "metadata": {},
   "outputs": [
    {
     "name": "stdout",
     "output_type": "stream",
     "text": [
      "5 7\n",
      "35\n",
      "12 4\n",
      "12\n",
      "\n"
     ]
    }
   ],
   "source": [
    "while 1:\n",
    "    try:\n",
    "        m,n=input().split()\n",
    "        if not m or not n:\n",
    "            break\n",
    "        \n",
    "        m,n=int(m),int(n)\n",
    "        if m>n: \n",
    "            m,n = n,m\n",
    "        \n",
    "        for i in range(1,m+1):\n",
    "            tmp=n*i\n",
    "            if tmp % m==0:\n",
    "                ans=tmp\n",
    "                break\n",
    "                \n",
    "        print(ans)\n",
    "\n",
    "    except:\n",
    "        break"
   ]
  },
  {
   "cell_type": "code",
   "execution_count": 2,
   "metadata": {},
   "outputs": [
    {
     "name": "stdout",
     "output_type": "stream",
     "text": [
      "\n"
     ]
    }
   ],
   "source": [
    "while 1:\n",
    "    try:\n",
    "        n=input()\n",
    "        if not n:\n",
    "            break\n",
    "        \n",
    "        s=bin(int(n))\n",
    "        ans=0\n",
    "        tmp=0\n",
    "        for i in s[2:]:\n",
    "            if i=='1':\n",
    "                tmp +=1\n",
    "            else:\n",
    "                if tmp>ans:\n",
    "                    ans=tmp\n",
    "                tmp=0\n",
    "        \n",
    "        if tmp>ans:\n",
    "            ans=tmp\n",
    "            \n",
    "        print(ans)\n",
    "\n",
    "    except:\n",
    "        break"
   ]
  },
  {
   "cell_type": "code",
   "execution_count": 15,
   "metadata": {},
   "outputs": [
    {
     "data": {
      "text/plain": [
       "(10, 10, 3, 3, '0b11', '0xa')"
      ]
     },
     "execution_count": 15,
     "metadata": {},
     "output_type": "execute_result"
    }
   ],
   "source": [
    "int('0xA',base=16),int(0xA),int('0b11',base=2),int(0b11),bin(3),hex(10)"
   ]
  },
  {
   "cell_type": "code",
   "execution_count": 16,
   "metadata": {},
   "outputs": [
    {
     "name": "stdout",
     "output_type": "stream",
     "text": [
      "0xA\n",
      "10\n",
      "\n"
     ]
    }
   ],
   "source": [
    "while 1:\n",
    "    try:\n",
    "        n=input()\n",
    "        if not n:\n",
    "            break\n",
    "        \n",
    "        ans=int(n,base=16)\n",
    "        print(ans)\n",
    "\n",
    "    except:\n",
    "        break"
   ]
  },
  {
   "cell_type": "code",
   "execution_count": null,
   "metadata": {},
   "outputs": [],
   "source": []
  }
 ],
 "metadata": {
  "kernelspec": {
   "display_name": "Python 3",
   "language": "python",
   "name": "python3"
  },
  "language_info": {
   "codemirror_mode": {
    "name": "ipython",
    "version": 3
   },
   "file_extension": ".py",
   "mimetype": "text/x-python",
   "name": "python",
   "nbconvert_exporter": "python",
   "pygments_lexer": "ipython3",
   "version": "3.7.0"
  }
 },
 "nbformat": 4,
 "nbformat_minor": 2
}
