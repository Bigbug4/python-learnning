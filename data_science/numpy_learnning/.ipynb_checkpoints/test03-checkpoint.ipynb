{
 "cells": [
  {
   "cell_type": "code",
   "execution_count": 11,
   "metadata": {},
   "outputs": [],
   "source": [
    "import numpy as np"
   ]
  },
  {
   "cell_type": "code",
   "execution_count": 20,
   "metadata": {},
   "outputs": [
    {
     "data": {
      "text/plain": [
       "[[43.6, 45.1, 58.8, 53],\n",
       " [47, 44.5, 58.3, 52.6],\n",
       " [46.7, 44.2, 57.9, 52.2],\n",
       " [46.5, 44.1, 57.6, 51.9],\n",
       " [46.2, 43.9, 57.2, 51.5]]"
      ]
     },
     "execution_count": 20,
     "metadata": {},
     "output_type": "execute_result"
    }
   ],
   "source": [
    "temperature = [[ 43.6,  45.1,  58.8,  53 ],\n",
    " [ 47, 44.5,  58.3,  52.6],\n",
    " [ 46.7, 44.2,  57.9,  52.2],\n",
    " [ 46.5,  44.1,  57.6,  51.9],\n",
    " [ 46.2,  43.9,  57.2,  51.5]]\n",
    "\n",
    "temperature"
   ]
  },
  {
   "cell_type": "code",
   "execution_count": 18,
   "metadata": {},
   "outputs": [],
   "source": [
    "import pandas as pd"
   ]
  },
  {
   "cell_type": "code",
   "execution_count": 31,
   "metadata": {},
   "outputs": [
    {
     "data": {
      "text/html": [
       "<div>\n",
       "<style scoped>\n",
       "    .dataframe tbody tr th:only-of-type {\n",
       "        vertical-align: middle;\n",
       "    }\n",
       "\n",
       "    .dataframe tbody tr th {\n",
       "        vertical-align: top;\n",
       "    }\n",
       "\n",
       "    .dataframe thead th {\n",
       "        text-align: right;\n",
       "    }\n",
       "</style>\n",
       "<table border=\"1\" class=\"dataframe\">\n",
       "  <thead>\n",
       "    <tr style=\"text-align: right;\">\n",
       "      <th></th>\n",
       "      <th>0:00</th>\n",
       "      <th>6:00</th>\n",
       "      <th>12:00</th>\n",
       "      <th>18:00</th>\n",
       "    </tr>\n",
       "  </thead>\n",
       "  <tbody>\n",
       "    <tr>\n",
       "      <th>Monday</th>\n",
       "      <td>43.6</td>\n",
       "      <td>45.1</td>\n",
       "      <td>58.8</td>\n",
       "      <td>53.0</td>\n",
       "    </tr>\n",
       "    <tr>\n",
       "      <th>Tuesday</th>\n",
       "      <td>47.0</td>\n",
       "      <td>44.5</td>\n",
       "      <td>58.3</td>\n",
       "      <td>52.6</td>\n",
       "    </tr>\n",
       "    <tr>\n",
       "      <th>Wednesday</th>\n",
       "      <td>46.7</td>\n",
       "      <td>44.2</td>\n",
       "      <td>57.9</td>\n",
       "      <td>52.2</td>\n",
       "    </tr>\n",
       "    <tr>\n",
       "      <th>Thursday</th>\n",
       "      <td>46.5</td>\n",
       "      <td>44.1</td>\n",
       "      <td>57.6</td>\n",
       "      <td>51.9</td>\n",
       "    </tr>\n",
       "    <tr>\n",
       "      <th>Friday</th>\n",
       "      <td>46.2</td>\n",
       "      <td>43.9</td>\n",
       "      <td>57.2</td>\n",
       "      <td>51.5</td>\n",
       "    </tr>\n",
       "  </tbody>\n",
       "</table>\n",
       "</div>"
      ],
      "text/plain": [
       "           0:00  6:00  12:00  18:00\n",
       "Monday     43.6  45.1   58.8   53.0\n",
       "Tuesday    47.0  44.5   58.3   52.6\n",
       "Wednesday  46.7  44.2   57.9   52.2\n",
       "Thursday   46.5  44.1   57.6   51.9\n",
       "Friday     46.2  43.9   57.2   51.5"
      ]
     },
     "execution_count": 31,
     "metadata": {},
     "output_type": "execute_result"
    }
   ],
   "source": [
    "df_temperature = pd.DataFrame(temperature,index=['Monday','Tuesday','Wednesday','Thursday','Friday'],columns=['0:00','6:00','12:00','18:00'])\n",
    "df_temperature.to_csv('df_temperature.csv')\n",
    "df_temperature                                            "
   ]
  },
  {
   "cell_type": "code",
   "execution_count": 32,
   "metadata": {},
   "outputs": [
    {
     "data": {
      "text/plain": [
       "array([[43.6, 45.1, 58.8, 53. ],\n",
       "       [47. , 44.5, 58.3, 52.6],\n",
       "       [46.7, 44.2, 57.9, 52.2],\n",
       "       [46.5, 44.1, 57.6, 51.9],\n",
       "       [46.2, 43.9, 57.2, 51.5]])"
      ]
     },
     "execution_count": 32,
     "metadata": {},
     "output_type": "execute_result"
    }
   ],
   "source": [
    "temperature_data = np.array(temperature)\n",
    "temperature_data"
   ]
  },
  {
   "cell_type": "code",
   "execution_count": 36,
   "metadata": {},
   "outputs": [
    {
     "name": "stdout",
     "output_type": "stream",
     "text": [
      "[[46.6 48.1 61.8 56. ]\n",
      " [50.  47.5 61.3 55.6]\n",
      " [49.7 47.2 60.9 55.2]\n",
      " [49.5 47.1 60.6 54.9]\n",
      " [49.2 46.9 60.2 54.5]]\n",
      "[46.6 48.1 61.8 56. ]\n",
      "[47.1 46.9]\n",
      "[46.6 48.1 61.8 47.5 61.3 49.7 47.2 60.9 49.5 47.1 60.6 49.2 46.9 60.2]\n"
     ]
    }
   ],
   "source": [
    "temperatures_fixed = temperature_data + 3\n",
    "print(temperatures_fixed)\n",
    "\n",
    "monday_temperatures = temperatures_fixed[0,:]\n",
    "print(monday_temperatures)\n",
    "\n",
    "thursday_friday_morning = temperatures_fixed[3:5,1]\n",
    "print(thursday_friday_morning)\n",
    "\n",
    "temperature_extremes =  temperatures_fixed[( temperatures_fixed < 50) | ( temperatures_fixed >60)]\n",
    "print(temperature_extremes)"
   ]
  },
  {
   "cell_type": "code",
   "execution_count": 50,
   "metadata": {},
   "outputs": [
    {
     "data": {
      "text/plain": [
       "Monday       43.6\n",
       "Tuesday      47.0\n",
       "Wednesday    46.7\n",
       "Thursday     46.5\n",
       "Friday       46.2\n",
       "Name: 0:00, dtype: float64"
      ]
     },
     "execution_count": 50,
     "metadata": {},
     "output_type": "execute_result"
    }
   ],
   "source": [
    "df_temperature.loc[:'']"
   ]
  },
  {
   "cell_type": "code",
   "execution_count": null,
   "metadata": {},
   "outputs": [],
   "source": [
    "df_temperature.loc[:,'0:00']"
   ]
  }
 ],
 "metadata": {
  "kernelspec": {
   "display_name": "Python 3",
   "language": "python",
   "name": "python3"
  },
  "language_info": {
   "codemirror_mode": {
    "name": "ipython",
    "version": 3
   },
   "file_extension": ".py",
   "mimetype": "text/x-python",
   "name": "python",
   "nbconvert_exporter": "python",
   "pygments_lexer": "ipython3",
   "version": "3.7.0"
  }
 },
 "nbformat": 4,
 "nbformat_minor": 2
}
