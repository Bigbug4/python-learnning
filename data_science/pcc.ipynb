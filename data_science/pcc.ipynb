{
 "cells": [
  {
   "cell_type": "code",
   "execution_count": 4,
   "metadata": {},
   "outputs": [
    {
     "data": {
      "text/plain": [
       "274877906944"
      ]
     },
     "execution_count": 4,
     "metadata": {},
     "output_type": "execute_result"
    }
   ],
   "source": [
    "pow(2,38)"
   ]
  },
  {
   "cell_type": "code",
   "execution_count": 3,
   "metadata": {},
   "outputs": [
    {
     "data": {
      "text/plain": [
       "\"i hope you didnt translate it by hand. thats what computers are for. doing it in by hand is inefficient and that's why this text is so long. using string.maketrans() is recommended. now apply on the url.\""
      ]
     },
     "execution_count": 3,
     "metadata": {},
     "output_type": "execute_result"
    }
   ],
   "source": [
    "text1 = []\n",
    "text = \"g fmnc wms bgblr rpylqjyrc gr zw fylb. rfyrq ufyr amknsrcpq ypc dmp. bmgle gr gl zw fylb gq glcddgagclr ylb rfyr'q ufw rfgq rcvr gq qm jmle. sqgle qrpgle.kyicrpylq() gq pcamkkclbcb. lmu ynnjw ml rfc spj.\"\n",
    "string1 = [chr(i) for i in range(65,91)]\n",
    "string = [chr(i) for i in range(97,123)]\n",
    "# print(str(1) + str(1))\n",
    "for i in text:\n",
    "    if i in string:\n",
    "        i_index = string.index(i)\n",
    "        if i_index < 24:\n",
    "            text1.append(string[i_index + 2])\n",
    "        else:\n",
    "            text1.append(string[i_index - 24 ])\n",
    "    else:\n",
    "        text1.append(i)\n",
    "        \n",
    "''.join(text1)\n"
   ]
  },
  {
   "cell_type": "code",
   "execution_count": 2,
   "metadata": {},
   "outputs": [
    {
     "data": {
      "text/plain": [
       "\"i hope you didnt translate it by hand. thats what computers are for. doing it in by hand is inefficient and that's why this text is so long. using string.maketrans() is recommended. now apply on the url.\""
      ]
     },
     "execution_count": 2,
     "metadata": {},
     "output_type": "execute_result"
    }
   ],
   "source": [
    "text = \"g fmnc wms bgblr rpylqjyrc gr zw fylb. rfyrq ufyr amknsrcpq ypc dmp. bmgle gr gl zw fylb gq glcddgagclr ylb rfyr'q ufw rfgq rcvr gq qm jmle. sqgle qrpgle.kyicrpylq() gq pcamkkclbcb. lmu ynnjw ml rfc spj.\"\n",
    "string = [chr(i) for i in range(97,123)]\n",
    "string1 = string[2:]\n",
    "string1.extend(string[:2])\n",
    "string = ''.join(string)\n",
    "string1 = ''.join(string1)\n",
    "\n",
    "tran = text.maketrans(string,string1)\n",
    "text.translate(tran)"
   ]
  },
  {
   "cell_type": "code",
   "execution_count": 19,
   "metadata": {},
   "outputs": [
    {
     "name": "stdout",
     "output_type": "stream",
     "text": [
      "dict_items([('#', 6115), ('l', 1), ('{', 6046), ('e', 1), (']', 6152), ('!', 6079), ('@', 6157), ('a', 1), ('+', 6066), ('[', 6108), ('^', 6030), ('&', 6043), ('u', 1), ('i', 1), ('q', 1), ('t', 1), ('}', 6105), ('y', 1), ('%', 6104), (')', 6186), ('*', 6034), ('_', 6112), ('(', 6154), ('$', 6046)])\n",
      "dict_keys(['#', 'l', '{', 'e', ']', '!', '@', 'a', '+', '[', '^', '&', 'u', 'i', 'q', 't', '}', 'y', '%', ')', '*', '_', '(', '$'])\n",
      "dict_values([6115, 1, 6046, 1, 6152, 6079, 6157, 1, 6066, 6108, 6030, 6043, 1, 1, 1, 1, 6105, 1, 6104, 6186, 6034, 6112, 6154, 6046])\n",
      "[('l', 1), ('e', 1), ('a', 1), ('u', 1), ('i', 1), ('q', 1), ('t', 1), ('y', 1), ('^', 6030), ('*', 6034), ('&', 6043), ('{', 6046), ('$', 6046), ('+', 6066), ('!', 6079), ('%', 6104), ('}', 6105), ('[', 6108), ('_', 6112), ('#', 6115), (']', 6152), ('(', 6154), ('@', 6157), (')', 6186)]\n"
     ]
    },
    {
     "data": {
      "text/plain": [
       "[(')', 6186),\n",
       " ('@', 6157),\n",
       " ('(', 6154),\n",
       " (']', 6152),\n",
       " ('#', 6115),\n",
       " ('_', 6112),\n",
       " ('[', 6108),\n",
       " ('}', 6105),\n",
       " ('%', 6104),\n",
       " ('!', 6079),\n",
       " ('+', 6066),\n",
       " ('{', 6046),\n",
       " ('$', 6046),\n",
       " ('&', 6043),\n",
       " ('*', 6034),\n",
       " ('^', 6030),\n",
       " ('l', 1),\n",
       " ('e', 1),\n",
       " ('a', 1),\n",
       " ('u', 1),\n",
       " ('i', 1),\n",
       " ('q', 1),\n",
       " ('t', 1),\n",
       " ('y', 1)]"
      ]
     },
     "execution_count": 19,
     "metadata": {},
     "output_type": "execute_result"
    }
   ],
   "source": [
    "with open(\"book.txt\",\"r\") as f:\n",
    "    books = f.readlines()\n",
    "\n",
    "books = ''.join(books)\n",
    "#print(len(books))\n",
    "books = books.replace(\"\\n\",\"\")\n",
    "#print(len(books))\n",
    "symbol = set(books)\n",
    "count = dict()\n",
    "\n",
    "for i in symbol:\n",
    "    count[i] = books.count(i)\n",
    "\n",
    "\n",
    "print(count.items())\n",
    "print(count.keys())\n",
    "print(count.values())\n",
    "\n",
    "L=list(count.items())       # 得到列表: L=[('a', 1), ('c', 3), ('b', 2)]\n",
    " \n",
    "L.sort(key=lambda x:x[1],reverse=False)  # 按列表中，每一个元组的第二个元素从小到大排序。\n",
    "                                         # x代表从L中遍历出的一个元组 \n",
    "print(L)  \n",
    "\n",
    "count_order = sorted(count.items(),key=lambda x:x[1],reverse=True)\n",
    "count_order"
   ]
  },
  {
   "cell_type": "code",
   "execution_count": 12,
   "metadata": {},
   "outputs": [
    {
     "data": {
      "text/plain": [
       "<bound method Counter.most_common of Counter({')': 6186, '@': 6157, '(': 6154, ']': 6152, '#': 6115, '_': 6112, '[': 6108, '}': 6105, '%': 6104, '!': 6079, '+': 6066, '$': 6046, '{': 6046, '&': 6043, '*': 6034, '^': 6030, 'e': 1, 'q': 1, 'u': 1, 'a': 1, 'l': 1, 'i': 1, 't': 1, 'y': 1})>"
      ]
     },
     "execution_count": 12,
     "metadata": {},
     "output_type": "execute_result"
    }
   ],
   "source": [
    "from collections import Counter\n",
    "\n",
    "Counter(books).most_common"
   ]
  },
  {
   "cell_type": "code",
   "execution_count": 30,
   "metadata": {},
   "outputs": [
    {
     "data": {
      "text/plain": [
       "'linkedlist'"
      ]
     },
     "execution_count": 30,
     "metadata": {},
     "output_type": "execute_result"
    }
   ],
   "source": [
    "with open(\"candle.txt\",\"r\") as f:\n",
    "    candle= f.read()\n",
    "\n",
    "candle = candle.replace(\"\\n\",\"\")   \n",
    "import re\n",
    "pattern = re.compile(\"[^A-Z][A-Z]{3}([a-z])[A-Z]{3}[^A-Z]\")\n",
    "results = re.findall(pattern,candle)\n",
    "\n",
    "''.join(results)"
   ]
  }
 ],
 "metadata": {
  "kernelspec": {
   "display_name": "Python 3",
   "language": "python",
   "name": "python3"
  },
  "language_info": {
   "codemirror_mode": {
    "name": "ipython",
    "version": 3
   },
   "file_extension": ".py",
   "mimetype": "text/x-python",
   "name": "python",
   "nbconvert_exporter": "python",
   "pygments_lexer": "ipython3",
   "version": "3.6.4"
  }
 },
 "nbformat": 4,
 "nbformat_minor": 2
}
