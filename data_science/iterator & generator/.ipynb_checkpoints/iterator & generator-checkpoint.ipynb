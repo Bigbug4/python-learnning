{
 "cells": [
  {
   "cell_type": "code",
   "execution_count": 36,
   "metadata": {},
   "outputs": [
    {
     "name": "stdout",
     "output_type": "stream",
     "text": [
      "(0, 'a')\n",
      "(1, 'b')\n",
      "(2, 'c')\n",
      "a\n",
      "b\n"
     ]
    },
    {
     "data": {
      "text/plain": [
       "'c'"
      ]
     },
     "execution_count": 36,
     "metadata": {},
     "output_type": "execute_result"
    }
   ],
   "source": [
    "l =list('abc')\n",
    "for i in enumerate(l):\n",
    "    print(i)\n",
    "l = iter(l)\n",
    "print(next(l))\n",
    "print(next(l))\n",
    "l.__next__()"
   ]
  },
  {
   "cell_type": "code",
   "execution_count": 37,
   "metadata": {},
   "outputs": [
    {
     "data": {
      "text/plain": [
       "'a'"
      ]
     },
     "execution_count": 37,
     "metadata": {},
     "output_type": "execute_result"
    }
   ],
   "source": [
    "l =list('abc')\n",
    "l= l.__iter__()\n",
    "next(l)"
   ]
  },
  {
   "cell_type": "code",
   "execution_count": 88,
   "metadata": {},
   "outputs": [
    {
     "name": "stdout",
     "output_type": "stream",
     "text": [
      "c\n",
      "b\n",
      "a\n"
     ]
    }
   ],
   "source": [
    "l =list('abc')\n",
    "ll = reversed(l)\n",
    "for i in range(3):\n",
    "    print(next(ll))"
   ]
  },
  {
   "cell_type": "code",
   "execution_count": 1,
   "metadata": {},
   "outputs": [
    {
     "name": "stdout",
     "output_type": "stream",
     "text": [
      "['1', '2', '3']\n",
      "[1, 2, 3]\n",
      "6\n",
      "6\n",
      "6\n",
      "[(1, '1'), (2, '2'), (3, '3')]\n",
      "[(1, '1'), (1, '2'), (1, '3'), (2, '1'), (2, '2'), (2, '3'), (3, '1'), (3, '2'), (3, '3')]\n"
     ]
    },
    {
     "data": {
      "text/plain": [
       "[[(1, '1'), (2, '1'), (3, '1')],\n",
       " [(1, '2'), (2, '2'), (3, '2')],\n",
       " [(1, '3'), (2, '3'), (3, '3')]]"
      ]
     },
     "execution_count": 1,
     "metadata": {},
     "output_type": "execute_result"
    }
   ],
   "source": [
    "ll =list('123')\n",
    "print(ll)\n",
    "l=list(map(int,ll))\n",
    "print(l)\n",
    "print(sum(l))\n",
    "\n",
    "from functools import reduce\n",
    "\n",
    "def g(x,y):\n",
    "    return x+y\n",
    "print(reduce(g,l))\n",
    "\n",
    "print(reduce(lambda x,y:x+y,l))\n",
    "\n",
    "list(filter(lambda x:x%2!=0,l))\n",
    "\n",
    "print(list(zip(l,ll)))\n",
    "print([(x, y) for x in l for y in ll])\n",
    "[[(x, y) for x in l ] for y in ll]"
   ]
  },
  {
   "cell_type": "code",
   "execution_count": 21,
   "metadata": {},
   "outputs": [
    {
     "name": "stdout",
     "output_type": "stream",
     "text": [
      "[[ 0  1  2  3  4]\n",
      " [ 5  6  7  8  9]\n",
      " [10 11 12 13 14]]\n",
      "[[ 0  1  2  3  4]\n",
      " [ 5  6  7  8  9]\n",
      " [10 11 12 13 14]]\n",
      "[[ 0  1  2  3  4]\n",
      " [ 5  6  7  8  9]\n",
      " [10 11 12 13 14]]\n",
      "[[ 0  1  2  3  4]\n",
      " [ 5  6  7  8  9]\n",
      " [10 11 12 13 14]]\n",
      "[[ 0.  1.  2.  3.  4.]\n",
      " [ 5.  6.  7.  8.  9.]\n",
      " [10. 11. 12. 13. 14.]]\n"
     ]
    },
    {
     "data": {
      "text/plain": [
       "array([[ 0.,  1.,  2.,  3.,  4.],\n",
       "       [ 5.,  6.,  7.,  8.,  9.],\n",
       "       [10., 11., 12., 13., 14.]])"
      ]
     },
     "execution_count": 21,
     "metadata": {},
     "output_type": "execute_result"
    }
   ],
   "source": [
    "import numpy as np\n",
    "a = np.arange(15).reshape(3,5)\n",
    "print(a)\n",
    "# np.save\n",
    "np.save('a.npy',a)\n",
    "b= np.load('a.npy')\n",
    "print(b)\n",
    "# 多条\n",
    "np.savez(\"data.npz\",a,b_arr=b)\n",
    "d=np.load('data.npz')\n",
    "print(d['arr_0'])\n",
    "print(d['b_arr'])\n",
    "# txt\n",
    "np.savetxt('a.txt',a,fmt=\"%d\")\n",
    "e=np.loadtxt('a.txt')\n",
    "print(e)\n",
    "# csv\n",
    "np.savetxt('a.csv',a,fmt=\"%d\",delimiter=\",\")\n",
    "f=np.loadtxt('a.csv',delimiter=\",\")\n",
    "f"
   ]
  },
  {
   "cell_type": "code",
   "execution_count": 172,
   "metadata": {},
   "outputs": [
    {
     "name": "stdout",
     "output_type": "stream",
     "text": [
      "b'\\x80\\x03]q\\x00(K\\x00K\\x02K\\x03K\\x04K\\x06K\\x08K\\te.'\n",
      "[0, 2, 3, 4, 6, 8, 9]\n",
      "[0, 2, 3, 4, 6, 8, 9]\n",
      "[0, 2, 3, 4, 6, 8, 9]\n"
     ]
    },
    {
     "data": {
      "text/plain": [
       "[0, 2, 3, 4, 6, 8, 9]"
      ]
     },
     "execution_count": 172,
     "metadata": {},
     "output_type": "execute_result"
    }
   ],
   "source": [
    "import pickle\n",
    "pkl1= pickle.dumps(newlist1)\n",
    "print(pkl1)\n",
    "newlist3 = pickle.loads(pkl1)\n",
    "print(newlist3)\n",
    "pkl2= pickle.dumps(newlist3)\n",
    "\n",
    "# dumps,loads 多条文件读写 \n",
    "with open('data.pkl', 'wb') as f:\n",
    "    pickle.dump(newlist1,f)\n",
    "    pickle.dump(newlist3,f)\n",
    "    \n",
    "with open('data.pkl', 'rb') as f:\n",
    "    newlist4 = pickle.load(f)\n",
    "    print(newlist4)\n",
    "    newlist5 = pickle.load(f)\n",
    "    print(newlist5)\n",
    "\n",
    "# dump,load 单条文件读写   \n",
    "output = open('data1.pkl', 'wb')\n",
    "pickle.dump(newlist1, output)\n",
    "output.close()\n",
    "\n",
    "with open('data1.pkl', 'rb') as f:\n",
    "    newlist6 = pickle.load(f)\n",
    "    \n",
    "newlist6\n"
   ]
  },
  {
   "cell_type": "code",
   "execution_count": 175,
   "metadata": {},
   "outputs": [
    {
     "name": "stdout",
     "output_type": "stream",
     "text": [
      "{'key1': 'value1', 'key2': 'value2', 'key3': 'value3'}\n",
      "[0, 2, 3, 4, 6, 8, 9]\n"
     ]
    },
    {
     "data": {
      "text/plain": [
       "{'key1': 'value1', 'key2': 'value2', 'key3': 'value3'}"
      ]
     },
     "execution_count": 175,
     "metadata": {},
     "output_type": "execute_result"
    }
   ],
   "source": [
    "newdict = {'key1': 'value1', 'key2': 'value2', 'key3': 'value3'}\n",
    "json1 = json.dumps(newdict)\n",
    "json2 = json.dumps(newlist4)\n",
    "\n",
    "# dumps,loads 多条文件读写 \n",
    "with open('data.txt', 'w', encoding='utf-8') as f:\n",
    "    f.write(json1 + '\\n' + json2)\n",
    "    \n",
    "with open('data.txt', 'r') as f:\n",
    "    for fn in f:\n",
    "        json4 = json.loads(fn)\n",
    "        print(json4)\n",
    "\n",
    "# dump,load 单条文件读写        \n",
    "with open('data.json', 'w', encoding='utf-8') as f:\n",
    "    json.dump(newdict, f, indent=4)\n",
    "    \n",
    "with open('data.json', 'r') as f:\n",
    "    json5 = json.load(f)\n",
    "    \n",
    "json5"
   ]
  },
  {
   "cell_type": "code",
   "execution_count": 177,
   "metadata": {},
   "outputs": [
    {
     "name": "stdout",
     "output_type": "stream",
     "text": [
      "[0, 2, 3, 4, 6, 8, 9]\n"
     ]
    },
    {
     "data": {
      "text/plain": [
       "['1*1=1',\n",
       " '2*1=2',\n",
       " '2*2=4',\n",
       " '3*1=3',\n",
       " '3*2=6',\n",
       " '3*3=9',\n",
       " '4*1=4',\n",
       " '4*2=8',\n",
       " '4*3=12',\n",
       " '4*4=16',\n",
       " '5*1=5',\n",
       " '5*2=10',\n",
       " '5*3=15',\n",
       " '5*4=20',\n",
       " '5*5=25',\n",
       " '6*1=6',\n",
       " '6*2=12',\n",
       " '6*3=18',\n",
       " '6*4=24',\n",
       " '6*5=30',\n",
       " '6*6=36',\n",
       " '7*1=7',\n",
       " '7*2=14',\n",
       " '7*3=21',\n",
       " '7*4=28',\n",
       " '7*5=35',\n",
       " '7*6=42',\n",
       " '7*7=49',\n",
       " '8*1=8',\n",
       " '8*2=16',\n",
       " '8*3=24',\n",
       " '8*4=32',\n",
       " '8*5=40',\n",
       " '8*6=48',\n",
       " '8*7=56',\n",
       " '8*8=64',\n",
       " '9*1=9',\n",
       " '9*2=18',\n",
       " '9*3=27',\n",
       " '9*4=36',\n",
       " '9*5=45',\n",
       " '9*6=54',\n",
       " '9*7=63',\n",
       " '9*8=72',\n",
       " '9*9=81']"
      ]
     },
     "execution_count": 177,
     "metadata": {},
     "output_type": "execute_result"
    }
   ],
   "source": [
    "newlist1 = [i for i in range(10) if i % 2 == 0 or i % 3 == 0]\n",
    "print(newlist1)\n",
    "\n",
    "newlist2 = ['%d*%d=%d' % (i,j,i*j) for i in range(1,10) for j in range(1,i+1)]\n",
    "newlist2"
   ]
  },
  {
   "cell_type": "code",
   "execution_count": 194,
   "metadata": {},
   "outputs": [
    {
     "name": "stdout",
     "output_type": "stream",
     "text": [
      "1*1=1 2*1=2 2*2=4 3*1=3 3*2=6 3*3=9 4*1=4 4*2=8 4*3=12 4*4=16 5*1=5 5*2=10 5*3=15 5*4=20 5*5=25 6*1=6 6*2=12 6*3=18 6*4=24 6*5=30 6*6=36 7*1=7 7*2=14 7*3=21 7*4=28 7*5=35 7*6=42 7*7=49 8*1=8 8*2=16 8*3=24 8*4=32 8*5=40 8*6=48 8*7=56 8*8=64 9*1=9 9*2=18 9*3=27 9*4=36 9*5=45 9*6=54 9*7=63 9*8=72 9*9=81\n",
      "1*1=1 2*1=2 2*2=4 3*1=3 3*2=6 3*3=9 4*1=4 4*2=8 4*3=12 4*4=16 5*1=5 5*2=10 5*3=15 5*4=20 5*5=25 6*1=6 6*2=12 6*3=18 6*4=24 6*5=30 6*6=36 7*1=7 7*2=14 7*3=21 7*4=28 7*5=35 7*6=42 7*7=49 8*1=8 8*2=16 8*3=24 8*4=32 8*5=40 8*6=48 8*7=56 8*8=64 9*1=9 9*2=18 9*3=27 9*4=36 9*5=45 9*6=54 9*7=63 9*8=72 9*9=81\n",
      "1*1=1\n",
      "2*1=2 2*2=4\n",
      "3*1=3 3*2=6 3*3=9\n",
      "4*1=4 4*2=8 4*3=12 4*4=16\n",
      "5*1=5 5*2=10 5*3=15 5*4=20 5*5=25\n",
      "6*1=6 6*2=12 6*3=18 6*4=24 6*5=30 6*6=36\n",
      "7*1=7 7*2=14 7*3=21 7*4=28 7*5=35 7*6=42 7*7=49\n",
      "8*1=8 8*2=16 8*3=24 8*4=32 8*5=40 8*6=48 8*7=56 8*8=64\n",
      "9*1=9 9*2=18 9*3=27 9*4=36 9*5=45 9*6=54 9*7=63 9*8=72 9*9=81\n"
     ]
    },
    {
     "data": {
      "text/plain": [
       "[None,\n",
       " None,\n",
       " None,\n",
       " None,\n",
       " None,\n",
       " None,\n",
       " None,\n",
       " None,\n",
       " None,\n",
       " None,\n",
       " None,\n",
       " None,\n",
       " None,\n",
       " None,\n",
       " None,\n",
       " None,\n",
       " None,\n",
       " None,\n",
       " None,\n",
       " None,\n",
       " None,\n",
       " None,\n",
       " None,\n",
       " None,\n",
       " None,\n",
       " None,\n",
       " None,\n",
       " None,\n",
       " None,\n",
       " None,\n",
       " None,\n",
       " None,\n",
       " None,\n",
       " None,\n",
       " None,\n",
       " None,\n",
       " None,\n",
       " None,\n",
       " None,\n",
       " None,\n",
       " None,\n",
       " None,\n",
       " None,\n",
       " None,\n",
       " None]"
      ]
     },
     "execution_count": 194,
     "metadata": {},
     "output_type": "execute_result"
    }
   ],
   "source": [
    "print(\" \".join([ '%d*%d=%d' % (i,j,i*j) for i in range(1,10) for j in range(1,i+1)]))\n",
    "print(\" \".join([ '{}*{}={}'.format(i,j,i*j,\"\\n\" if i==j else \" \") for i in range(1,10) for j in range(1,i+1)]))\n",
    "[print('%d*%d=%d' % (i,j,i*j), end = \"\\n\" if i==j else \" \") for i in range(1,10) for j in range(1,i+1)]\n"
   ]
  },
  {
   "cell_type": "code",
   "execution_count": 202,
   "metadata": {},
   "outputs": [
    {
     "name": "stdout",
     "output_type": "stream",
     "text": [
      "1*1=1\n",
      "2*1=2 \n",
      "\n",
      "1*1=1\n",
      "2*1=2\n",
      "2*2=4\n",
      "3*1=3\n",
      "3*2=6\n",
      "3*3=9\n",
      "4*1=4\n",
      "4*2=8\n",
      "4*3=12\n",
      "4*4=16\n",
      "5*1=5\n",
      "5*2=10\n",
      "5*3=15\n",
      "5*4=20\n",
      "5*5=25\n",
      "6*1=6\n",
      "6*2=12\n",
      "6*3=18\n",
      "6*4=24\n",
      "6*5=30\n",
      "6*6=36\n",
      "7*1=7\n",
      "7*2=14\n",
      "7*3=21\n",
      "7*4=28\n",
      "7*5=35\n",
      "7*6=42\n",
      "7*7=49\n",
      "8*1=8\n",
      "8*2=16\n",
      "8*3=24\n",
      "8*4=32\n",
      "8*5=40\n",
      "8*6=48\n",
      "8*7=56\n",
      "8*8=64\n",
      "9*1=9\n",
      "9*2=18\n",
      "9*3=27\n",
      "9*4=36\n",
      "9*5=45\n",
      "9*6=54\n",
      "9*7=63\n",
      "9*8=72\n",
      "9*9=81\n"
     ]
    }
   ],
   "source": [
    "generator1 = (print('%d*%d=%d' % (i,j,i*j), end = \"\\n\" if i==j else \" \") for i in range(1,10) for j in range(1,i+1))\n",
    "next(generator1)\n",
    "generator1.__next__()\n",
    "print('\\n')\n",
    "generator2 = ['%d*%d=%d' % (i,j,i*j) for i in range(1,10) for j in range(1,i+1)]\n",
    "for i in generator2:\n",
    "    print(i)"
   ]
  },
  {
   "cell_type": "code",
   "execution_count": 207,
   "metadata": {},
   "outputs": [
    {
     "name": "stdout",
     "output_type": "stream",
     "text": [
      "create_counter\n",
      "4\n",
      "increment n\n"
     ]
    },
    {
     "data": {
      "text/plain": [
       "5"
      ]
     },
     "execution_count": 207,
     "metadata": {},
     "output_type": "execute_result"
    }
   ],
   "source": [
    "def create_counter(n):\n",
    "    print(\"create_counter\")\n",
    "    while True:\n",
    "        yield n\n",
    "        print(\"increment n\")\n",
    "        n +=1\n",
    " \n",
    "gen = create_counter(4)\n",
    "print(gen.__next__())\n",
    "next(gen)"
   ]
  },
  {
   "cell_type": "code",
   "execution_count": null,
   "metadata": {},
   "outputs": [],
   "source": []
  }
 ],
 "metadata": {
  "kernelspec": {
   "display_name": "Python 3",
   "language": "python",
   "name": "python3"
  },
  "language_info": {
   "codemirror_mode": {
    "name": "ipython",
    "version": 3
   },
   "file_extension": ".py",
   "mimetype": "text/x-python",
   "name": "python",
   "nbconvert_exporter": "python",
   "pygments_lexer": "ipython3",
   "version": "3.7.0"
  }
 },
 "nbformat": 4,
 "nbformat_minor": 2
}
