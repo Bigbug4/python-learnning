{
 "cells": [
  {
   "cell_type": "code",
   "execution_count": 1,
   "metadata": {},
   "outputs": [
    {
     "name": "stdout",
     "output_type": "stream",
     "text": [
      "Hello,World!\n"
     ]
    }
   ],
   "source": [
    "#coding=utf-8\n",
    "import sys \n",
    "#str = input()\n",
    "#print(str)\n",
    "print('Hello,World!')"
   ]
  },
  {
   "cell_type": "code",
   "execution_count": 3,
   "metadata": {},
   "outputs": [
    {
     "data": {
      "text/plain": [
       "9"
      ]
     },
     "execution_count": 3,
     "metadata": {},
     "output_type": "execute_result"
    }
   ],
   "source": [
    "class Solution:\n",
    "    def longestPalindrome(self, s: str) -> str:\n",
    "        def maxSlideWindow(s,size):\n",
    "            n=len(s)\n",
    "            ans=0\n",
    "            for i in range(0,n-size+1):\n",
    "                tmp=s[i:i+size]\n",
    "                ttmp=tmp[::-1]\n",
    "                #ttmp=''.join(reversed(list(tmp)))\n",
    "                if tmp==ttmp:\n",
    "                    ans=size\n",
    "            \n",
    "            return ans\n",
    "\n",
    "        res=0\n",
    "        n=len(s)\n",
    "        for size in range(1,n+1):\n",
    "            temp=maxSlideWindow(s,size)\n",
    "            if temp>res:\n",
    "                res=temp\n",
    "        \n",
    "        return res\n",
    "\n",
    "s=\"abccdedccb\"\n",
    "a = Solution()\n",
    "a.longestPalindrome(s)"
   ]
  },
  {
   "cell_type": "code",
   "execution_count": 16,
   "metadata": {},
   "outputs": [
    {
     "data": {
      "text/plain": [
       "('0b11000000101010000000101010011001',\n",
       " [['0b11000000', 192],\n",
       "  ['0b10101000', 168],\n",
       "  ['0b00001010', 10],\n",
       "  ['0b10011001', 153]])"
      ]
     },
     "execution_count": 16,
     "metadata": {},
     "output_type": "execute_result"
    }
   ],
   "source": [
    "a=bin(3232238233)\n",
    "l=[]\n",
    "for i in range(2,len(a)-2,8):\n",
    "    l.append(['0b'+a[i:i+8],int('0b'+a[i:i+8],2)])\n",
    "a,l "
   ]
  },
  {
   "cell_type": "code",
   "execution_count": 17,
   "metadata": {},
   "outputs": [
    {
     "name": "stdout",
     "output_type": "stream",
     "text": [
      "1\n",
      "1\n",
      "20\n",
      "12\n",
      "5\n",
      "3\n",
      "\n"
     ]
    }
   ],
   "source": [
    "while 1:\n",
    "    s = input()\n",
    "    if not s:\n",
    "        break\n",
    "    n=int(s)\n",
    "    \n",
    "    if n<=2:\n",
    "        print(n)\n",
    "        continue\n",
    "        \n",
    "    count=0\n",
    "    ans=1\n",
    "    l=[x for x in range(2,n)]\n",
    "    \n",
    "    for i in range(2,n+1):\n",
    "        ans +=1\n",
    "        count +=1\n",
    "        if count==l[0]:\n",
    "            ans -=2\n",
    "            l.pop(0)\n",
    "            count=0\n",
    "        #print(count,ans,l)\n",
    "                    \n",
    "    print(ans)"
   ]
  },
  {
   "cell_type": "code",
   "execution_count": 18,
   "metadata": {},
   "outputs": [
    {
     "name": "stdout",
     "output_type": "stream",
     "text": [
      "20\n",
      "20 12\n",
      "15\n",
      "15 7\n",
      "\n"
     ]
    }
   ],
   "source": [
    "while 1:\n",
    "\ts = input()\n",
    "\tif not s:\n",
    "\t\tbreak\n",
    "\tn=int(s)\n",
    "    \n",
    "\tj=2\n",
    "\tk=2\n",
    "\ti=0\n",
    "\twhile n>k:\n",
    "\t\ti=i+2\n",
    "\t\tj=j+1\n",
    "\t\tk=k+j\n",
    "        \n",
    "\tprint(n-i)"
   ]
  },
  {
   "cell_type": "code",
   "execution_count": 20,
   "metadata": {},
   "outputs": [
    {
     "name": "stdout",
     "output_type": "stream",
     "text": [
      "20\n",
      "12\n"
     ]
    }
   ],
   "source": [
    "n=int(input())\n",
    "j=2\n",
    "k=2\n",
    "i=0\n",
    "while n>k:\n",
    "\ti=i+2\n",
    "\tj=j+1\n",
    "\tk=k+j\n",
    "print(n-i)"
   ]
  },
  {
   "cell_type": "code",
   "execution_count": 41,
   "metadata": {},
   "outputs": [
    {
     "name": "stdout",
     "output_type": "stream",
     "text": [
      "{1: [1, 0], 2: [2, 0], 3: [2, 0]}\n",
      "1\n",
      "-1\n"
     ]
    },
    {
     "data": {
      "text/plain": [
       "(None, {1: [1, 1], 3: [2, 0], 4: [4, 0]})"
      ]
     },
     "execution_count": 41,
     "metadata": {},
     "output_type": "execute_result"
    }
   ],
   "source": [
    "class Solution:\n",
    "    def __init__(self):\n",
    "        self.mydict=dict()\n",
    "        \n",
    "    def LRU(self,operators,*k ):\n",
    "        # write code here\n",
    "        def del_olds():\n",
    "            tmp=min([x[1] for x in self.mydict.values()])\n",
    "            for k in self.mydict:\n",
    "                if self.mydict[k][1]==tmp:\n",
    "                    break\n",
    "            self.mydict.pop(k)\n",
    "                \n",
    "        if operators==1:\n",
    "            m,n=k[0],k[1]\n",
    "            self.mydict[m]=[n,0]\n",
    "        elif operators==2:\n",
    "            k=k[0]\n",
    "            if k in self.mydict:\n",
    "                self.mydict[k][1] +=1\n",
    "                return self.mydict[k][0] \n",
    "            else:\n",
    "                return -1\n",
    "            \n",
    "        if len(self.mydict)>3:\n",
    "            del_olds()\n",
    "\n",
    "a=Solution()\n",
    "a.LRU(1,1,1)\n",
    "a.LRU(1,2,2)\n",
    "a.LRU(1,3,2)\n",
    "print(a.mydict)\n",
    "print(a.LRU(2,1))\n",
    "a.LRU(1,4,4)\n",
    "print(a.LRU(2,2))\n",
    "a.LRU(3),a.mydict"
   ]
  },
  {
   "cell_type": "code",
   "execution_count": 2,
   "metadata": {},
   "outputs": [
    {
     "name": "stdout",
     "output_type": "stream",
     "text": [
      "4 5\n",
      "30 3\n",
      "20 2\n",
      "10 1\n",
      "10 1\n",
      "[4, 5] [[30, 3], [20, 2], [10, 1], [10, 1]]\n",
      "(3,) 3\n",
      "(2,) 2\n",
      "(1,) 1\n",
      "(1,) 1\n",
      "(3, 2) 5\n",
      "(3, 1) 4\n",
      "(3, 1) 4\n",
      "(2, 1) 3\n",
      "(2, 1) 3\n",
      "(1, 1) 2\n",
      "(3, 2, 1) 6\n",
      "(3, 2, 1) 6\n",
      "(3, 1, 1) 5\n",
      "(2, 1, 1) 4\n",
      "(3, 2, 1, 1) 7\n",
      "[3, 2, 1, 1] [(3, 2), (3, 1, 1)]\n",
      "50 [50, 50]\n"
     ]
    }
   ],
   "source": [
    "nums=list(map(int,input().split()))\n",
    "\n",
    "lines=[]\n",
    "for _ in range(nums[0]):\n",
    "\tlines.append(list(map(int,input().split())))\n",
    "\n",
    "print(nums,lines)\n",
    "\n",
    "a=[x[1] for x in lines]\n",
    "\n",
    "from itertools import combinations\n",
    "res=[]\n",
    "for i in range(1,len(a)+1):\n",
    "\ttmp=list(combinations(a,i))\n",
    "\tfor j in tmp:\n",
    "\t\tprint(j,sum(j))\n",
    "\t\tif sum(j)==nums[1]:\n",
    "\t\t\tres.append(j)\n",
    "\n",
    "print(a,res)\n",
    "\n",
    "ans=[]\n",
    "while res:\n",
    "\tk=res.pop()\n",
    "\tans.append(sum([x[0] for x in lines if x[1] in k]))\n",
    "\n",
    "print(max(ans),ans)"
   ]
  },
  {
   "cell_type": "code",
   "execution_count": 1,
   "metadata": {},
   "outputs": [
    {
     "name": "stdout",
     "output_type": "stream",
     "text": [
      "AACCACcacaff\n",
      "6\n",
      "\n"
     ]
    }
   ],
   "source": [
    "while 1:\n",
    "    try:\n",
    "        n=input()\n",
    "        if not n:\n",
    "            break\n",
    "        \n",
    "        ans=0\n",
    "        for c in n:\n",
    "            if c.isupper():\n",
    "                ans +=1\n",
    "        print(ans)\n",
    "    except:\n",
    "        break"
   ]
  },
  {
   "cell_type": "code",
   "execution_count": 1,
   "metadata": {
    "scrolled": true
   },
   "outputs": [
    {
     "name": "stdout",
     "output_type": "stream",
     "text": [
      "((])\n",
      "( ['('] 0\n",
      "( ['(', '('] 0\n",
      "] ['(', '('] 1\n",
      ") ['('] 1\n",
      "2\n",
      "[((]])\n",
      "[ ['['] 0\n",
      "( ['[', '('] 0\n",
      "( ['[', '(', '('] 0\n",
      "] ['(', '('] 0\n",
      "] ['(', '('] 1\n",
      ") ['('] 1\n",
      "2\n",
      "\n"
     ]
    }
   ],
   "source": [
    "while 1:\n",
    "\ttry:\n",
    "\t\tn = input()\n",
    "\t\tif not n:\n",
    "\t\t\tbreak\n",
    "\n",
    "\t\tans = 0\n",
    "\t\tstack = []\n",
    "\t\tn=list(n)\n",
    "\t\twhile n:\n",
    "\t\t\ttmp = n.pop(0)\n",
    "\t\t\tif tmp == '(' or tmp == '[':\n",
    "\t\t\t\tstack.append(tmp)\n",
    "\t\t\telif tmp == ')':\n",
    "\t\t\t\tif not '(' in stack:\n",
    "\t\t\t\t\tans += 1\n",
    "\t\t\t\telse:\n",
    "\t\t\t\t\tstack.remove('(')\n",
    "\t\t\telse:\n",
    "\t\t\t\tif not '[' in stack:\n",
    "\t\t\t\t\tans += 1\n",
    "\t\t\t\telse:\n",
    "\t\t\t\t\tstack.remove('[')\n",
    "\n",
    "\t\t\tprint(tmp, stack,ans)\n",
    "\t\tprint(len(stack) + ans)\n",
    "\n",
    "\texcept:\n",
    "\t\tbreak"
   ]
  },
  {
   "cell_type": "code",
   "execution_count": 7,
   "metadata": {},
   "outputs": [
    {
     "name": "stdout",
     "output_type": "stream",
     "text": [
      "3\n",
      "12\n",
      "4\n",
      "32\n",
      "7\n",
      "448\n",
      "\n"
     ]
    }
   ],
   "source": [
    "while 1:\n",
    "\ttry:\n",
    "\t\tn = input()\n",
    "\t\tif not n:\n",
    "\t\t\tbreak\n",
    "\n",
    "\t\tn=int(n)\n",
    "\t\ta = [x for x in range(1,n+1)]\n",
    "\n",
    "\t\tfrom itertools import combinations\n",
    "\n",
    "\t\tans=0\n",
    "\t\tfor i in range(1, len(a) + 1):\n",
    "\t\t\ttmp = list(combinations(a, i))\n",
    "\t\t\tans +=len(tmp)*i\n",
    "\t\t\t\n",
    "\t\tans=ans%(10**9+7)\n",
    "\t\tprint(ans)\n",
    "\n",
    "\texcept:\n",
    "\t\tbreak"
   ]
  },
  {
   "cell_type": "code",
   "execution_count": 8,
   "metadata": {},
   "outputs": [
    {
     "name": "stdout",
     "output_type": "stream",
     "text": [
      "2\n",
      "4\n",
      "\n"
     ]
    }
   ],
   "source": [
    "def multi(n):\n",
    "    x=1\n",
    "    for i in range(2,n+1):\n",
    "        x *= i\n",
    "    return x\n",
    "\n",
    "while 1:\n",
    "\ttry:\n",
    "\t\tn = input()\n",
    "\t\tif not n:\n",
    "\t\t\tbreak\n",
    "\n",
    "\t\tn=int(n)\n",
    "        \n",
    "\t\tans=0\n",
    "\t\tfor i in range(1, n + 1):\n",
    "\t\t\ttmp = multi(n)/(multi(i)*multi(n-i))\n",
    "\t\t\tans +=i*tmp\n",
    "\t\t\t\n",
    "\t\tans=int(ans)\n",
    "\t\tprint(ans)\n",
    "\n",
    "\texcept:\n",
    "\t\tbreak"
   ]
  },
  {
   "cell_type": "code",
   "execution_count": 1,
   "metadata": {},
   "outputs": [
    {
     "name": "stdout",
     "output_type": "stream",
     "text": [
      "3\n",
      "15\n",
      "\n"
     ]
    }
   ],
   "source": [
    "while 1:\n",
    "    try:\n",
    "        n=input()\n",
    "        if not n:\n",
    "            break\n",
    "        \n",
    "        n=int(n)\n",
    "        ans=n*(3*n+1)//2\n",
    "        print(ans)\n",
    "\n",
    "    except:\n",
    "        break"
   ]
  },
  {
   "cell_type": "code",
   "execution_count": 6,
   "metadata": {},
   "outputs": [
    {
     "name": "stdout",
     "output_type": "stream",
     "text": [
      "I need book.;I need book 2.\n",
      "['I', 'NEED', 'BOOK.'] ['I', 'NEED', 'BOOK', '2.'] 3 4\n",
      "(2, 5)\n"
     ]
    }
   ],
   "source": [
    "def sym_replace(a):\n",
    "    if ',' in a:\n",
    "        a=a.replace(',','.')\n",
    "    elif '!' in a:\n",
    "        a=a.replace('!','.')\n",
    "    elif '.' in a:\n",
    "        a=a.replace('.',' .')\n",
    "    return a\n",
    "\n",
    "def del_space(aa):\n",
    "    while ' ' in aa:\n",
    "        aa.remove(' ')\n",
    "    return aa\n",
    "\n",
    "\n",
    "a,b= input().split(';')\n",
    "\n",
    "a=sym_replace(a)\n",
    "b=sym_replace(b)\n",
    "\n",
    "a=a.upper()\n",
    "b=b.upper()\n",
    "\n",
    "aa=a.split()\n",
    "bb=b.split()\n",
    "\n",
    "aa=del_space(aa)\n",
    "bb=del_space(bb)\n",
    "\n",
    "m,n=len(aa),len(bb)\n",
    "ll=2*m-1\n",
    "\n",
    "if m>n:\n",
    "    aa,bb=bb,aa\n",
    "    m,n=n,m\n",
    "    \n",
    "print(aa,bb,m,n)    \n",
    "ans=i=ad=0\n",
    "while i<=m:\n",
    "    if not aa[i]==bb[i]:\n",
    "        if aa[i] in bb[i:]:\n",
    "            del bb[i]\n",
    "            ad=1\n",
    "        else:\n",
    "            ans +=2\n",
    "            i +=1\n",
    "            \n",
    "    i +=1\n",
    "    \n",
    "if ad:\n",
    "    ans +=1\n",
    "    \n",
    "\n",
    "print((ans,ll))"
   ]
  }
 ],
 "metadata": {
  "kernelspec": {
   "display_name": "Python 3",
   "language": "python",
   "name": "python3"
  },
  "language_info": {
   "codemirror_mode": {
    "name": "ipython",
    "version": 3
   },
   "file_extension": ".py",
   "mimetype": "text/x-python",
   "name": "python",
   "nbconvert_exporter": "python",
   "pygments_lexer": "ipython3",
   "version": "3.7.0"
  }
 },
 "nbformat": 4,
 "nbformat_minor": 2
}
