{
 "cells": [
  {
   "cell_type": "code",
   "execution_count": 1,
   "metadata": {},
   "outputs": [
    {
     "name": "stdout",
     "output_type": "stream",
     "text": [
      "Hello,World!\n"
     ]
    }
   ],
   "source": [
    "#coding=utf-8\n",
    "import sys \n",
    "#str = input()\n",
    "#print(str)\n",
    "print('Hello,World!')"
   ]
  },
  {
   "cell_type": "code",
   "execution_count": 3,
   "metadata": {},
   "outputs": [
    {
     "data": {
      "text/plain": [
       "9"
      ]
     },
     "execution_count": 3,
     "metadata": {},
     "output_type": "execute_result"
    }
   ],
   "source": [
    "class Solution:\n",
    "    def longestPalindrome(self, s: str) -> str:\n",
    "        def maxSlideWindow(s,size):\n",
    "            n=len(s)\n",
    "            ans=0\n",
    "            for i in range(0,n-size+1):\n",
    "                tmp=s[i:i+size]\n",
    "                ttmp=tmp[::-1]\n",
    "                #ttmp=''.join(reversed(list(tmp)))\n",
    "                if tmp==ttmp:\n",
    "                    ans=size\n",
    "            \n",
    "            return ans\n",
    "\n",
    "        res=0\n",
    "        n=len(s)\n",
    "        for size in range(1,n+1):\n",
    "            temp=maxSlideWindow(s,size)\n",
    "            if temp>res:\n",
    "                res=temp\n",
    "        \n",
    "        return res\n",
    "\n",
    "s=\"abccdedccb\"\n",
    "a = Solution()\n",
    "a.longestPalindrome(s)"
   ]
  }
 ],
 "metadata": {
  "kernelspec": {
   "display_name": "Python 3",
   "language": "python",
   "name": "python3"
  },
  "language_info": {
   "codemirror_mode": {
    "name": "ipython",
    "version": 3
   },
   "file_extension": ".py",
   "mimetype": "text/x-python",
   "name": "python",
   "nbconvert_exporter": "python",
   "pygments_lexer": "ipython3",
   "version": "3.7.0"
  }
 },
 "nbformat": 4,
 "nbformat_minor": 2
}
