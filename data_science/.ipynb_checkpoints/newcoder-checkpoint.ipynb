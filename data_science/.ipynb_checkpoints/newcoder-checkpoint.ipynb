{
 "cells": [
  {
   "cell_type": "code",
   "execution_count": 82,
   "metadata": {},
   "outputs": [
    {
     "data": {
      "text/plain": [
       "([1, 2, 3, 4, 5, 6, 7, 8, 9],\n",
       " [362880, 181440, 120960, 90720, 72576, 60480, 51840, 45360, 40320])"
      ]
     },
     "execution_count": 82,
     "metadata": {},
     "output_type": "execute_result"
    }
   ],
   "source": [
    "# -*- coding:utf-8 -*-\n",
    "class Solution:\n",
    "    def multiply(self, A):\n",
    "        if not A: return 0\n",
    "        \n",
    "        # write code here\n",
    "        def multi(*nums):\n",
    "            res = 1\n",
    "            for num in nums:\n",
    "                res *=num\n",
    "            return res\n",
    "            \n",
    "        n=len(A)\n",
    "        if n==1: return A\n",
    "        \n",
    "        B=list()\n",
    "        \n",
    "        for i in range(n):\n",
    "            temp=A[:]\n",
    "            temp[i]=1\n",
    "            B.append(multi(*temp))\n",
    "        \n",
    "        return B\n",
    "\n",
    "A=[x for x in range(1,10)]\n",
    "a=Solution()\n",
    "B=a.multiply(A)\n",
    "A, B"
   ]
  },
  {
   "cell_type": "code",
   "execution_count": 89,
   "metadata": {},
   "outputs": [
    {
     "name": "stdout",
     "output_type": "stream",
     "text": [
      "3\n",
      "2\n"
     ]
    }
   ],
   "source": [
    "for i in range(3,1,-1):\n",
    "    print(i)"
   ]
  },
  {
   "cell_type": "code",
   "execution_count": 36,
   "metadata": {},
   "outputs": [
    {
     "name": "stdout",
     "output_type": "stream",
     "text": [
      "5\n"
     ]
    }
   ],
   "source": [
    "def add(a,b):\n",
    "    if a==0:\n",
    "        return b\n",
    "    return add((a & b) << 1, a ^ b)\n",
    "    \n",
    "print(add(2,3))\n"
   ]
  },
  {
   "cell_type": "code",
   "execution_count": 52,
   "metadata": {},
   "outputs": [
    {
     "name": "stdout",
     "output_type": "stream",
     "text": [
      "1\n",
      "0o377\n",
      "0b1111111111111111111111111111111\n",
      "34\n"
     ]
    },
    {
     "data": {
      "text/plain": [
       "33"
      ]
     },
     "execution_count": 52,
     "metadata": {},
     "output_type": "execute_result"
    }
   ],
   "source": [
    "print(~-2)\n",
    "print(oct(0xFF))\n",
    "print(bin(0x7FFFFFFF))\n",
    "print(len(bin(0xFFFFFFFF)))\n",
    "len(bin(0x7FFFFFFF))"
   ]
  },
  {
   "cell_type": "code",
   "execution_count": 145,
   "metadata": {},
   "outputs": [
    {
     "name": "stdout",
     "output_type": "stream",
     "text": [
      "0b11111111111111111111111111111101 4294967293 False\n",
      "-3\n"
     ]
    }
   ],
   "source": [
    "class Solution: \n",
    "    def Add(self, a, b):           \n",
    "        while(b): \n",
    "           a,b = (a^b) & 0xFFFFFFFF,((a&b)<<1) & 0xFFFFFFFF\n",
    "        \n",
    "        print(bin(a),a)\n",
    "        return a if a<=0x7FFFFFFF else ~(a^0xFFFFFFFF)\n",
    "\n",
    "\n",
    "a=Solution()\n",
    "B=a.Add(-6,3)\n",
    "print(B)"
   ]
  },
  {
   "cell_type": "code",
   "execution_count": 149,
   "metadata": {},
   "outputs": [
    {
     "data": {
      "text/plain": [
       "('0b11111111111111111111111111111111',\n",
       " 4294967295,\n",
       " '-0b110',\n",
       " '-0b11111111111111111111111111111011',\n",
       " -3,\n",
       " -3,\n",
       " 4294967295,\n",
       " 2147483647,\n",
       " '0b1111111111111111111111111111111',\n",
       " 2147483648)"
      ]
     },
     "execution_count": 149,
     "metadata": {},
     "output_type": "execute_result"
    }
   ],
   "source": [
    "bin(0xFFFFFFFF),0xFFFFFFFF,bin(-6),bin(0xFFFFFFFF^-6),~(0b11111111111111111111111111111101^0xFFFFFFFF),~(2),2**32-1,0x7FFFFFFF,bin(0x7FFFFFFF),2**31"
   ]
  },
  {
   "cell_type": "code",
   "execution_count": 64,
   "metadata": {},
   "outputs": [
    {
     "name": "stdout",
     "output_type": "stream",
     "text": [
      "8\n"
     ]
    }
   ],
   "source": [
    "class Solution:\n",
    "    def jumpFloorI(self, number):\n",
    "        # write code here\n",
    "        if not number: return 0\n",
    "        \n",
    "        p=0\n",
    "        q=0\n",
    "        res=1\n",
    "        for i in range(number):\n",
    "            p=q\n",
    "            q=res\n",
    "            res=p+q\n",
    "        \n",
    "        return res\n",
    "    \n",
    "a=Solution()\n",
    "B=a.jumpFloorI(5)\n",
    "print(B)"
   ]
  },
  {
   "cell_type": "code",
   "execution_count": 95,
   "metadata": {},
   "outputs": [
    {
     "data": {
      "text/plain": [
       "(16, 16)"
      ]
     },
     "execution_count": 95,
     "metadata": {},
     "output_type": "execute_result"
    }
   ],
   "source": [
    "class Solution:\n",
    "    def jumpFloorII(self, number):\n",
    "        # write code here\n",
    "        if not number: return 0\n",
    "        \n",
    "        pre=0\n",
    "        res=1\n",
    "        for i in range(1,number):\n",
    "            pre=res\n",
    "            res=2*pre\n",
    "        \n",
    "        return res\n",
    "    \n",
    "    def jumpFloorII1(self, number):\n",
    "        # write code here\n",
    "        if not number: return 0\n",
    "        \n",
    "        #return 2**(number-1)\n",
    "        return 1 << number-1\n",
    "    \n",
    "a=Solution()\n",
    "B=a.jumpFloorII(5)\n",
    "\n",
    "B, a.jumpFloorII1(5)"
   ]
  },
  {
   "cell_type": "code",
   "execution_count": 78,
   "metadata": {},
   "outputs": [
    {
     "name": "stdout",
     "output_type": "stream",
     "text": [
      "15\n"
     ]
    }
   ],
   "source": [
    "class Solution(object):\n",
    "    def minCostClimbingStairs(self, cost):\n",
    "        f1 = f2 = 0\n",
    "        for x in cost:\n",
    "            f1, f2 = x + min(f1, f2), f1\n",
    "        return min(f1, f2)\n",
    "\n",
    "cost=[10,15,20]\n",
    "a=Solution()\n",
    "B=a.minCostClimbingStairs(cost)\n",
    "print(B)"
   ]
  },
  {
   "cell_type": "code",
   "execution_count": 92,
   "metadata": {},
   "outputs": [
    {
     "name": "stdout",
     "output_type": "stream",
     "text": [
      "Raw : [[2, 1, -3, 4], [-1, 3, 4, -5], [4, 6, 8, 2], [2, 5, 8, 6]]\n",
      "Matrix:\n",
      " [[ 2  1 -3  4]\n",
      " [-1  3  4 -5]\n",
      " [ 4  6  8  2]\n",
      " [ 2  5  8  6]]\n",
      "Cost  time1:  0.0009758472442626953s\n",
      "Sprial Matrix1: [2, 1, -3, 4, -5, 2, 6, 8, 5, 2, 4, -1, 3, 4, 8, 6]\n",
      "Cost  time2:  0.0s\n",
      "Sprial Matrix2: [2, 1, -3, 4, -5, 2, 6, 8, 5, 2, 4, -1, 3, 4, 8, 6]\n",
      "Cost  time3:  0.0s\n",
      "Sprial Matrix3: [2, 1, -3, 4, -5, 2, 6, 8, 5, 2, 4, -1, 3, 4, 8, 6]\n",
      "Cost  time4:  0.0s\n",
      "Sprial Matrix4: [2, 1, -3, 4, -5, 2, 6, 8, 5, 2, 4, -1, 3, 4, 8, 6]\n"
     ]
    }
   ],
   "source": [
    "import  numpy  as  np\n",
    "import time\n",
    "import  itertools\n",
    "\n",
    "class Solution:\n",
    "\n",
    "    def __init__(self, nums):\n",
    "        self.nums = nums\n",
    "        \n",
    "    def spiralMatrix1(self):\n",
    "        if not self.nums:return 0\n",
    "        t1=time.time()\n",
    "        nums=np.array(self.nums)\n",
    "        print('Matrix:\\n',nums)\n",
    "        size=np.shape(nums)\n",
    "        l=[]\n",
    "        temp=nums\n",
    "        \n",
    "        while  1:\n",
    "            if  np.all(size>(1,1)):\n",
    "                l.append(temp[0,:-1].tolist())\n",
    "                l.append(temp[:-1,-1].tolist())\n",
    "                l.append(temp[-1,-1:0:-1].tolist())\n",
    "                l.append(temp[-1:0:-1,0].tolist())\n",
    "                if  np.all(size>(2,2)):\n",
    "                    temp=temp[1:-1,1:-1]\n",
    "                    size=np.shape(temp)\n",
    "                else:\n",
    "                    break\n",
    "            \n",
    "            else:\n",
    "                l.append(temp.tolist())\n",
    "                break\n",
    "                \n",
    "        out = list(itertools.chain.from_iterable(l))\n",
    "        t2=time.time()\n",
    "        print(\"Cost  time1:  %ss\"  %  (t2-t1))\n",
    "        return out\n",
    "        \n",
    "    def spiralMatrix2(self):\n",
    "        if not self.nums:return 0\n",
    "        t1=time.time()\n",
    "        matrix=self.nums\n",
    "        \n",
    "        R, C = len(matrix), len(matrix[0])\n",
    "        seen = [[False] * C for _ in matrix]\n",
    "        #print(seen)\n",
    "        ans = []\n",
    "        dr = [0, 1, 0, -1]\n",
    "        dc = [1, 0, -1, 0]\n",
    "        r = c = di = 0\n",
    "        for _ in range(R * C):\n",
    "            ans.append(matrix[r][c])\n",
    "            seen[r][c] = True\n",
    "            cr, cc = r + dr[di], c + dc[di]\n",
    "            if 0 <= cr < R and 0 <= cc < C and not seen[cr][cc]:\n",
    "                r, c = cr, cc\n",
    "            else:\n",
    "                di = (di + 1) % 4\n",
    "                r, c = r + dr[di], c + dc[di]\n",
    "        \n",
    "        t2=time.time()\n",
    "        print(\"Cost  time2:  %ss\"  %  (t2-t1))\n",
    "        return ans\n",
    "    \n",
    "    def spiralMatrix3(self):\n",
    "        if not self.nums:return 0\n",
    "        t1=time.time()\n",
    "        nums=np.array(self.nums)\n",
    "        size=np.shape(nums)\n",
    "        l=[]\n",
    "        temp=nums\n",
    "        \n",
    "        while  1:\n",
    "            if  np.all(size>(1,1)):\n",
    "                for _ in range(4):\n",
    "                    l.extend(temp[0,:-1].tolist())\n",
    "                    temp1=list(map(lambda x:x[::-1],temp.tolist()))\n",
    "                    temp=list(zip(*temp1))\n",
    "                    temp=np.array(temp)\n",
    "                    #print (temp)\n",
    "                if  np.all(size>(2,2)):\n",
    "                    temp=temp[1:-1,1:-1]\n",
    "                    size=np.shape(temp)\n",
    "                else:\n",
    "                    break\n",
    "            \n",
    "            else:\n",
    "                l.extend(temp.tolist())\n",
    "                break\n",
    "                \n",
    "        t2=time.time()\n",
    "        print(\"Cost  time3:  %ss\"  %  (t2-t1))\n",
    "        return l\n",
    "    \n",
    "    def spiralMatrix4(self):\n",
    "        if not self.nums:return 0\n",
    "        t1=time.time()\n",
    "        nums=self.nums\n",
    "        l=[]\n",
    "        \n",
    "        while  1:\n",
    "            l.extend(nums[0])\n",
    "            if len(nums)>1:\n",
    "                nums=nums[1:]\n",
    "            else:\n",
    "                break\n",
    "            temp=list(map(lambda x:x[::-1],nums))\n",
    "            nums=list(zip(*temp))\n",
    "                      \n",
    "        t2=time.time()\n",
    "        print(\"Cost  time4:  %ss\"  %  (t2-t1))\n",
    "        \n",
    "        return l\n",
    "\n",
    "\n",
    "if __name__==\"__main__\":\n",
    "\n",
    "    nums=[[2,1,-3,4],[-1,3,4,-5],[4,6,8,2],[2,5,8,6]]\n",
    "    \n",
    "    if nums:\n",
    "        a=Solution (nums)\n",
    "        print ('Raw :',a.nums)\n",
    "        \n",
    "        l1=a.spiralMatrix1()\n",
    "        if l1:\n",
    "            print ('Sprial Matrix1:', l1)\n",
    "            \n",
    "        l2=a.spiralMatrix2()\n",
    "        if l2:\n",
    "            print ('Sprial Matrix2:', l2)\n",
    "            \n",
    "        l3=a.spiralMatrix3()\n",
    "        if l3:\n",
    "            print ('Sprial Matrix3:', l3)\n",
    "            \n",
    "    print('Sprial Matrix4:',a.spiralMatrix4())"
   ]
  },
  {
   "cell_type": "code",
   "execution_count": 86,
   "metadata": {},
   "outputs": [
    {
     "data": {
      "text/plain": [
       "([[2, 1, -3, 4], [-1, 3, 4, -5], [4, 6, 8, 2], [2, 5, 8, 6]],\n",
       " [[4, -5, 2, 6], [-3, 4, 8, 8], [1, 3, 6, 5], [2, -1, 4, 2]],\n",
       " [(4, -5, 2, 6), (-3, 4, 8, 8), (1, 3, 6, 5), (2, -1, 4, 2)])"
      ]
     },
     "execution_count": 86,
     "metadata": {},
     "output_type": "execute_result"
    }
   ],
   "source": [
    "# “转置”，把矩阵“立”起来\n",
    "matrix=[[2,1,-3,4],[-1,3,4,-5],[4,6,8,2],[2,5,8,6]]\n",
    "matrix_t1 =[ [ row[i] for row in matrix] for i in range(len(matrix[0])-1 , -1 , -1) ]\n",
    "\n",
    "temp=list(map(lambda x:x[::-1],matrix))\n",
    "matrix_t2=list(zip(*temp))\n",
    "\n",
    "matrix,matrix_t1, matrix_t2"
   ]
  },
  {
   "cell_type": "code",
   "execution_count": 94,
   "metadata": {},
   "outputs": [
    {
     "data": {
      "text/plain": [
       "[3, 2, 1, 0]"
      ]
     },
     "execution_count": 94,
     "metadata": {},
     "output_type": "execute_result"
    }
   ],
   "source": [
    "[i for i in range(4-1 , -1 , -1) ]"
   ]
  },
  {
   "cell_type": "code",
   "execution_count": 108,
   "metadata": {},
   "outputs": [
    {
     "name": "stdout",
     "output_type": "stream",
     "text": [
      "[0, 1, 2, 3, 4]\n",
      "0\n"
     ]
    },
    {
     "data": {
      "text/plain": [
       "(1, [4, 3, 2], [5])"
      ]
     },
     "execution_count": 108,
     "metadata": {},
     "output_type": "execute_result"
    }
   ],
   "source": [
    "# -*- coding:utf-8 -*-\n",
    "class Solution:\n",
    "    def __init__(self):\n",
    "        self.stack1=[]\n",
    "        self.stack2=[]\n",
    "        \n",
    "    def push(self, node):\n",
    "        # write code here\n",
    "        self.stack1.append(node)\n",
    "        \n",
    "    def pop(self):\n",
    "        if self.stack2: return self.stack2.pop()\n",
    "        while self.stack1:\n",
    "            self.stack2.append(self.stack1.pop())\n",
    "            \n",
    "        return self.stack2.pop()\n",
    "    \n",
    "a=Solution()\n",
    "for i in range(5):\n",
    "    a.push(i)\n",
    "    \n",
    "print(a.stack1)\n",
    "print(a.pop())\n",
    "a.push(5)\n",
    "a.pop(),a.stack2,a.stack1"
   ]
  },
  {
   "cell_type": "code",
   "execution_count": 163,
   "metadata": {},
   "outputs": [
    {
     "name": "stdout",
     "output_type": "stream",
     "text": [
      "0 0\n",
      "1 1\n",
      "2 1\n",
      "3 2\n",
      "4 4\n",
      "5 6\n",
      "6 9\n",
      "7 12\n",
      "8 18\n",
      "9 27\n",
      "10 32\n",
      "11 54\n",
      "12 81\n",
      "13 81\n",
      "14 162\n",
      "15 243\n",
      "16 256\n",
      "17 486\n",
      "18 729\n",
      "19 768\n"
     ]
    }
   ],
   "source": [
    "# -*- coding:utf-8 -*-\n",
    "import math\n",
    "\n",
    "class Solution:\n",
    "    @staticmethod\n",
    "    def multiply(*num):\n",
    "        res=1\n",
    "        for x in num:\n",
    "            res *=x\n",
    "        return res\n",
    "        \n",
    "    def cutRope(self, number):\n",
    "        # write code here\n",
    "        if not number: return 0\n",
    "        if number <3: return 1\n",
    "        res=[]\n",
    "        for m in range(2,number):\n",
    "            x=math.ceil(number/m)\n",
    "            r=number-(m-1)*x\n",
    "            if r>0:\n",
    "                temp=[x]*(m-1)+[r]\n",
    "                #print(temp)\n",
    "                ans=self.multiply(*temp)\n",
    "                res.append(ans)\n",
    "        \n",
    "        #print(res)\n",
    "        return max(res)\n",
    "    \n",
    "a=Solution()\n",
    "for i in range(20):\n",
    "    print(i,a.cutRope(i))"
   ]
  },
  {
   "cell_type": "code",
   "execution_count": 162,
   "metadata": {},
   "outputs": [
    {
     "data": {
      "text/plain": [
       "(9, 9)"
      ]
     },
     "execution_count": 162,
     "metadata": {},
     "output_type": "execute_result"
    }
   ],
   "source": [
    "sum([2,3,4]),reduce(lambda x,y:x+y,[2,3,4])"
   ]
  },
  {
   "cell_type": "code",
   "execution_count": 172,
   "metadata": {},
   "outputs": [
    {
     "name": "stdout",
     "output_type": "stream",
     "text": [
      "0 0\n",
      "0 0\n",
      "0 0\n",
      "1 0\n",
      "1 0\n",
      "1 0\n",
      "2 1\n",
      "2 1\n",
      "2 1\n",
      "3 2\n",
      "3 2\n",
      "3 2\n",
      "4 4\n",
      "4 4\n",
      "4 4\n",
      "5 6\n",
      "5 6\n",
      "5 6\n",
      "6 9\n",
      "6 9\n",
      "6 9\n",
      "7 12\n",
      "7 12\n",
      "7 12\n",
      "8 18\n",
      "8 18\n",
      "8 18\n",
      "9 27\n",
      "9 27\n",
      "9 27\n",
      "10 32\n",
      "10 36\n",
      "10 36\n",
      "11 54\n",
      "11 54\n",
      "11 54\n",
      "12 81\n",
      "12 81\n",
      "12 81\n",
      "13 81\n",
      "13 108\n",
      "13 108\n",
      "14 162\n",
      "14 162\n",
      "14 162\n",
      "15 243\n",
      "15 243\n",
      "15 243\n",
      "16 256\n",
      "16 324\n",
      "16 324\n",
      "17 486\n",
      "17 486\n",
      "17 486\n",
      "18 729\n",
      "18 729\n",
      "18 729\n",
      "19 768\n",
      "19 972\n",
      "19 972\n"
     ]
    }
   ],
   "source": [
    "# -*- coding:utf-8 -*-\n",
    "import math\n",
    "from functools import reduce\n",
    "\n",
    "class Solution:\n",
    "        \n",
    "    def cutRope1(self, number):\n",
    "        # write code here\n",
    "        if not number: return 0\n",
    "        if number <3: return number-1\n",
    "        res=[]\n",
    "        for m in range(2,number):\n",
    "            x=math.ceil(number/m)\n",
    "            r=number-(m-1)*x\n",
    "            if r>0:\n",
    "                temp=[x]*(m-1)+[r]\n",
    "                #print(temp)\n",
    "                ans=reduce(lambda x,y:x*y,temp)\n",
    "                res.append(ans)\n",
    "        \n",
    "        #print(res)\n",
    "        return max(res)\n",
    "    \n",
    "    def cutRope2(self, n: int) -> int:\n",
    "        if not n: return 0\n",
    "        if n <= 3: return n - 1\n",
    "        a, b = n // 3, n % 3\n",
    "        if b == 0: return int(math.pow(3, a))\n",
    "        if b == 1: return int(math.pow(3, a - 1) * 4)\n",
    "        return int(math.pow(3, a) * 2)\n",
    "    \n",
    "    def cutRope3(self, n: int) -> int:\n",
    "        if not n: return 0\n",
    "        if n <= 3: return n - 1\n",
    "        dp=[0]*(n+1)\n",
    "        dp[2]=2\n",
    "        dp[3]=3\n",
    "        for i in range(4,n+1):\n",
    "            ii=i-1\n",
    "            j=1\n",
    "            ans=0\n",
    "            while ii>=j:\n",
    "                if dp[ii]*j>ans:\n",
    "                    ans=dp[ii]*j\n",
    "                ii-=1\n",
    "                j+=1\n",
    "            dp[i]=ans\n",
    "        return dp[n]\n",
    "    \n",
    "a=Solution()\n",
    "for i in range(20):\n",
    "    print(i,a.cutRope1(i))\n",
    "    print(i,a.cutRope2(i))\n",
    "    print(i,a.cutRope3(i))"
   ]
  },
  {
   "cell_type": "code",
   "execution_count": 173,
   "metadata": {},
   "outputs": [
    {
     "name": "stdout",
     "output_type": "stream",
     "text": [
      "100 703522804\n",
      "101 55284199\n",
      "102 582926302\n",
      "103 110568398\n",
      "104 165852597\n",
      "105 748778899\n",
      "106 331705194\n",
      "107 497557791\n",
      "108 246336683\n",
      "109 995115582\n",
      "110 492673366\n",
      "111 739010049\n",
      "112 985346732\n",
      "113 478020091\n",
      "114 217030133\n",
      "115 956040182\n",
      "116 434060266\n",
      "117 651090399\n",
      "118 868120532\n",
      "119 302180791\n"
     ]
    }
   ],
   "source": [
    "class Solution:\n",
    "    def cuttingRope(self, n: int) -> int:\n",
    "        if n <= 3: return n - 1\n",
    "        a, b, p, x, rem = n // 3 - 1, n % 3, 1000000007, 3 , 1\n",
    "        while a > 0:\n",
    "            if a % 2: rem = (rem * x) % p\n",
    "            x = x ** 2 % p\n",
    "            a //= 2\n",
    "        if b == 0: return (rem * 3) % p # = 3^(a+1) % p\n",
    "        if b == 1: return (rem * 4) % p # = 3^a * 4 % p\n",
    "        return (rem * 6) % p # = 3^(a+1) * 2  % p\n",
    "\n",
    "a=Solution()\n",
    "for i in range(100,120):\n",
    "    print(i,a.cuttingRope(i))"
   ]
  },
  {
   "cell_type": "code",
   "execution_count": 177,
   "metadata": {},
   "outputs": [
    {
     "data": {
      "text/plain": [
       "(56888193, 56888193)"
      ]
     },
     "execution_count": 177,
     "metadata": {},
     "output_type": "execute_result"
    }
   ],
   "source": [
    "# 求 (x^a) % p —— 快速幂求余\n",
    "def remainder1(x, a, p):\n",
    "    rem = 1\n",
    "    while a > 0:\n",
    "        if a % 2: rem = (rem * x) % p\n",
    "        x = x ** 2 % p\n",
    "        a //= 2\n",
    "    return rem\n",
    "\n",
    "# 求 (x^a) % p —— 循环求余法\n",
    "def remainder2(x, a, p):\n",
    "    rem = 1\n",
    "    for _ in range(a):\n",
    "        rem = (rem * x) % p\n",
    "    return rem\n",
    "\n",
    "a=1000\n",
    "p=1000000007\n",
    "remainder1(3,a,p),remainder2(3,a,p)"
   ]
  },
  {
   "cell_type": "code",
   "execution_count": 179,
   "metadata": {},
   "outputs": [
    {
     "name": "stdout",
     "output_type": "stream",
     "text": [
      "100 703522804\n",
      "100 703522804\n",
      "101 55284199\n",
      "101 55284199\n",
      "102 582926302\n",
      "102 582926302\n",
      "103 110568398\n",
      "103 110568398\n",
      "104 165852597\n",
      "104 165852597\n",
      "105 748778899\n",
      "105 748778899\n",
      "106 331705194\n",
      "106 331705194\n",
      "107 497557791\n",
      "107 497557791\n",
      "108 246336683\n",
      "108 246336683\n",
      "109 995115582\n",
      "109 995115582\n",
      "110 492673366\n",
      "110 492673366\n",
      "111 739010049\n",
      "111 739010049\n",
      "112 985346732\n",
      "112 985346732\n",
      "113 478020091\n",
      "113 478020091\n",
      "114 217030133\n",
      "114 217030133\n",
      "115 956040182\n",
      "115 956040182\n",
      "116 434060266\n",
      "116 434060266\n",
      "117 651090399\n",
      "117 651090399\n",
      "118 868120532\n",
      "118 868120532\n",
      "119 302180791\n",
      "119 302180791\n"
     ]
    }
   ],
   "source": [
    "# -*- coding:utf-8 -*-\n",
    "import math\n",
    "\n",
    "class Solution:\n",
    "    \n",
    "    def cutRope1(self, n: int) -> int:\n",
    "        if not n: return 0\n",
    "        if n <= 3: return n - 1\n",
    "        a, b = n // 3, n % 3\n",
    "        if b == 0: return int(pow(3, a)) % 1000000007\n",
    "        if b == 1: return int(pow(3, a - 1) * 4) % 1000000007\n",
    "        return int(pow(3, a) * 2) % 1000000007\n",
    "    \n",
    "    def cutRope2(self, n: int) -> int:\n",
    "        if not n: return 0\n",
    "        if n <= 3: return n - 1\n",
    "        dp=[0]*(n+1)\n",
    "        dp[2]=2\n",
    "        dp[3]=3\n",
    "        for i in range(4,n+1):\n",
    "            ii=i-1\n",
    "            j=1\n",
    "            ans=0\n",
    "            while ii>=j:\n",
    "                if dp[ii]*j>ans:\n",
    "                    ans=dp[ii]*j\n",
    "                ii-=1\n",
    "                j+=1\n",
    "            dp[i]=ans\n",
    "        return dp[n] % 1000000007\n",
    "    \n",
    "a=Solution()\n",
    "for i in range(100,120):\n",
    "    print(i,a.cutRope1(i))\n",
    "    print(i,a.cutRope2(i))"
   ]
  },
  {
   "cell_type": "code",
   "execution_count": 206,
   "metadata": {},
   "outputs": [
    {
     "name": "stdout",
     "output_type": "stream",
     "text": [
      "[8, 6, 10, 5, 7, 9, 11]\n",
      "[11, 7, 10, 5, 6, 9, 8]\n",
      "[11, 7, 10, 5, 6, 9, 8]\n",
      "[10, 7, 9, 5, 6, 8]\n",
      "[9, 7, 8, 5, 6]\n",
      "[8, 7, 6, 5]\n",
      "[7, 5, 6]\n",
      "[11, 10, 9, 8, 7, 6, 5]\n"
     ]
    }
   ],
   "source": [
    "# Definition for a binary tree node.\n",
    "class TreeNode:\n",
    "    def __init__(self, x):\n",
    "        self.val = x\n",
    "        self.left = None\n",
    "        self.right = None\n",
    "\n",
    "class Solution:\n",
    "    def __init__(self,values):\n",
    "        self.values=values\n",
    "        self.size=len([x for x in values if x])\n",
    "        \n",
    "    def Max_heapify(self,values,i):\n",
    "        # write code here\n",
    "        l=self.left(i)-1\n",
    "        r=self.right(i)-1\n",
    "        \n",
    "        size=len([x for x in values if x])\n",
    "        \n",
    "        if l<size and values[l]>values[i-1]:\n",
    "            lagest=l\n",
    "        else:\n",
    "            lagest=i-1\n",
    "        if r<size and values[r]>values[lagest]:\n",
    "            lagest=r\n",
    "        if lagest!=i-1:\n",
    "            values[i-1],values[lagest] = values[lagest],values[i-1]\n",
    "            self.Max_heapify(values,lagest+1)\n",
    "        return values\n",
    "    \n",
    "    def Build_max_heap(self,values):\n",
    "        l=len(values)//2\n",
    "        for i in range(l,0,-1):\n",
    "            self.Max_heapify(values,i)\n",
    "            #print(i,values)\n",
    "        return values\n",
    "    \n",
    "    def heap_sort(self,values):\n",
    "        self.Build_max_heap(values)\n",
    "        #print(values)\n",
    "        size=len([x for x in values if x])-1\n",
    "        res=[]\n",
    "        for i in range(size,1,-1):\n",
    "            #print(i,values)\n",
    "            values[0],values[i] = values[i],values[0]\n",
    "            res.append(values.pop())\n",
    "            self.Max_heapify(values,1)\n",
    "            \n",
    "        if values:\n",
    "            res +=values\n",
    "        return res\n",
    "    \n",
    "    \n",
    "    @staticmethod\n",
    "    def parent(i):\n",
    "        return i//2\n",
    "    @staticmethod\n",
    "    def left(i):\n",
    "        return i*2\n",
    "    @staticmethod\n",
    "    def right(i):\n",
    "        return i*2+1\n",
    "    \n",
    "    @staticmethod\n",
    "    def create_tree(values):  \n",
    "        if not values: return None\n",
    "    \n",
    "        root = TreeNode(values[0])\n",
    "        queue = [root]\n",
    "        leng = len(values)\n",
    "        nums = 1\n",
    "        while nums < leng:\n",
    "            node = queue.pop(0)\n",
    "            if node:\n",
    "                node.left = TreeNode(values[nums]) if values[nums] else None\n",
    "                queue.append(node.left)\n",
    "                if nums + 1 < leng:\n",
    "                    node.right = TreeNode(values[nums+1]) if values[nums+1] else None\n",
    "                    queue.append(node.right)\n",
    "                    nums += 1\n",
    "                nums += 1\n",
    "        return root\n",
    "    \n",
    "    @staticmethod\n",
    "    def print_tree(root):\n",
    "        ret = []\n",
    "        queue = [root]\n",
    "        while queue:\n",
    "            node = queue.pop(0)\n",
    "            if node:\n",
    "                ret.append(node.val)\n",
    "                queue.append(node.left)\n",
    "                queue.append(node.right)\n",
    "        return ret\n",
    "    \n",
    "\n",
    "values= [8,6,10,5,7,9,11]\n",
    "\n",
    "a=Solution(values)\n",
    "root=a.create_tree(values)\n",
    "print(a.print_tree(root))\n",
    "\n",
    "#m=a.Max_heapify(values,1)\n",
    "#print(m)\n",
    "\n",
    "b=a.Build_max_heap(values)\n",
    "print(b)\n",
    "\n",
    "s=a.heap_sort(values)\n",
    "print(s)\n"
   ]
  },
  {
   "cell_type": "code",
   "execution_count": 181,
   "metadata": {},
   "outputs": [
    {
     "data": {
      "text/plain": [
       "5"
      ]
     },
     "execution_count": 181,
     "metadata": {},
     "output_type": "execute_result"
    }
   ],
   "source": [
    "len([x for x in [3,2,3,None,3,None,1] if x])"
   ]
  },
  {
   "cell_type": "code",
   "execution_count": 207,
   "metadata": {},
   "outputs": [
    {
     "name": "stdout",
     "output_type": "stream",
     "text": [
      "5\n"
     ]
    }
   ],
   "source": [
    "# -*- coding:utf-8 -*-\n",
    "class Solution:\n",
    "    def Insert(self, num):\n",
    "        # write code here\n",
    "        self.num=num\n",
    "        \n",
    "    def GetMedian(self):\n",
    "        # write code here\n",
    "        l=len(self.num)\n",
    "        mid=l//2\n",
    "        if l % 2:\n",
    "            return self.num[mid]\n",
    "        else:\n",
    "            return (self.num[mid]+self.num[mid+1])/2\n",
    "\n",
    "values= [8,6,10,5,7,9,11]\n",
    "\n",
    "a=Solution()\n",
    "a.Insert(values)\n",
    "print(a.GetMedian())"
   ]
  },
  {
   "cell_type": "code",
   "execution_count": 238,
   "metadata": {},
   "outputs": [
    {
     "name": "stdout",
     "output_type": "stream",
     "text": [
      "[[5], [5, 2], [5, 2, 3], [5, 2, 3, 4], [5, 2, 3, 4, 1], [5, 2, 3, 4, 1, 6], [5, 2, 3, 4, 1, 6, 7], [5, 2, 3, 4, 1, 6, 7, 0], [5, 2, 3, 4, 1, 6, 7, 0, 8]]\n"
     ]
    },
    {
     "data": {
      "text/plain": [
       "[5, 3.5, 3, 3.5, 3, 3.5, 4, 3.5, 4]"
      ]
     },
     "execution_count": 238,
     "metadata": {},
     "output_type": "execute_result"
    }
   ],
   "source": [
    "# -*- coding:utf-8 -*-\n",
    "class Solution:\n",
    "    def Insert(self, num):\n",
    "        # write code here\n",
    "          self.num=[num[:i] for i in range(1,len(num)+1)]\n",
    "        \n",
    "    def GetMedian(self):\n",
    "        # write code here\n",
    "        num=self.num\n",
    "        res=num[0]\n",
    "        for i in range(1,len(num)):\n",
    "            l=len(num[i])\n",
    "            num[i].sort()\n",
    "            mid=l//2\n",
    "            if l % 2:\n",
    "                med=num[i][mid]\n",
    "            else:\n",
    "                med=(num[i][mid-1]+num[i][mid])/2\n",
    "            \n",
    "            res.append(med)\n",
    "            \n",
    "        return res\n",
    "\n",
    "values= [5,2,3,4,1,6,7,0,8]\n",
    "\n",
    "a=Solution()\n",
    "a.Insert(values)\n",
    "print(a.num)\n",
    "a.GetMedian()"
   ]
  },
  {
   "cell_type": "code",
   "execution_count": 251,
   "metadata": {},
   "outputs": [
    {
     "name": "stdout",
     "output_type": "stream",
     "text": [
      "[5]\n",
      "5\n",
      "[5, 2]\n",
      "3.5\n",
      "[2, 5, 3]\n",
      "3\n",
      "[2, 3, 5, 4]\n",
      "3.5\n",
      "[2, 3, 4, 5, 1]\n",
      "3\n",
      "[1, 2, 3, 4, 5, 6]\n",
      "3.5\n",
      "[1, 2, 3, 4, 5, 6, 7]\n",
      "4\n",
      "[1, 2, 3, 4, 5, 6, 7, 0]\n",
      "3.5\n",
      "[0, 1, 2, 3, 4, 5, 6, 7, 8]\n",
      "4\n"
     ]
    }
   ],
   "source": [
    "# -*- coding:utf-8 -*-\n",
    "class Solution:\n",
    "    def __init__(self):\n",
    "        self.num=[]\n",
    "        \n",
    "    def Insert(self, num):\n",
    "        # write code here\n",
    "        self.num.append(num)\n",
    "        \n",
    "    def GetMedian(self):\n",
    "        # write code here\n",
    "        num=self.num\n",
    "        num.sort()\n",
    "        l=len(num)\n",
    "        mid=l//2\n",
    "        if l % 2:\n",
    "            med=num[mid]\n",
    "        else:\n",
    "            med=(num[mid-1]+num[mid])/2\n",
    "            \n",
    "        return med\n",
    "\n",
    "values= [5,2,3,4,1,6,7,0,8]\n",
    "\n",
    "a=Solution()\n",
    "for value in values:\n",
    "    a.Insert(value)\n",
    "    print(a.num)\n",
    "    print(a.GetMedian())"
   ]
  },
  {
   "cell_type": "code",
   "execution_count": 260,
   "metadata": {},
   "outputs": [
    {
     "name": "stdout",
     "output_type": "stream",
     "text": [
      "[1, 3]\n",
      "2.0\n",
      "[1, 3, 4, 9]\n",
      "3.5\n"
     ]
    }
   ],
   "source": [
    "# -*- coding:utf-8 -*-\n",
    "class Solution:\n",
    "    def __init__(self):\n",
    "        self.num=[]\n",
    "        \n",
    "    def Insert(self, *nums):\n",
    "        # write code here\n",
    "        #for num in nums:\n",
    "        #    self.num.append(num)\n",
    "        self.num +=nums\n",
    "        \n",
    "    def GetMedian(self):\n",
    "        # write code here\n",
    "        num=self.num\n",
    "        num.sort()\n",
    "        l=len(num)\n",
    "        mid=l//2\n",
    "        if l % 2:\n",
    "            med=num[mid]\n",
    "        else:\n",
    "            med=(num[mid-1]+num[mid])/2\n",
    "            \n",
    "        return med\n",
    "\n",
    "a=Solution()\n",
    "a.Insert(1)\n",
    "a.Insert(3)\n",
    "print(a.num)\n",
    "print(a.GetMedian())\n",
    "a.Insert(4,9)\n",
    "print(a.num)\n",
    "print(a.GetMedian())"
   ]
  },
  {
   "cell_type": "code",
   "execution_count": 277,
   "metadata": {},
   "outputs": [
    {
     "name": "stdout",
     "output_type": "stream",
     "text": [
      "0 0\n",
      "0 1\n",
      "0 2\n",
      "0 3\n",
      "0 4\n",
      "0 5\n",
      "0 10\n",
      "1 0\n",
      "1 1\n",
      "1 2\n",
      "1 3\n",
      "1 4\n",
      "1 10\n",
      "2 0\n",
      "2 1\n",
      "2 2\n",
      "2 3\n",
      "2 10\n",
      "3 0\n",
      "3 1\n",
      "3 2\n",
      "3 10\n",
      "4 0\n",
      "4 1\n",
      "4 10\n",
      "5 0\n",
      "10 0\n",
      "10 1\n",
      "10 2\n",
      "10 3\n",
      "10 4\n",
      "10 10\n"
     ]
    },
    {
     "data": {
      "text/plain": [
       "32"
      ]
     },
     "execution_count": 277,
     "metadata": {},
     "output_type": "execute_result"
    }
   ],
   "source": [
    "# -*- coding:utf-8 -*-\n",
    "class Solution:\n",
    "    def movingCount(self, threshold, rows, cols):\n",
    "        # write code here\n",
    "        res=0\n",
    "        for i in range(0,rows+1):\n",
    "            for j in range(0,cols+1):\n",
    "                temp=list(str(i)+str(j))\n",
    "                temp1=list(map(int, temp))\n",
    "                ans=sum(temp1)\n",
    "                if ans > threshold:\n",
    "                    continue\n",
    "                res +=1\n",
    "                print(i,j)\n",
    "            \n",
    "        return res\n",
    "\n",
    "a=Solution()\n",
    "a.movingCount(5,10,10)"
   ]
  },
  {
   "cell_type": "code",
   "execution_count": 290,
   "metadata": {},
   "outputs": [
    {
     "data": {
      "text/plain": [
       "(21, 21, 21)"
      ]
     },
     "execution_count": 290,
     "metadata": {},
     "output_type": "execute_result"
    }
   ],
   "source": [
    "def digitsum(n):\n",
    "    ans = 0\n",
    "    while n:\n",
    "        ans += n % 10\n",
    "        n //= 10\n",
    "    return ans\n",
    "\n",
    "class Solution:\n",
    "    def movingCount1(self, m: int, n: int, k: int) -> int:\n",
    "        from queue import Queue\n",
    "        q = Queue()\n",
    "        q.put((0, 0))\n",
    "        s = set()\n",
    "        while not q.empty():\n",
    "            x, y = q.get()\n",
    "            if (x, y) not in s and 0 <= x < m and 0 <= y < n and digitsum(x) + digitsum(y) <= k:\n",
    "                s.add((x, y))\n",
    "                for nx, ny in [(x + 1, y), (x, y + 1)]:\n",
    "                    q.put((nx, ny))\n",
    "        return len(s)\n",
    "    \n",
    "    def movingCount2(self, m: int, n: int, k: int) -> int:\n",
    "        def dfs(i, j, si, sj):\n",
    "            if i >= m or j >= n or k < si + sj or (i, j) in visited: return 0\n",
    "            visited.add((i,j))\n",
    "            return 1 + dfs(i + 1, j, si + 1 if (i + 1) % 10 else si - 8, sj) + dfs(i, j + 1, si, sj + 1 if (j + 1) % 10 else sj - 8)\n",
    "\n",
    "        visited = set()\n",
    "        return dfs(0, 0, 0, 0)\n",
    "    \n",
    "    def movingCount3(self, m: int, n: int, k: int) -> int:  \n",
    "        def dfs(i, j):\n",
    "            if i == m or j == n or digitsum(i) + digitsum(j) > k or (i, j) in marked:\n",
    "                return \n",
    "            marked.add((i, j))\n",
    "            dfs(i + 1, j)\n",
    "            dfs(i, j + 1)\n",
    "            \n",
    "        marked = set()\n",
    "        dfs(0, 0)\n",
    "        return len(marked)\n",
    "    \n",
    "\n",
    "a=Solution()\n",
    "a.movingCount2(10,10,5),a.movingCount2(10,10,5),a.movingCount2(10,10,5)"
   ]
  },
  {
   "cell_type": "code",
   "execution_count": 285,
   "metadata": {},
   "outputs": [
    {
     "data": {
      "text/plain": [
       "[[1, 1, 1, 1, 1], [1, 0, 0, 0, 0], [1, 0, 0, 0, 0]]"
      ]
     },
     "execution_count": 285,
     "metadata": {},
     "output_type": "execute_result"
    }
   ],
   "source": [
    "m,n=3,5\n",
    "[[1]*n] + [[1] + [0] *(n-1)] * (m-1)"
   ]
  },
  {
   "cell_type": "code",
   "execution_count": 286,
   "metadata": {},
   "outputs": [
    {
     "data": {
      "text/plain": [
       "3"
      ]
     },
     "execution_count": 286,
     "metadata": {},
     "output_type": "execute_result"
    }
   ],
   "source": [
    "class Solution:\n",
    "    def uniquePaths(self, m: int, n: int) -> int:\n",
    "        dp=[[1]*n] + [[1] + [0] *(n-1)] * (m-1)\n",
    "\n",
    "        for i in range(1,m):\n",
    "            for j in range(1,n):\n",
    "                dp[i][j] = dp[i-1][j] + dp[i][j-1]\n",
    "        \n",
    "        return dp[-1][-1]\n",
    "    \n",
    "a=Solution()\n",
    "a.uniquePaths(3,2)"
   ]
  },
  {
   "cell_type": "code",
   "execution_count": 358,
   "metadata": {},
   "outputs": [
    {
     "name": "stdout",
     "output_type": "stream",
     "text": [
      "ABCE\n",
      "SFCS\n",
      "ADEE\n",
      "1 0\n",
      "[[1, 1, 1, 1], [0, 1, 1, 1], [1, 1, 1, 1]]\n",
      "1 3\n",
      "[[1, 1, 1, 1], [1, 1, 1, 0], [1, 1, 1, 1]]\n",
      "2 3\n",
      "[[1, 1, 1, 1], [1, 1, 1, 0], [1, 1, 1, 0]]\n",
      "2 2\n"
     ]
    },
    {
     "data": {
      "text/plain": [
       "True"
      ]
     },
     "execution_count": 358,
     "metadata": {},
     "output_type": "execute_result"
    }
   ],
   "source": [
    "# -*- coding:utf-8 -*-\n",
    "class Solution:\n",
    "    def hasPath(self, matrix, rows, cols, path):\n",
    "        # write code here\n",
    "        \n",
    "        def row(i,cols):\n",
    "            return i // cols\n",
    "        \n",
    "        def col(i,cols):\n",
    "            return  i % cols\n",
    "        \n",
    "        def dfs(r,c,path):\n",
    "            if not path:\n",
    "                return True\n",
    "             \n",
    "            dp[r][c] = 0\n",
    "            print(dp)\n",
    "            if c+1<cols and matrix[r*cols+c+1]==path[0] and dp[r][c+1]:\n",
    "                print(r,c+1)\n",
    "                if dfs(r,c+1,path[1:]):\n",
    "                    return True\n",
    "            if c-1>=0 and matrix[r*cols+c-1]==path[0] and dp[r][c-1]:\n",
    "                print(r,c-1)\n",
    "                if dfs(r,c-1,path[1:]):\n",
    "                    return True\n",
    "            if r+1<rows and matrix[(r+1)*cols+c]==path[0] and dp[r+1][c]:\n",
    "                print(r+1,c)\n",
    "                if dfs(r+1,c,path[1:]):\n",
    "                    return True\n",
    "            if r-1>=0 and matrix[(r-1)*cols+c]==path[0] and dp[r-1][c]:\n",
    "                print(r-1,c)\n",
    "                if dfs(r-1,c,path[1:]):\n",
    "                    return True\n",
    "               \n",
    "            return False\n",
    "            \n",
    "        matrix=list(matrix)    \n",
    "        p = path[0]\n",
    "        i=1\n",
    "        dp=[[ 1 for _ in range(cols)] for _ in range(rows)]\n",
    "        \n",
    "        for i in range(len(matrix)):\n",
    "            if matrix[i]==p:\n",
    "                r,c =row(i, cols), col(i, cols)\n",
    "                print(r,c)\n",
    "                if dfs(r,c,path[1:]):\n",
    "                    return True\n",
    "            dp=[[ 1 for _ in range(cols)] for _ in range(rows)]\n",
    "                \n",
    "                \n",
    "        \n",
    "        return False\n",
    "                \n",
    "        \n",
    "            \n",
    "a=Solution()\n",
    "matrix=\"ABCESFCSADEE\"\n",
    "for i in range(3):\n",
    "    print(matrix[i*4:(i+1)*4])\n",
    "    \n",
    "path=\"SEE\"\n",
    "a.hasPath(matrix,3,4,path)"
   ]
  },
  {
   "cell_type": "code",
   "execution_count": 343,
   "metadata": {},
   "outputs": [
    {
     "name": "stdout",
     "output_type": "stream",
     "text": [
      "ABCE\n",
      "SFCS\n",
      "ADEE\n",
      "[['A', 'B', 'C', 'E'], ['S', 'F', 'C', 'S'], ['A', 'D', 'E', 'E']]\n"
     ]
    },
    {
     "data": {
      "text/plain": [
       "True"
      ]
     },
     "execution_count": 343,
     "metadata": {},
     "output_type": "execute_result"
    }
   ],
   "source": [
    "class Solution:\n",
    "    def hasPath(self, matrix, rows, cols, word):\n",
    "        def dfs(i, j, k):\n",
    "            if not 0 <= i < len(board) or not 0 <= j < len(board[0]) or board[i][j] != word[k]: return False\n",
    "            if k == len(word) - 1: return True\n",
    "            tmp, board[i][j] = board[i][j], '/'\n",
    "            res = dfs(i + 1, j, k + 1) or dfs(i - 1, j, k + 1) or dfs(i, j + 1, k + 1) or dfs(i, j - 1, k + 1)\n",
    "            board[i][j] = tmp\n",
    "            return res\n",
    "        \n",
    "        matrix=list(matrix) \n",
    "        board=[]\n",
    "        for i in range(rows):\n",
    "            board.append(matrix[i*cols:(i+1)*cols])\n",
    "        \n",
    "        print(board)    \n",
    "        for i in range(rows):\n",
    "            for j in range(cols):\n",
    "                if dfs(i, j, 0): return True\n",
    "        return False\n",
    "    \n",
    "a=Solution()\n",
    "matrix=\"ABCESFCSADEE\"\n",
    "for i in range(3):\n",
    "    print(matrix[i*4:(i+1)*4])\n",
    "    \n",
    "path=\"SEC\"\n",
    "a.hasPath(matrix,3,4,path)"
   ]
  },
  {
   "cell_type": "code",
   "execution_count": 361,
   "metadata": {},
   "outputs": [
    {
     "data": {
      "text/plain": [
       "(55, 55)"
      ]
     },
     "execution_count": 361,
     "metadata": {},
     "output_type": "execute_result"
    }
   ],
   "source": [
    "# -*- coding:utf-8 -*-\n",
    "class Solution:\n",
    "    def __init__(self):\n",
    "        self.sum=0\n",
    "    def Sum_Solution1(self, n):\n",
    "        # write code here\n",
    "        def recursive(n):\n",
    "            self.sum +=n\n",
    "            n -=1\n",
    "            \n",
    "            return n and recursive(n)\n",
    "        \n",
    "        recursive(n)\n",
    "        return self.sum\n",
    "    \n",
    "    def Sum_Solution2(self, n):\n",
    "        # write code here\n",
    "        sum = (n**2 + n) >> 1\n",
    "        return sum\n",
    "    \n",
    "a=Solution()\n",
    "a.Sum_Solution1(10),a.Sum_Solution2(10)"
   ]
  },
  {
   "cell_type": "code",
   "execution_count": 386,
   "metadata": {},
   "outputs": [
    {
     "name": "stdout",
     "output_type": "stream",
     "text": [
      "[0, 4, 3, 5, 9]\n"
     ]
    },
    {
     "data": {
      "text/plain": [
       "(False, True)"
      ]
     },
     "execution_count": 386,
     "metadata": {},
     "output_type": "execute_result"
    }
   ],
   "source": [
    "# -*- coding:utf-8 -*-\n",
    "import random\n",
    "import collections\n",
    "class Solution:\n",
    "    \n",
    "    def draw(self,number):\n",
    "        jokers=[0,0] + [x for x in range(1,14)] *4\n",
    "        random.shuffle(jokers)\n",
    "        res=[]\n",
    "        for _ in range(number):\n",
    "            res.append(jokers.pop())\n",
    "            random.shuffle(jokers)\n",
    "        return res\n",
    "\n",
    "    def IsContinuous1(self,num):\n",
    "        # write code here\n",
    "        if not numbers:\n",
    "            return False\n",
    "        num.sort()\n",
    "        def recursive(num):\n",
    "            if len(num)==1: return True\n",
    "            temp=num.pop()\n",
    "            if temp==num[-1]+1:\n",
    "                return recursive(num)\n",
    "            elif 0 in num:\n",
    "                num.remove(0)\n",
    "                num.append(temp-1)\n",
    "                return recursive(num)\n",
    "            else:\n",
    "                return False\n",
    "        \n",
    "        return recursive(num)\n",
    "        \n",
    "    def IsContinuous2(self,num):\n",
    "        if not numbers:\n",
    "            return False\n",
    "        c = collections.Counter(num)\n",
    "        m = c[0]\n",
    "        new_list = [i for i in num if i > 0]\n",
    "        new_list.sort()\n",
    "        n = 0\n",
    "        for j in range(len(new_list)-1):\n",
    "            if (new_list[j+1] - new_list[j]) > 0:\n",
    "                n += (new_list[j+1] - new_list[j])\n",
    "            else:\n",
    "                return False\n",
    "        if n <= 4:\n",
    "            return True\n",
    "        else:\n",
    "            return False      \n",
    "    \n",
    "a=Solution()\n",
    "num=a.draw(5)\n",
    "print(num)\n",
    "a.IsContinuous1(num),a.IsContinuous2(num)"
   ]
  },
  {
   "cell_type": "code",
   "execution_count": null,
   "metadata": {},
   "outputs": [],
   "source": [
    "def IsContinue(num):\n",
    "    if not numbers:\n",
    "            return False\n",
    "    num.sort()\n",
    "    def recursive(num):\n",
    "        if len(num)==1: return True\n",
    "        temp=num.pop()\n",
    "        if temp==num[-1]+1:\n",
    "            return recursive(num)\n",
    "        elif 0 in num:\n",
    "            num.remove(0)\n",
    "            num.append(temp-1)\n",
    "            return recursive(num)\n",
    "        else:\n",
    "            return False\n",
    "        \n",
    "    return recursive(num)\n",
    "\n",
    "num=[0,5,3,0,7]\n",
    "IsContinue(num)"
   ]
  },
  {
   "cell_type": "code",
   "execution_count": 376,
   "metadata": {},
   "outputs": [
    {
     "name": "stdout",
     "output_type": "stream",
     "text": [
      "a\n"
     ]
    }
   ],
   "source": [
    "if 0 in [0,1,2,3]:\n",
    "    print (\"a\")"
   ]
  },
  {
   "cell_type": "code",
   "execution_count": 33,
   "metadata": {},
   "outputs": [
    {
     "name": "stdout",
     "output_type": "stream",
     "text": [
      "goo\n",
      "g\n",
      "google\n",
      "l\n"
     ]
    }
   ],
   "source": [
    "# -*- coding:utf-8 -*-\n",
    "class Solution:\n",
    "    # 返回对应char\n",
    "    def __init__(self):\n",
    "        self.string=[]\n",
    "        \n",
    "    def Insert(self, char):\n",
    "        # write code here\n",
    "        self.string.extend(list(char))\n",
    "        \n",
    "    def FirstAppearingOnce(self):\n",
    "        # write code here\n",
    "        string=self.string[::-1]\n",
    "        stack=[string.pop()]\n",
    "        while string:\n",
    "            tmp=string.pop()\n",
    "            if tmp in stack:\n",
    "                stack.remove(tmp)\n",
    "            else:\n",
    "                stack.append(tmp)\n",
    "                \n",
    "        if not stack: return \"#\"        \n",
    "        return stack[0]\n",
    "    \n",
    "a=Solution()\n",
    "a.Insert('go')\n",
    "a.Insert('o')\n",
    "print(''.join(a.string))\n",
    "print(a.FirstAppearingOnce())\n",
    "a.Insert('gle')\n",
    "print(''.join(a.string))\n",
    "print(a.FirstAppearingOnce())"
   ]
  },
  {
   "cell_type": "code",
   "execution_count": 2,
   "metadata": {},
   "outputs": [
    {
     "data": {
      "text/plain": [
       "(['2', '1'], ['3', '4', '5'])"
      ]
     },
     "execution_count": 2,
     "metadata": {},
     "output_type": "execute_result"
    }
   ],
   "source": [
    "list(\"12345\")[1::-1],list(\"12345\")[2:]"
   ]
  },
  {
   "cell_type": "code",
   "execution_count": 32,
   "metadata": {},
   "outputs": [
    {
     "name": "stdout",
     "output_type": "stream",
     "text": [
      "google\n",
      "ggg#ll\n"
     ]
    }
   ],
   "source": [
    "# -*- coding:utf-8 -*-\n",
    "class Solution:\n",
    "    # 返回对应char\n",
    "    def __init__(self):\n",
    "        self.string=[]\n",
    "        \n",
    "    def Insert(self, char):\n",
    "        # write code here\n",
    "        self.string.extend(list(char))\n",
    "        \n",
    "    def FirstAppearingOnce(self):\n",
    "        # write code here\n",
    "        res=[]\n",
    "        for i in range(len(self.string)):\n",
    "            string=self.string[i::-1]\n",
    "            stack=[string.pop()]\n",
    "            while string:\n",
    "                tmp=string.pop()\n",
    "                if tmp in stack:\n",
    "                    stack.remove(tmp)\n",
    "                else:\n",
    "                    stack.append(tmp)\n",
    "            \n",
    "            if not stack: \n",
    "                res.append(\"#\" )\n",
    "            else:    \n",
    "                res.append(stack[0])\n",
    "            \n",
    "        return \"\".join(res)\n",
    "\n",
    "a=Solution()   \n",
    "a.Insert('google')\n",
    "print(''.join(a.string))\n",
    "print(a.FirstAppearingOnce())"
   ]
  },
  {
   "cell_type": "code",
   "execution_count": 31,
   "metadata": {},
   "outputs": [
    {
     "name": "stdout",
     "output_type": "stream",
     "text": [
      "g\n",
      "gg\n",
      "ggg\n",
      "ggg#\n",
      "ggg#l\n",
      "ggg#ll\n",
      "google\n",
      "ggg#ll\n"
     ]
    }
   ],
   "source": [
    "# -*- coding:utf-8 -*-\n",
    "class Solution:\n",
    "    # 返回对应char\n",
    "    def __init__(self):\n",
    "        self.string=[]\n",
    "        self.res=[]\n",
    "        \n",
    "    def Insert(self, char):\n",
    "        # write code here\n",
    "        self.string.append(char)\n",
    "        \n",
    "    def FirstAppearingOnce(self):\n",
    "        # write code here\n",
    "        string=self.string[::-1]\n",
    "        stack=[string.pop()]\n",
    "        while string:\n",
    "            tmp=string.pop()\n",
    "            if tmp in stack:\n",
    "                stack.remove(tmp)\n",
    "            else:\n",
    "                stack.append(tmp)\n",
    "\n",
    "        if not stack: \n",
    "            self.res.append(\"#\")\n",
    "        else:    \n",
    "            self.res.append(stack[0])\n",
    "            \n",
    "        return \"\".join(self.res)\n",
    "    \n",
    "a=Solution()\n",
    "for x in list(\"google\"):\n",
    "    a.Insert(x)\n",
    "    print(a.FirstAppearingOnce())\n",
    "    \n",
    "print(''.join(a.string))\n",
    "print(''.join(a.res))"
   ]
  },
  {
   "cell_type": "code",
   "execution_count": 34,
   "metadata": {},
   "outputs": [
    {
     "name": "stdout",
     "output_type": "stream",
     "text": [
      "0\n",
      "1\n",
      "1\n",
      "2\n",
      "3\n",
      "5\n",
      "8\n",
      "13\n",
      "21\n",
      "34\n"
     ]
    }
   ],
   "source": [
    "# -*- coding:utf-8 -*-\n",
    "class Solution:\n",
    "    def Fibonacci(self, n):\n",
    "        # write code here\n",
    "        if not n: return 0\n",
    "        \n",
    "        fir=1\n",
    "        sec=1\n",
    "        for _ in range(2,n):\n",
    "            tmp=sec\n",
    "            sec +=fir\n",
    "            fir =tmp\n",
    "        return sec\n",
    "    \n",
    "a=Solution()\n",
    "for i in range(10):\n",
    "    print(a.Fibonacci(i))"
   ]
  },
  {
   "cell_type": "code",
   "execution_count": null,
   "metadata": {},
   "outputs": [],
   "source": [
    "# -*- coding:utf-8 -*-\n",
    "class Solution:\n",
    "    def Fibonacci(self, n):\n",
    "        # write code here\n",
    "        if not n: return 0\n",
    "        \n",
    "        fir=1\n",
    "        sec=1\n",
    "        for _ in range(2,n):\n",
    "            tmp=sec\n",
    "            sec +=fir\n",
    "            fir =tmp\n",
    "        return sec\n",
    "    \n",
    "a=Solution()\n",
    "for i in range(10):\n",
    "    print(a.Fibonacci(i))"
   ]
  },
  {
   "cell_type": "code",
   "execution_count": 8,
   "metadata": {},
   "outputs": [
    {
     "name": "stdout",
     "output_type": "stream",
     "text": [
      "3\n",
      "[0, 1, 2, 4, 5, 6, 7, 8, 9] [4, 5, 6, 7, 8, 9, 0, 1, 2]\n",
      "7\n",
      "[0, 1, 2, 4, 5, 6, 8, 9] [8, 9, 0, 1, 2, 4, 5, 6]\n",
      "1\n",
      "[0, 2, 4, 5, 6, 8, 9] [2, 4, 5, 6, 8, 9, 0]\n",
      "6\n",
      "[0, 2, 4, 5, 8, 9] [8, 9, 0, 2, 4, 5]\n",
      "2\n",
      "[0, 4, 5, 8, 9] [4, 5, 8, 9, 0]\n",
      "9\n",
      "[0, 4, 5, 8] [0, 4, 5, 8]\n",
      "8\n",
      "[0, 4, 5] [0, 4, 5]\n",
      "0\n",
      "[4, 5] [4, 5]\n",
      "5\n",
      "[4] [4]\n"
     ]
    },
    {
     "data": {
      "text/plain": [
       "4"
      ]
     },
     "execution_count": 8,
     "metadata": {},
     "output_type": "execute_result"
    }
   ],
   "source": [
    "# -*- coding:utf-8 -*-\n",
    "class Solution:\n",
    "    def LastRemaining_Solution(self, n, m):\n",
    "        # write code here\n",
    "        if not n: return -1\n",
    "        \n",
    "        ans=[x for x in range(n)]\n",
    "        temp=ans[:]\n",
    "        while len(ans)>1:\n",
    "            stack=[]\n",
    "            while len(stack)<m:\n",
    "                stack += temp\n",
    "                \n",
    "            tmp=stack.pop(m-1)\n",
    "            i=ans.index(tmp)\n",
    "            print(tmp)\n",
    "            ans.remove(tmp)\n",
    "            temp=ans[i:]+ans[:i]\n",
    "            print(ans,temp)\n",
    "        \n",
    "        return ans[0]\n",
    "    \n",
    "a=Solution()\n",
    "a.LastRemaining_Solution(10,4)"
   ]
  },
  {
   "cell_type": "code",
   "execution_count": 400,
   "metadata": {},
   "outputs": [
    {
     "name": "stdout",
     "output_type": "stream",
     "text": [
      "1,2,3,4,5,6,1,2,3,4,5,6,1,2,3,4,5,6,1,2,\n"
     ]
    }
   ],
   "source": [
    "# -*- coding:utf-8 -*-\n",
    "class listNode:\n",
    "    def __init__(self,x):\n",
    "        self.val=x\n",
    "        self.pre=None\n",
    "        self.next=None\n",
    "        \n",
    "def create_list(nums):\n",
    "            if not nums: return\n",
    "        \n",
    "            first=None\n",
    "            for num in nums:\n",
    "                node=listNode(num)\n",
    "                node.pre=first\n",
    "                first=node\n",
    "                \n",
    "            last=None\n",
    "            for _ in range(len(nums)):\n",
    "                node.next=last\n",
    "                last=node\n",
    "                node=node.pre\n",
    "                \n",
    "            first.next=last\n",
    "            last.pre=first\n",
    "            \n",
    "            return last\n",
    "        \n",
    "def print_list(node):\n",
    "    n=20\n",
    "    if node:\n",
    "        for _ in range(n):\n",
    "            print(\"%s,\" % node.val,end='')\n",
    "            node=node.next\n",
    "        print('')\n",
    "        \n",
    "values=[1,2,3,4,5,6]\n",
    "node=create_list(values)\n",
    "print_list(node)"
   ]
  },
  {
   "cell_type": "code",
   "execution_count": 401,
   "metadata": {},
   "outputs": [
    {
     "data": {
      "text/plain": [
       "4"
      ]
     },
     "execution_count": 401,
     "metadata": {},
     "output_type": "execute_result"
    }
   ],
   "source": [
    "# -*- coding:utf-8 -*-\n",
    "class listNode:\n",
    "    def __init__(self,x):\n",
    "        self.val=x\n",
    "        self.pre=None\n",
    "        self.next=None\n",
    "        \n",
    "class Solution:\n",
    "    def LastRemaining_Solution(self, n, m):\n",
    "        # write code here\n",
    "        if not n: return -1\n",
    "        def create_list(nums):\n",
    "            if not nums: return\n",
    "            first=None\n",
    "            for num in nums:\n",
    "                node=listNode(num)\n",
    "                node.pre=first\n",
    "                first=node\n",
    "            last=None\n",
    "            for _ in range(len(nums)):\n",
    "                node.next=last\n",
    "                last=node\n",
    "                node=node.pre\n",
    "                \n",
    "            first.next=last\n",
    "            last.pre=first\n",
    "            \n",
    "            return last\n",
    "        \n",
    "        def remove(node,m):\n",
    "            for _ in range(m-1):\n",
    "                node=node.next\n",
    "            node.pre.next=node.next\n",
    "            node.next.pre=node.pre\n",
    "            return node.val, node.next\n",
    "        \n",
    "        ans=[x for x in range(n)]\n",
    "        \n",
    "        temp=create_list(ans)\n",
    "        while len(ans)>1:\n",
    "            tmp,temp=remove(temp,m)\n",
    "            ans.remove(tmp)\n",
    "        \n",
    "        return ans[0]\n",
    "    \n",
    "a=Solution()\n",
    "a.LastRemaining_Solution(10,4)"
   ]
  },
  {
   "cell_type": "code",
   "execution_count": 27,
   "metadata": {},
   "outputs": [
    {
     "data": {
      "text/plain": [
       "True"
      ]
     },
     "execution_count": 27,
     "metadata": {},
     "output_type": "execute_result"
    }
   ],
   "source": [
    "# -*- coding:utf-8 -*-\n",
    "import re\n",
    "class Solution:\n",
    "    # s字符串\n",
    "    def isNumeric(self, s):\n",
    "        # write code here\n",
    "        pattern=[\"^[+-]?\\d+$\",\"^[+-]?\\d+\\.\\d+$\",\"^[+-]?\\.\\d+$\",\"^[+-]?\\d+\\.\\d+[eE][+-]?\\d+$\",\"^[+-]?\\d+[eE][+-]?\\d+$\",\"^[+-]?\\.\\d+[eE][+-]?\\d+$\"]\n",
    "        \n",
    "        for pa in pattern:\n",
    "            p=re.compile(pa)\n",
    "            res=re.search(p,s)\n",
    "            if res: \n",
    "                return True\n",
    "            \n",
    "        return False\n",
    "        \n",
    "a=Solution()\n",
    "s=\"600.0\"\n",
    "a.isNumeric(s)"
   ]
  },
  {
   "cell_type": "code",
   "execution_count": 51,
   "metadata": {},
   "outputs": [
    {
     "data": {
      "text/plain": [
       "False"
      ]
     },
     "execution_count": 51,
     "metadata": {},
     "output_type": "execute_result"
    }
   ],
   "source": [
    "# -*- coding:utf-8 -*-\n",
    "import re\n",
    "class Solution:\n",
    "    # s字符串\n",
    "    def isNumeric(self, s):\n",
    "        # write code here\n",
    "        try:\n",
    "            res=eval(s)\n",
    "            p=re.search(\"(\\d+[+-]\\d+)|([+-]{2,})\",s)\n",
    "            if p: return False\n",
    "            return True\n",
    "        except Exception as e:\n",
    "            return False\n",
    "        \n",
    "a=Solution()\n",
    "s=\"+-2\"\n",
    "a.isNumeric(s)"
   ]
  },
  {
   "cell_type": "code",
   "execution_count": 45,
   "metadata": {},
   "outputs": [
    {
     "data": {
      "text/plain": [
       "(-5, None, <re.Match object; span=(0, 2), match='+-'>)"
      ]
     },
     "execution_count": 45,
     "metadata": {},
     "output_type": "execute_result"
    }
   ],
   "source": [
    "eval(\"+-5\"),re.search(\"\\d+[+-]\\d+\",\"100\"),re.search(\"[+-]{2,}\",\"+-5\")"
   ]
  },
  {
   "cell_type": "code",
   "execution_count": 55,
   "metadata": {},
   "outputs": [
    {
     "name": "stdout",
     "output_type": "stream",
     "text": [
      "[2, 3, 4]\n",
      "[3, 4, 2]\n",
      "[4, 2, 6]\n",
      "[2, 6, 2]\n",
      "[6, 2, 5]\n",
      "[2, 5, 1]\n"
     ]
    },
    {
     "data": {
      "text/plain": [
       "[4, 4, 6, 6, 6, 5]"
      ]
     },
     "execution_count": 55,
     "metadata": {},
     "output_type": "execute_result"
    }
   ],
   "source": [
    "# -*- coding:utf-8 -*-\n",
    "class Solution:\n",
    "    def maxInWindows(self, num, size):\n",
    "        # write code here\n",
    "        if not size: return []\n",
    "        l=[]\n",
    "        for i in range(len(num)-size+1):\n",
    "            print(num[i:i+size])\n",
    "            l.append(max(num[i:i+size]))\n",
    "        return l\n",
    "    \n",
    "a=Solution()\n",
    "num=[2,3,4,2,6,2,5,1]\n",
    "size=3\n",
    "a.maxInWindows(num, size)"
   ]
  },
  {
   "cell_type": "code",
   "execution_count": 66,
   "metadata": {},
   "outputs": [
    {
     "data": {
      "text/plain": [
       "(False, -1)"
      ]
     },
     "execution_count": 66,
     "metadata": {},
     "output_type": "execute_result"
    }
   ],
   "source": [
    "# -*- coding:utf-8 -*-\n",
    "class Solution:\n",
    "    # 这里要特别注意~找到任意重复的一个值并赋值到duplication[0]\n",
    "    # 函数返回True/False\n",
    "    def duplicate(self, numbers, duplication):\n",
    "        # write code here\n",
    "        numbers.reverse()\n",
    "        stack=[numbers.pop()]\n",
    "        while numbers:\n",
    "            tmp=numbers.pop()\n",
    "            if tmp in stack:\n",
    "                duplication.append(tmp)\n",
    "                break\n",
    "            stack.append(tmp)\n",
    "            \n",
    "        return True if duplication else False, duplication[0] if duplication else -1\n",
    "    \n",
    "a=Solution()\n",
    "num=[2,1,3,0,4]\n",
    "duplication=[]\n",
    "a.duplicate(num, duplication)"
   ]
  },
  {
   "cell_type": "code",
   "execution_count": 69,
   "metadata": {},
   "outputs": [
    {
     "name": "stdout",
     "output_type": "stream",
     "text": [
      "1\n",
      "3\n",
      "4\n",
      "5\n",
      "6\n"
     ]
    }
   ],
   "source": [
    "num=[2,3,4,2,6,2,5,1]\n",
    "arr=set(num)\n",
    "for i in arr:\n",
    "    t=num.count(i)\n",
    "    if t==1:\n",
    "        print(i)"
   ]
  },
  {
   "cell_type": "code",
   "execution_count": 78,
   "metadata": {},
   "outputs": [
    {
     "data": {
      "text/plain": [
       "(4, 11)"
      ]
     },
     "execution_count": 78,
     "metadata": {},
     "output_type": "execute_result"
    }
   ],
   "source": [
    "# -*- coding:utf-8 -*-\n",
    "class Solution:\n",
    "    def FindNumbersWithSum(self, array, tsum):\n",
    "        # write code here\n",
    "        num=[[x,y,x+y,x*y] for x in array for y in array if x!=y]\n",
    "        #print(num)\n",
    "        n=len(num)\n",
    "        N=2**31\n",
    "        a=b=0\n",
    "        for i in range(n):\n",
    "            if num[i][2] == tsum:\n",
    "                if num[i][3] < N:\n",
    "                    N=num[i][3]\n",
    "                    a, b=num[i][0], num[i][1]\n",
    "                    #print(a,b)\n",
    "                    \n",
    "        if not a or not b: return []\n",
    "        return a,b\n",
    "    \n",
    "a=Solution()\n",
    "num=[1,2,4,7,11,15]\n",
    "tsum=15\n",
    "a.FindNumbersWithSum(num,tsum)"
   ]
  },
  {
   "cell_type": "code",
   "execution_count": 93,
   "metadata": {},
   "outputs": [
    {
     "data": {
      "text/plain": [
       "[[1, 2]]"
      ]
     },
     "execution_count": 93,
     "metadata": {},
     "output_type": "execute_result"
    }
   ],
   "source": [
    "# -*- coding:utf-8 -*-\n",
    "class Solution:\n",
    "    def FindContinuousSequence(self, tsum):\n",
    "        # write code here\n",
    "        def maxInWindows(nums, size, tsum):\n",
    "        # write code here\n",
    "            if not size: return []\n",
    "            l=[]\n",
    "            for i in range(len(nums)-size+1):\n",
    "                if sum(nums[i:i+size])>tsum:\n",
    "                    break\n",
    "                if sum(nums[i:i+size])==tsum:\n",
    "                    l.append(nums[i:i+size])\n",
    "            return l\n",
    "        \n",
    "        n = tsum//2 +2\n",
    "        nums=[i for i in range(1,n)]\n",
    "        res=[]\n",
    "        for size in range(n-1,1,-1):\n",
    "            res.extend(maxInWindows(nums, size, tsum))\n",
    "        \n",
    "        return res\n",
    "    \n",
    "a=Solution()\n",
    "a.FindContinuousSequence(3)"
   ]
  },
  {
   "cell_type": "code",
   "execution_count": 95,
   "metadata": {},
   "outputs": [
    {
     "data": {
      "text/plain": [
       "(6, 6)"
      ]
     },
     "execution_count": 95,
     "metadata": {},
     "output_type": "execute_result"
    }
   ],
   "source": [
    "# -*- coding:utf-8 -*-\n",
    "class Solution:\n",
    "    def NumberOf1Between1AndN_Solution1(self, n):\n",
    "        # write code here\n",
    "        count=0\n",
    "        for i in range(1,n+1):\n",
    "            while i>9:\n",
    "                a=i//10\n",
    "                b=i%10\n",
    "                i=a\n",
    "                if b==1:\n",
    "                    count +=1\n",
    "            b=i%10\n",
    "            if b==1:\n",
    "                count +=1\n",
    "            \n",
    "        return count\n",
    "    \n",
    "    def NumberOf1Between1AndN_Solution2(self, n):\n",
    "        # write code here\n",
    "        count=0\n",
    "        for i in range(1,n+1):\n",
    "            b=list(str(i))\n",
    "            count +=b.count('1')\n",
    "\n",
    "        return count\n",
    "    \n",
    "a=Solution()\n",
    "a.NumberOf1Between1AndN_Solution1(13),a.NumberOf1Between1AndN_Solution2(13)"
   ]
  },
  {
   "cell_type": "code",
   "execution_count": 97,
   "metadata": {},
   "outputs": [
    {
     "data": {
      "text/plain": [
       "18"
      ]
     },
     "execution_count": 97,
     "metadata": {},
     "output_type": "execute_result"
    }
   ],
   "source": [
    "# -*- coding:utf-8 -*-\n",
    "class Solution:\n",
    "    def FindGreatestSumOfSubArray(self, array):\n",
    "        # write code here\n",
    "        def maxInWindows(nums, size):\n",
    "        # write code here\n",
    "            if not size: return []\n",
    "            N=-2**32\n",
    "            for i in range(len(nums)-size+1):\n",
    "                tmp=sum(nums[i:i+size])\n",
    "                if tmp>N:\n",
    "                    N=tmp\n",
    "            return N\n",
    "        \n",
    "        n = len(array)\n",
    "        res=[max(array)]\n",
    "        \n",
    "        for size in range(2,n+1):\n",
    "            res.append(maxInWindows(array, size))\n",
    "        \n",
    "        return max(res)\n",
    "    \n",
    "a=Solution()\n",
    "arr=[1,-2,3,10,-4,7,2,-5]\n",
    "a.FindGreatestSumOfSubArray(arr)"
   ]
  },
  {
   "cell_type": "code",
   "execution_count": 99,
   "metadata": {},
   "outputs": [
    {
     "data": {
      "text/plain": [
       "2"
      ]
     },
     "execution_count": 99,
     "metadata": {},
     "output_type": "execute_result"
    }
   ],
   "source": [
    "# -*- coding:utf-8 -*-\n",
    "class Solution:\n",
    "    def MoreThanHalfNum_Solution(self, numbers):\n",
    "        # write code here\n",
    "        num=set(numbers)\n",
    "        tmp=0\n",
    "        for i in num:\n",
    "            if numbers.count(i)>len(numbers)/2:\n",
    "                tmp=i\n",
    "        return tmp\n",
    "    \n",
    "a=Solution()\n",
    "arr=[1,2,3,2,2,2,5,4,2]\n",
    "a.MoreThanHalfNum_Solution(arr)"
   ]
  },
  {
   "cell_type": "code",
   "execution_count": 151,
   "metadata": {},
   "outputs": [
    {
     "name": "stdout",
     "output_type": "stream",
     "text": [
      "0b1010\n",
      "0b11111111111111111111111111110110\n"
     ]
    },
    {
     "data": {
      "text/plain": [
       "(2, 30)"
      ]
     },
     "execution_count": 151,
     "metadata": {},
     "output_type": "execute_result"
    }
   ],
   "source": [
    "# -*- coding:utf-8 -*-\n",
    "class Solution:\n",
    "    def NumberOf1(self, n):\n",
    "        # write code here\n",
    "        if n>=0:\n",
    "            a=bin(n)\n",
    "        else:\n",
    "            tmp=~(n^0xFFFFFFFF)\n",
    "            #tmp=-((n^0xFFFFFFFF) +1)\n",
    "            a=bin(tmp)\n",
    "        b=list(str(a))\n",
    "        print(a)\n",
    "        return b.count('1')\n",
    "    \n",
    "a=Solution()\n",
    "a.NumberOf1(10),a.NumberOf1(-10)"
   ]
  },
  {
   "cell_type": "code",
   "execution_count": 164,
   "metadata": {},
   "outputs": [
    {
     "data": {
      "text/plain": [
       "('-0b1010',\n",
       " 4294967295,\n",
       " '0b11111111111111111111111111111111',\n",
       " '-0b11111111111111111111111111110111',\n",
       " '0b11111111111111111111111111110110',\n",
       " -10,\n",
       " 268435457,\n",
       " 2147483648,\n",
       " 2147483647)"
      ]
     },
     "execution_count": 164,
     "metadata": {},
     "output_type": "execute_result"
    }
   ],
   "source": [
    "bin(-10),0xFFFFFFFF,bin(0xFFFFFFFF),bin(-10^0xFFFFFFFF),bin(~(-10^0xFFFFFFFF)),~(~(-10^0xFFFFFFFF)^0xFFFFFFFF),0x10000001,2**31,0x7FFFFFFF"
   ]
  },
  {
   "cell_type": "code",
   "execution_count": 123,
   "metadata": {},
   "outputs": [
    {
     "data": {
      "text/plain": [
       "(1, 0, 0, 1, 2)"
      ]
     },
     "execution_count": 123,
     "metadata": {},
     "output_type": "execute_result"
    }
   ],
   "source": [
    "1^0,1^1,1&0,1&1,(1&1)<<1"
   ]
  },
  {
   "cell_type": "code",
   "execution_count": 165,
   "metadata": {},
   "outputs": [
    {
     "data": {
      "text/plain": [
       "1"
      ]
     },
     "execution_count": 165,
     "metadata": {},
     "output_type": "execute_result"
    }
   ],
   "source": [
    "# -*- coding:utf-8 -*-\n",
    "class Solution:\n",
    "    def minNumberInRotateArray(self, rotateArray):\n",
    "        # write code here\n",
    "        if not rotateArray: return 0\n",
    "        \n",
    "        for i in range(len(rotateArray)):\n",
    "            if rotateArray[i]>rotateArray[i+1]:\n",
    "                break\n",
    "        return min(rotateArray[i+1:])\n",
    "    \n",
    "a=Solution()\n",
    "arr=[3,4,5,1,2]\n",
    "a.minNumberInRotateArray(arr)"
   ]
  },
  {
   "cell_type": "code",
   "execution_count": 174,
   "metadata": {},
   "outputs": [
    {
     "name": "stdout",
     "output_type": "stream",
     "text": [
      "0\n",
      "1\n",
      "2\n",
      "3\n",
      "5\n",
      "8\n",
      "13\n",
      "21\n",
      "34\n",
      "55\n"
     ]
    }
   ],
   "source": [
    "# -*- coding:utf-8 -*-\n",
    "class Solution:\n",
    "    def jumpFloor(self, number):\n",
    "        # write code here\n",
    "        if not number: return 0\n",
    "        \n",
    "        fir=0\n",
    "        sec=1\n",
    "        for i in range(2,number+2):\n",
    "            tmp=sec\n",
    "            sec=sec+fir\n",
    "            fir=tmp\n",
    "            \n",
    "        return sec\n",
    "    \n",
    "a=Solution()\n",
    "for i in range(10):\n",
    "    print(a.jumpFloor(i))"
   ]
  },
  {
   "cell_type": "code",
   "execution_count": 190,
   "metadata": {},
   "outputs": [
    {
     "name": "stdout",
     "output_type": "stream",
     "text": [
      "0\n",
      "1\n",
      "2\n",
      "3\n",
      "5\n",
      "8\n",
      "13\n",
      "21\n",
      "34\n",
      "55\n"
     ]
    }
   ],
   "source": [
    "# -*- coding:utf-8 -*-\n",
    "class Solution:\n",
    "    def rectCover(self, number):\n",
    "        # write code here\n",
    "        if not number: return 0\n",
    "        if number==1: return 1\n",
    "        if number==2: return 2\n",
    "        \n",
    "        pre=1\n",
    "        res=2\n",
    "        for _ in range(3,number+1):\n",
    "            tmp=res\n",
    "            res=res+pre\n",
    "            pre=tmp\n",
    "        \n",
    "        return res\n",
    "    \n",
    "a=Solution()\n",
    "for i in range(10):\n",
    "    print(a.rectCover(i))"
   ]
  },
  {
   "cell_type": "code",
   "execution_count": 194,
   "metadata": {},
   "outputs": [
    {
     "data": {
      "text/plain": [
       "True"
      ]
     },
     "execution_count": 194,
     "metadata": {},
     "output_type": "execute_result"
    }
   ],
   "source": [
    "# -*- coding:utf-8 -*-\n",
    "class Solution:\n",
    "    def IsPopOrder(self, pushV, popV):\n",
    "        # write code here\n",
    "        if popV[0] in pushV:\n",
    "            i=pushV.index(popV[0])\n",
    "            tmp=pushV[:i]\n",
    "            popV=popV[1:]\n",
    "            while popV:\n",
    "                t1=popV.pop(0)\n",
    "                if t1 not in tmp:\n",
    "                    tmp.append(t1)\n",
    "                t2=tmp.pop()\n",
    "                if not t1==t2:\n",
    "                    return False\n",
    "            \n",
    "            return True\n",
    "        return False\n",
    "    \n",
    "a=Solution()\n",
    "pushV=[1,2,3,4,5]\n",
    "popV=[4,5,3,2,1]\n",
    "a.IsPopOrder(pushV, popV)"
   ]
  },
  {
   "cell_type": "code",
   "execution_count": 216,
   "metadata": {},
   "outputs": [
    {
     "name": "stdout",
     "output_type": "stream",
     "text": [
      "1, 2, 4, \n",
      "4, 2, 1, \n"
     ]
    }
   ],
   "source": [
    "# Definition for singly-linked list.\n",
    "class ListNode:\n",
    "    def __init__(self, x):\n",
    "        self.val = x\n",
    "        self.next = None\n",
    "\n",
    "# create\n",
    "def create_list(nums):\n",
    "    last = None\n",
    "    for num in reversed(nums):\n",
    "        list_node = ListNode(num)\n",
    "        list_node.next = last\n",
    "        last = list_node\n",
    "    return last\n",
    "\n",
    "# print \n",
    "def printList(l: ListNode):\n",
    "    while l:\n",
    "        print(\"%d, \" % (l.val), end = '')\n",
    "        l = l.next\n",
    "    print('')\n",
    "\n",
    "class Solution:\n",
    "    # 返回ListNode\n",
    "    def ReverseList(self, pHead):\n",
    "        # write code here\n",
    "        if not pHead: return\n",
    "        v=None\n",
    "        while pHead.next:\n",
    "            n=pHead.next\n",
    "            pHead.next=v\n",
    "            v=pHead\n",
    "            pHead=n\n",
    "            \n",
    "        pHead.next=v\n",
    "        return pHead\n",
    "    \n",
    "l= create_list([1, 2, 4])\n",
    "printList (l)\n",
    "\n",
    "s = Solution()\n",
    "r=s.ReverseList(l)\n",
    "printList (r)"
   ]
  },
  {
   "cell_type": "code",
   "execution_count": 437,
   "metadata": {},
   "outputs": [
    {
     "name": "stdout",
     "output_type": "stream",
     "text": [
      "1, 2, 3, 4, 5, 4, 5, 4, 5, 4, \n",
      "4, 5, 4, 5, 4, 5, 4, 5, 4, 5, \n"
     ]
    }
   ],
   "source": [
    "# Definition for singly-linked list.\n",
    "class ListNode:\n",
    "    def __init__(self, x):\n",
    "        self.val = x\n",
    "        self.next = None\n",
    "\n",
    "# create\n",
    "def create_circle_list(nums,Entry):\n",
    "    last = None\n",
    "    for num in reversed(nums):\n",
    "        list_node = ListNode(num)\n",
    "        list_node.next = last\n",
    "        last = list_node\n",
    "        \n",
    "    l=last\n",
    "    if l:\n",
    "        while l.next:\n",
    "            l = l.next\n",
    "            \n",
    "        EntryNode=last\n",
    "        l.next=EntryNode\n",
    "        for _ in range(Entry):    \n",
    "            if EntryNode.next:\n",
    "                l.next=EntryNode.next\n",
    "                EntryNode=l.next\n",
    "    return last\n",
    "\n",
    "# print \n",
    "def printCircleList(l: ListNode):\n",
    "    n=10\n",
    "    for _ in range(n):\n",
    "        if l:\n",
    "            print(\"%d, \" % (l.val), end = '')\n",
    "            l = l.next\n",
    "    print('')\n",
    "\n",
    "\n",
    "class Solution:\n",
    "    def EntryNodeOfLoop(self, pHead):\n",
    "        # write code here\n",
    "        if not pHead: return \n",
    "        res=[]\n",
    "        while pHead.next:\n",
    "            v=pHead.val\n",
    "            n=pHead.next\n",
    "            res.append([v,n,pHead])\n",
    "            for r in res:\n",
    "                if n.val==r[0] and n.next==r[1]:\n",
    "                    return r[2]\n",
    "            pHead=n\n",
    "\n",
    "        return None\n",
    "    \n",
    "l= create_circle_list([1,2,3,4,5],3)\n",
    "printCircleList (l)\n",
    "\n",
    "s = Solution()\n",
    "e=s.EntryNodeOfLoop(l)\n",
    "printCircleList (e)"
   ]
  },
  {
   "cell_type": "code",
   "execution_count": 261,
   "metadata": {},
   "outputs": [
    {
     "name": "stdout",
     "output_type": "stream",
     "text": [
      "1, 2, 4, \n",
      "1, 3, 4, \n",
      "1, 1, 2, 3, 4, 4, \n"
     ]
    }
   ],
   "source": [
    "# Definition for singly-linked list.\n",
    "class ListNode:\n",
    "    def __init__(self, x):\n",
    "        self.val = x\n",
    "        self.next = None\n",
    "\n",
    "# create\n",
    "def create_list(nums):\n",
    "    last = None\n",
    "    for num in reversed(nums):\n",
    "        list_node = ListNode(num)\n",
    "        list_node.next = last\n",
    "        last = list_node\n",
    "    return last\n",
    "\n",
    "# print \n",
    "def printList(l: ListNode):\n",
    "    while l:\n",
    "        print(\"%d, \" % (l.val), end = '')\n",
    "        l = l.next\n",
    "    print('')\n",
    "\n",
    "\n",
    "class Solution:\n",
    "    def __init__(self, l1: ListNode, l2: ListNode):\n",
    "        self.l1= l1\n",
    "        self.l2 = l2\n",
    "\n",
    "    def mergeTwoLists(self,l1: ListNode, l2: ListNode) -> ListNode:\n",
    "        if l1 and l2:\n",
    "            if l1.val > l2.val: l1, l2 = l2, l1\n",
    "            l1.next = self.mergeTwoLists(l1.next, l2)\n",
    "        return l1 or l2\n",
    "        \n",
    "\n",
    "if __name__ == \"__main__\":\n",
    "    \n",
    "    l1 = create_list([1, 2, 4])\n",
    "    l2 = create_list([1, 3, 4])\n",
    "    \n",
    "    s = Solution(l1,l2)\n",
    "    printList (s.l1)\n",
    "    printList (s.l2)\n",
    "    \n",
    "    merge1= s.mergeTwoLists(l1,l2)\n",
    "    printList (merge1)"
   ]
  },
  {
   "cell_type": "code",
   "execution_count": 299,
   "metadata": {},
   "outputs": [
    {
     "name": "stdout",
     "output_type": "stream",
     "text": [
      "1, 3, 2, 4, 5, 8, \n",
      "1, 4, 3, 4, 5, 8, \n",
      "4, 5, 8, \n"
     ]
    }
   ],
   "source": [
    "import copy\n",
    "\n",
    "# Definition for singly-linked list.\n",
    "class ListNode:\n",
    "    def __init__(self, x):\n",
    "        self.val = x\n",
    "        self.next = None\n",
    "\n",
    "# create\n",
    "def create_list(nums):\n",
    "    last = None\n",
    "    for num in reversed(nums):\n",
    "        list_node = ListNode(num)\n",
    "        list_node.next = last\n",
    "        last = list_node\n",
    "    return last\n",
    "\n",
    "# print \n",
    "def printList(l: ListNode):\n",
    "    while l:\n",
    "        print(\"%d, \" % (l.val), end = '')\n",
    "        l = l.next\n",
    "    print('')\n",
    "\n",
    "\n",
    "class Solution:\n",
    "    def FindFirstCommonNode(self, pHead1, pHead2):\n",
    "        # write code here\n",
    "        if not pHead1 or not pHead2: return\n",
    "        \n",
    "        tmp=pHead2\n",
    "        while pHead1:\n",
    "            v1=pHead1.val\n",
    "            n1=pHead1.next\n",
    "            pHead2=tmp\n",
    "            #print(\"\")\n",
    "            #printList(pHead1)\n",
    "            while pHead2:\n",
    "                v2=pHead2.val\n",
    "                n2=pHead2.next\n",
    "                #printList(pHead2)\n",
    "                if v1==v2 and (n1==n2 or n1.val==n2.val):\n",
    "                    return pHead1\n",
    "                else:\n",
    "                    pHead2=n2\n",
    "                    \n",
    "            pHead1=n1\n",
    "            \n",
    "l1 = create_list([1,3,2,4,5,8])\n",
    "l2 = create_list([1,4,3,4,5,8])\n",
    "\n",
    "printList (l1)\n",
    "printList (l2)\n",
    "    \n",
    "s = Solution()\n",
    "f=s.FindFirstCommonNode(l1,l2)\n",
    "printList(f)"
   ]
  },
  {
   "cell_type": "code",
   "execution_count": 300,
   "metadata": {},
   "outputs": [
    {
     "name": "stdout",
     "output_type": "stream",
     "text": [
      "1, 3, 2, 4, 5, 8, \n",
      "1, 4, 3, 4, 5, 8, \n",
      "4, 5, 8, \n"
     ]
    }
   ],
   "source": [
    "import copy\n",
    "\n",
    "# Definition for singly-linked list.\n",
    "class ListNode:\n",
    "    def __init__(self, x):\n",
    "        self.val = x\n",
    "        self.next = None\n",
    "\n",
    "# create\n",
    "def create_list(nums):\n",
    "    last = None\n",
    "    for num in reversed(nums):\n",
    "        list_node = ListNode(num)\n",
    "        list_node.next = last\n",
    "        last = list_node\n",
    "    return last\n",
    "\n",
    "# print \n",
    "def printList(l: ListNode):\n",
    "    while l:\n",
    "        print(\"%d, \" % (l.val), end = '')\n",
    "        l = l.next\n",
    "    print('')\n",
    "\n",
    "\n",
    "class Solution:\n",
    "    def FindFirstCommonNode(self, pHead1, pHead2):\n",
    "        # write code here\n",
    "        if not pHead1 or not pHead2: return\n",
    "        def entryStack(pHead):\n",
    "            stack=[]\n",
    "            while pHead:\n",
    "                stack.append(pHead)\n",
    "                n=pHead.next\n",
    "                pHead=n  \n",
    "            return stack\n",
    "        \n",
    "        s1=entryStack(pHead1)\n",
    "        s2=entryStack(pHead2)\n",
    "        \n",
    "        res=[]\n",
    "        while s1 and s2:\n",
    "            tmp1=s1.pop()\n",
    "            tmp2=s2.pop()\n",
    "            \n",
    "            if tmp1.val==tmp2.val:\n",
    "                res.append(tmp1)\n",
    "            else:\n",
    "                if not res: return\n",
    "                return res[-1]\n",
    "            \n",
    "        return res[-1]\n",
    "            \n",
    "l1 = create_list([1,3,2,4,5,8])\n",
    "l2 = create_list([1,4,3,4,5,8])\n",
    "\n",
    "printList (l1)\n",
    "printList (l2)\n",
    "    \n",
    "s = Solution()\n",
    "f=s.FindFirstCommonNode(l1,l2)\n",
    "printList(f)"
   ]
  },
  {
   "cell_type": "code",
   "execution_count": 305,
   "metadata": {},
   "outputs": [
    {
     "name": "stdout",
     "output_type": "stream",
     "text": [
      "[3, 2, 3, 3, 1]\n"
     ]
    },
    {
     "data": {
      "text/plain": [
       "[[3], [2, 3], [3, 1]]"
      ]
     },
     "execution_count": 305,
     "metadata": {},
     "output_type": "execute_result"
    }
   ],
   "source": [
    "from collections import deque\n",
    "\n",
    "# Definition for a binary tree node.\n",
    "class TreeNode:\n",
    "    def __init__(self, x):\n",
    "        self.val = x\n",
    "        self.left = None\n",
    "        self.right = None\n",
    "\n",
    "def create_tree(values):  \n",
    "    if not values: return None\n",
    "    \n",
    "    root = TreeNode(values[0])\n",
    "    queue = deque([root])\n",
    "    leng = len(values)\n",
    "    nums = 1\n",
    "    while nums < leng:\n",
    "        node = queue.popleft()\n",
    "        if node:\n",
    "            node.left = TreeNode(values[nums]) if values[nums] else None\n",
    "            queue.append(node.left)\n",
    "            if nums + 1 < leng:\n",
    "                node.right = TreeNode(values[nums+1]) if values[nums+1] else None\n",
    "                queue.append(node.right)\n",
    "                nums += 1\n",
    "            nums += 1\n",
    "    return root\n",
    "\n",
    "def bfs(root):\n",
    "    ret = []\n",
    "    queue = deque([root])\n",
    "    while queue:\n",
    "        node = queue.popleft()\n",
    "        if node:\n",
    "            ret.append(node.val)\n",
    "            queue.append(node.left)\n",
    "            queue.append(node.right)\n",
    "    return ret\n",
    "\n",
    "\n",
    "class Solution:\n",
    "    # 返回二维列表[[1,2],[4,5]]\n",
    "    def Print(self, pRoot):\n",
    "        # write code here\n",
    "        res=[]\n",
    "        queen=[pRoot]\n",
    "        tmp=[]\n",
    "        temp=[]\n",
    "        while queen:\n",
    "            node=queen.pop(0)\n",
    "            if node:\n",
    "                tmp.append(node.val)\n",
    "                temp.append(node.left)\n",
    "                temp.append(node.right)\n",
    "            if not queen:\n",
    "                if tmp:\n",
    "                    res.append(tmp)\n",
    "                if temp: queen.extend(temp)\n",
    "                tmp=[]\n",
    "                temp=[]\n",
    "        return res\n",
    "    \n",
    "values= [3,2,3,None,3,None,1]\n",
    "root=create_tree(values)\n",
    "print(bfs(root))\n",
    "s = Solution()\n",
    "s.Print(root)"
   ]
  },
  {
   "cell_type": "code",
   "execution_count": 309,
   "metadata": {},
   "outputs": [
    {
     "name": "stdout",
     "output_type": "stream",
     "text": [
      "2\n",
      "0 1\n",
      "1 2\n",
      "2 3\n",
      "3 3\n",
      "4 3\n",
      "5 3\n"
     ]
    },
    {
     "data": {
      "text/plain": [
       "[1, 2, 3, 3, 3]"
      ]
     },
     "execution_count": 309,
     "metadata": {},
     "output_type": "execute_result"
    }
   ],
   "source": [
    "a=[1,2,3,3,3,3]\n",
    "print(a.index(3))\n",
    "for i,num in enumerate(a):\n",
    "    print(i,num)\n",
    "a.remove(3)\n",
    "a"
   ]
  },
  {
   "cell_type": "code",
   "execution_count": 325,
   "metadata": {},
   "outputs": [
    {
     "data": {
      "text/plain": [
       "9"
      ]
     },
     "execution_count": 325,
     "metadata": {},
     "output_type": "execute_result"
    }
   ],
   "source": [
    "class Solution:\n",
    "    def longestPalindrome(self, s: str) -> str:\n",
    "        def maxSlideWindow(s,size):\n",
    "            n=len(s)\n",
    "            ans=0\n",
    "            for i in range(0,n-size+1):\n",
    "                tmp=s[i:i+size]\n",
    "                ttmp=tmp[::-1]\n",
    "                #ttmp=''.join(reversed(list(tmp)))\n",
    "                if tmp==ttmp:\n",
    "                    ans=size\n",
    "            \n",
    "            return ans\n",
    "\n",
    "        res=0\n",
    "        n=len(s)\n",
    "        for size in range(1,n+1):\n",
    "            temp=maxSlideWindow(s,size)\n",
    "            if temp>res:\n",
    "                res=temp\n",
    "        \n",
    "        return res\n",
    "\n",
    "s=\"abccdedccb\"\n",
    "a = Solution()\n",
    "a.longestPalindrome(s)"
   ]
  },
  {
   "cell_type": "code",
   "execution_count": 324,
   "metadata": {},
   "outputs": [
    {
     "data": {
      "text/plain": [
       "'bccdedccb'"
      ]
     },
     "execution_count": 324,
     "metadata": {},
     "output_type": "execute_result"
    }
   ],
   "source": [
    "class Solution:\n",
    "    def longestPalindrome(self, s: str) -> str:\n",
    "        def maxSlideWindow(s,size):\n",
    "            n=len(s)\n",
    "            ans=''\n",
    "            for i in range(0,n-size+1):\n",
    "                tmp=s[i:i+size]\n",
    "                ttmp=tmp[::-1]\n",
    "                if tmp==ttmp:\n",
    "                    ans=tmp\n",
    "                    break\n",
    "            \n",
    "            return ans\n",
    "\n",
    "        res=\"\"\n",
    "        n=len(s)\n",
    "        for size in range(1,n+1):\n",
    "            temp=maxSlideWindow(s,size)\n",
    "            if temp:\n",
    "                if size>len(res):\n",
    "                    res=temp\n",
    "        \n",
    "        return res\n",
    "\n",
    "s=\"abccdedccb\"\n",
    "a = Solution()\n",
    "a.longestPalindrome(s)"
   ]
  },
  {
   "cell_type": "code",
   "execution_count": 333,
   "metadata": {},
   "outputs": [
    {
     "name": "stdout",
     "output_type": "stream",
     "text": [
      "[3, 2, 3, 3, 1]\n"
     ]
    },
    {
     "data": {
      "text/plain": [
       "True"
      ]
     },
     "execution_count": 333,
     "metadata": {},
     "output_type": "execute_result"
    }
   ],
   "source": [
    "from collections import deque\n",
    "\n",
    "# Definition for a binary tree node.\n",
    "class TreeNode:\n",
    "    def __init__(self, x):\n",
    "        self.val = x\n",
    "        self.left = None\n",
    "        self.right = None\n",
    "\n",
    "def create_tree(values):  \n",
    "    if not values: return None\n",
    "    \n",
    "    root = TreeNode(values[0])\n",
    "    queue = deque([root])\n",
    "    leng = len(values)\n",
    "    nums = 1\n",
    "    while nums < leng:\n",
    "        node = queue.popleft()\n",
    "        if node:\n",
    "            node.left = TreeNode(values[nums]) if values[nums] else None\n",
    "            queue.append(node.left)\n",
    "            if nums + 1 < leng:\n",
    "                node.right = TreeNode(values[nums+1]) if values[nums+1] else None\n",
    "                queue.append(node.right)\n",
    "                nums += 1\n",
    "            nums += 1\n",
    "    return root\n",
    "\n",
    "def bfs(root):\n",
    "    ret = []\n",
    "    queue = deque([root])\n",
    "    while queue:\n",
    "        node = queue.popleft()\n",
    "        if node:\n",
    "            ret.append(node.val)\n",
    "            queue.append(node.left)\n",
    "            queue.append(node.right)\n",
    "    return ret\n",
    "\n",
    "class Solution:\n",
    "    def IsBalanced_Solution(self, pRoot):\n",
    "        # write code here\n",
    "        if not pRoot:\n",
    "            return True\n",
    "        def maxDepth(root):\n",
    "            if not root: return 0\n",
    "            return max(maxDepth(root.left),maxDepth(root.right))+1\n",
    "         \n",
    "        l=maxDepth(pRoot.left)\n",
    "        r=maxDepth(pRoot.right)\n",
    "         \n",
    "        return self.IsBalanced_Solution(pRoot.left) and self.IsBalanced_Solution(pRoot.right) if abs(l-r)<2 else False\n",
    "    \n",
    "values= [3,2,3,None,3,None,1]\n",
    "root=create_tree(values)\n",
    "print(bfs(root))\n",
    "s = Solution()\n",
    "s.IsBalanced_Solution(root)"
   ]
  },
  {
   "cell_type": "code",
   "execution_count": 337,
   "metadata": {},
   "outputs": [
    {
     "data": {
      "text/plain": [
       "([], [], [], [])"
      ]
     },
     "execution_count": 337,
     "metadata": {},
     "output_type": "execute_result"
    }
   ],
   "source": [
    "pre=tin=[1]\n",
    "root=pre[0]\n",
    "sep=tin.index(root)\n",
    "l_pre=pre[1:sep+1]\n",
    "l_tin=tin[:sep]\n",
    "r_pre=pre[sep+2:]\n",
    "r_tin=tin[sep+1:]\n",
    "l_pre, l_tin,r_pre, r_tin"
   ]
  },
  {
   "cell_type": "code",
   "execution_count": 348,
   "metadata": {},
   "outputs": [
    {
     "name": "stdout",
     "output_type": "stream",
     "text": [
      "[1, 2, 4, 7, 3, 5, 6, 8] [4, 7, 2, 1, 5, 3, 8, 6]\n",
      "[2, 4, 7] [4, 7, 2] [3, 5, 6, 8] [5, 3, 8, 6] \n",
      "\n",
      "[2, 4, 7] [4, 7, 2]\n",
      "[4, 7] [4, 7] [] [] \n",
      "\n",
      "[4, 7] [4, 7]\n",
      "[] [] [7] [7] \n",
      "\n",
      "[7] [7]\n",
      "[] [] [] [] \n",
      "\n",
      "[3, 5, 6, 8] [5, 3, 8, 6]\n",
      "[5] [5] [6, 8] [8, 6] \n",
      "\n",
      "[5] [5]\n",
      "[] [] [] [] \n",
      "\n",
      "[6, 8] [8, 6]\n",
      "[8] [8] [] [] \n",
      "\n",
      "[8] [8]\n",
      "[] [] [] [] \n",
      "\n",
      "[1, 2, 3, 4, 5, 6, 7, 8]\n"
     ]
    }
   ],
   "source": [
    "from collections import deque\n",
    "\n",
    "# Definition for a binary tree node.\n",
    "class TreeNode:\n",
    "    def __init__(self, x):\n",
    "        self.val = x\n",
    "        self.left = None\n",
    "        self.right = None\n",
    "\n",
    "def create_tree(values):  \n",
    "    if not values: return None\n",
    "    \n",
    "    root = TreeNode(values[0])\n",
    "    queue = deque([root])\n",
    "    leng = len(values)\n",
    "    nums = 1\n",
    "    while nums < leng:\n",
    "        node = queue.popleft()\n",
    "        if node:\n",
    "            node.left = TreeNode(values[nums]) if values[nums] else None\n",
    "            queue.append(node.left)\n",
    "            if nums + 1 < leng:\n",
    "                node.right = TreeNode(values[nums+1]) if values[nums+1] else None\n",
    "                queue.append(node.right)\n",
    "                nums += 1\n",
    "            nums += 1\n",
    "    return root\n",
    "\n",
    "def bfs(root):\n",
    "    ret = []\n",
    "    queue = deque([root])\n",
    "    while queue:\n",
    "        node = queue.popleft()\n",
    "        if node:\n",
    "            ret.append(node.val)\n",
    "            queue.append(node.left)\n",
    "            queue.append(node.right)\n",
    "    return ret\n",
    "\n",
    "class Solution:\n",
    "    # 返回构造的TreeNode根节点\n",
    "    def reConstructBinaryTree(self, pre, tin):\n",
    "        # write code here\n",
    "        if not pre:\n",
    "            return \n",
    "        \n",
    "        root=pre[0]\n",
    "        sep=tin.index(root)\n",
    "        l_pre=pre[1:sep+1]\n",
    "        l_tin=tin[:sep]\n",
    "        r_pre=pre[sep+1:]\n",
    "        r_tin=tin[sep+1:]\n",
    "        print(pre,tin)\n",
    "        print(l_pre, l_tin,r_pre, r_tin,\"\\n\")\n",
    "        \n",
    "        pRoot=TreeNode(root)\n",
    "        pRoot.left=self.reConstructBinaryTree(l_pre, l_tin)\n",
    "        pRoot.right=self.reConstructBinaryTree(r_pre, r_tin)\n",
    "        \n",
    "        return pRoot\n",
    "    \n",
    "pre= [1,2,4,7,3,5,6,8]\n",
    "tin= [4,7,2,1,5,3,8,6]\n",
    "\n",
    "s = Solution()\n",
    "root=s.reConstructBinaryTree(pre,tin)\n",
    "print(bfs(root))"
   ]
  },
  {
   "cell_type": "code",
   "execution_count": 398,
   "metadata": {},
   "outputs": [
    {
     "name": "stdout",
     "output_type": "stream",
     "text": [
      "[8, 6, 10, 5, 7, 9, 11]\n",
      "[5, 6, 7, 8, 9, 10, 11]\n"
     ]
    },
    {
     "data": {
      "text/plain": [
       "(9, 9, <__main__.TreeLinkNode at 0xe32fb0>)"
      ]
     },
     "execution_count": 398,
     "metadata": {},
     "output_type": "execute_result"
    }
   ],
   "source": [
    "# -*- coding:utf-8 -*-\n",
    "class TreeLinkNode:\n",
    "    def __init__(self, x):\n",
    "        self.val = x\n",
    "        self.left = None\n",
    "        self.right = None\n",
    "        self.next = None\n",
    "        \n",
    "\n",
    "def create_tree(values):  \n",
    "    if not values: return None\n",
    "    \n",
    "    root = TreeLinkNode(values[0])\n",
    "    queue = [root]\n",
    "    pre=[None]\n",
    "    leng = len(values)\n",
    "    nums = 1\n",
    "    while nums < leng:\n",
    "        node = queue.pop(0)\n",
    "        next=pre.pop(0)\n",
    "        if node:\n",
    "            node.left = TreeLinkNode(values[nums]) if values[nums] else None\n",
    "            node.next=next\n",
    "            queue.append(node.left)\n",
    "            pre.append(node)\n",
    "            if nums + 1 < leng:\n",
    "                node.right = TreeLinkNode(values[nums+1]) if values[nums+1] else None\n",
    "                node.next=next\n",
    "                queue.append(node.right)\n",
    "                nums += 1\n",
    "            nums += 1\n",
    "    return root\n",
    "\n",
    "def print_tree(root):\n",
    "    ret = []\n",
    "    queue = [root]\n",
    "    while queue:\n",
    "        node = queue.pop(0)\n",
    "        if node:\n",
    "            ret.append(node.val)\n",
    "            queue.append(node.left)\n",
    "            queue.append(node.right)\n",
    "    return ret\n",
    "\n",
    "def in_traversal(root):\n",
    "    ret = []\n",
    " \n",
    "    def traversal(head):\n",
    "        if not head:\n",
    "            return\n",
    "        traversal(head.left)\n",
    "        ret.append(head.val)\n",
    "        traversal(head.right)\n",
    " \n",
    "    traversal(root)\n",
    "    return ret\n",
    "\n",
    "class Solution:\n",
    "    def GetNext(self, pNode):\n",
    "        # write code here\n",
    "        def get_root(pNode):\n",
    "            if not pNode.next: \n",
    "                return pNode \n",
    "            return get_root(pNode.next)\n",
    "        \n",
    "        root=get_root(pNode)\n",
    "        \n",
    "        def mid_traversal(root):\n",
    "            set=[]\n",
    "            def recursive(node):\n",
    "                if not node: \n",
    "                    return\n",
    "                recursive(node.left)\n",
    "                set.append(node.val)\n",
    "                recursive(node.right)\n",
    "                \n",
    "            recursive(root)\n",
    "            return set\n",
    "        \n",
    "        l=mid_traversal(root)\n",
    "        #print(l)\n",
    "        i=l.index(pNode.val)\n",
    "        \n",
    "        return l[i+1] if i+1<len(l) else None\n",
    "    \n",
    "    def GetNext1(self, pNode):\n",
    "        # write code here\n",
    "        if pNode.right:\n",
    "            p=pNode.right\n",
    "            while p.left:\n",
    "                p=p.left\n",
    "            return p\n",
    "        while pNode.next:\n",
    "            tmp=pNode.next\n",
    "            if tmp.left==pNode:\n",
    "                return tmp\n",
    "            pNode=tmp\n",
    "           \n",
    "values= [8,6,10,5,7,9,11]\n",
    "\n",
    "root=create_tree(values)\n",
    "print(print_tree(root))\n",
    "print(in_traversal(root))\n",
    "\n",
    "a=Solution()\n",
    "a.GetNext(root), a.GetNext1(root).val,root"
   ]
  },
  {
   "cell_type": "code",
   "execution_count": 378,
   "metadata": {},
   "outputs": [
    {
     "name": "stdout",
     "output_type": "stream",
     "text": [
      "4\n",
      "5\n",
      "['bacwd']\n"
     ]
    }
   ],
   "source": [
    "def maxSlideWindow(s,t,size):\n",
    "    n=len(s)\n",
    "    res=[]\n",
    "    for i in range(0,n-size+1):\n",
    "        num=0\n",
    "        tmp=s[i:i+size]\n",
    "        for j in t:\n",
    "            if j in tmp:\n",
    "                num +=1\n",
    "        #print(tmp,num)\n",
    "        if num==len(t):\n",
    "            res.append(tmp)\n",
    "    return res\n",
    "                \n",
    "s=\"adksbacwdmvj\"\n",
    "t=\"abcd\"\n",
    "n=len(s)\n",
    "size=len(t)\n",
    "for i in range(size,n):\n",
    "    print(i)\n",
    "    res=maxSlideWindow(s,t,i)\n",
    "    if res:\n",
    "        print(res)\n",
    "        break"
   ]
  },
  {
   "cell_type": "code",
   "execution_count": 397,
   "metadata": {},
   "outputs": [
    {
     "name": "stdout",
     "output_type": "stream",
     "text": [
      "[8, 6, 10, 5, 7, 9, 11]\n",
      "5, 6, 7, 8, 9, 10, 11, \n"
     ]
    },
    {
     "data": {
      "text/plain": [
       "(<__main__.BiListNode at 0xe1aa50>, 6, 5)"
      ]
     },
     "execution_count": 397,
     "metadata": {},
     "output_type": "execute_result"
    }
   ],
   "source": [
    "from collections import deque\n",
    "\n",
    "# Definition for a binary tree node.\n",
    "class TreeNode:\n",
    "    def __init__(self, x):\n",
    "        self.val = x\n",
    "        self.left = None\n",
    "        self.right = None\n",
    "\n",
    "def create_tree(values):  \n",
    "    if not values: return None\n",
    "    \n",
    "    root = TreeNode(values[0])\n",
    "    queue = deque([root])\n",
    "    leng = len(values)\n",
    "    nums = 1\n",
    "    while nums < leng:\n",
    "        node = queue.popleft()\n",
    "        if node:\n",
    "            node.left = TreeNode(values[nums]) if values[nums] else None\n",
    "            queue.append(node.left)\n",
    "            if nums + 1 < leng:\n",
    "                node.right = TreeNode(values[nums+1]) if values[nums+1] else None\n",
    "                queue.append(node.right)\n",
    "                nums += 1\n",
    "            nums += 1\n",
    "    return root\n",
    "\n",
    "def bfs(root):\n",
    "    ret = []\n",
    "    queue = deque([root])\n",
    "    while queue:\n",
    "        node = queue.popleft()\n",
    "        if node:\n",
    "            ret.append(node.val)\n",
    "            queue.append(node.left)\n",
    "            queue.append(node.right)\n",
    "    return ret\n",
    "\n",
    "def in_traversal(root):\n",
    "    ret = []\n",
    " \n",
    "    def traversal(head):\n",
    "        if not head:\n",
    "            return\n",
    "        traversal(head.left)\n",
    "        ret.append(head.val)\n",
    "        traversal(head.right)\n",
    " \n",
    "    traversal(root)\n",
    "    return ret\n",
    "\n",
    "# Definition for bi-linked list.\n",
    "class BiListNode:\n",
    "    def __init__(self, x):\n",
    "        self.val = x\n",
    "        self.pre = None\n",
    "        self.next = None\n",
    "\n",
    "# create\n",
    "def create_bidirect_list(nums):\n",
    "    first = None\n",
    "    for num in nums:\n",
    "        list_node =  BiListNode(num)\n",
    "        list_node.pre = first\n",
    "        first = list_node\n",
    "    \n",
    "    last = None    \n",
    "    for _ in range(len(nums)):\n",
    "        first.next=last\n",
    "        last=first\n",
    "        first=first.pre\n",
    "        \n",
    "    return last\n",
    "\n",
    "# print \n",
    "def printBidirectList(l: BiListNode):\n",
    "    n=10\n",
    "    for _ in range(n):\n",
    "        if l:\n",
    "            print(\"%d, \" % (l.val), end = '')\n",
    "            l = l.next\n",
    "    print('')\n",
    "    \n",
    "class Solution:\n",
    "    def Convert(self, pRootOfTree):\n",
    "        # write code here      \n",
    "        #m=bfs(pRootOfTree)\n",
    "        #m.sort()\n",
    "        m=in_traversal(pRootOfTree)\n",
    "        res=create_bidirect_list(m)\n",
    "        \n",
    "        return res\n",
    "\n",
    "values= [8,6,10,5,7,9,11]\n",
    "\n",
    "root=create_tree(values)\n",
    "print(bfs(root))\n",
    "\n",
    "a=Solution()\n",
    "l=a.Convert(root)\n",
    "printBidirectList(l)\n",
    "l.next,l.next.val,l.next.pre.val"
   ]
  },
  {
   "cell_type": "code",
   "execution_count": 403,
   "metadata": {},
   "outputs": [
    {
     "name": "stdout",
     "output_type": "stream",
     "text": [
      "[8, 6, 10, 5, 7, 9, 11]\n",
      "5, 6, 7, 8, 9, 10, 11, \n"
     ]
    },
    {
     "data": {
      "text/plain": [
       "(<__main__.TreeNode at 0xe1ad50>, 6, 5)"
      ]
     },
     "execution_count": 403,
     "metadata": {},
     "output_type": "execute_result"
    }
   ],
   "source": [
    "from collections import deque\n",
    "\n",
    "# Definition for a binary tree node.\n",
    "class TreeNode:\n",
    "    def __init__(self, x):\n",
    "        self.val = x\n",
    "        self.left = None\n",
    "        self.right = None\n",
    "\n",
    "def create_tree(values):  \n",
    "    if not values: return None\n",
    "    \n",
    "    root = TreeNode(values[0])\n",
    "    queue = deque([root])\n",
    "    leng = len(values)\n",
    "    nums = 1\n",
    "    while nums < leng:\n",
    "        node = queue.popleft()\n",
    "        if node:\n",
    "            node.left = TreeNode(values[nums]) if values[nums] else None\n",
    "            queue.append(node.left)\n",
    "            if nums + 1 < leng:\n",
    "                node.right = TreeNode(values[nums+1]) if values[nums+1] else None\n",
    "                queue.append(node.right)\n",
    "                nums += 1\n",
    "            nums += 1\n",
    "    return root\n",
    "\n",
    "def bfs(root):\n",
    "    ret = []\n",
    "    queue = deque([root])\n",
    "    while queue:\n",
    "        node = queue.popleft()\n",
    "        if node:\n",
    "            ret.append(node.val)\n",
    "            queue.append(node.left)\n",
    "            queue.append(node.right)\n",
    "    return ret\n",
    "\n",
    "# print \n",
    "def printBidiList(l):\n",
    "    n=10\n",
    "    for _ in range(n):\n",
    "        if l:\n",
    "            print(\"%d, \" % (l.val), end = '')\n",
    "            l = l.right\n",
    "    print('')\n",
    "            \n",
    "class Solution:\n",
    "    def Convert(self, pRootOfTree):\n",
    "        #write code here\n",
    "        def mid_traversal(root):\n",
    "            ret = []\n",
    "\n",
    "            def traversal(head):\n",
    "                if not head:\n",
    "                    return\n",
    "                traversal(head.left)\n",
    "                ret.append(head)\n",
    "                traversal(head.right)\n",
    "\n",
    "            traversal(root)\n",
    "            return ret\n",
    "        \n",
    "        nodes=mid_traversal(pRootOfTree)\n",
    "        first = None\n",
    "        for i in range(len(nodes)-1):\n",
    "            nodes[i].left = first\n",
    "            nodes[i].right = nodes[i+1]\n",
    "            first = nodes[i]\n",
    "            \n",
    "        nodes[-1].left = first\n",
    "        nodes[-1].right = None\n",
    "        return nodes[0]\n",
    "    \n",
    "values= [8,6,10,5,7,9,11]\n",
    "\n",
    "root=create_tree(values)\n",
    "print(bfs(root))\n",
    "\n",
    "a=Solution()\n",
    "l=a.Convert(root)\n",
    "printBidiList(l)\n",
    "l.right,l.right.val,l.right.left.val"
   ]
  },
  {
   "cell_type": "code",
   "execution_count": 418,
   "metadata": {},
   "outputs": [
    {
     "name": "stdout",
     "output_type": "stream",
     "text": [
      "[8, 6, 6, 5, 7, 7]\n"
     ]
    },
    {
     "data": {
      "text/plain": [
       "False"
      ]
     },
     "execution_count": 418,
     "metadata": {},
     "output_type": "execute_result"
    }
   ],
   "source": [
    "from collections import deque\n",
    "import copy\n",
    "# Definition for a binary tree node.\n",
    "class TreeNode:\n",
    "    def __init__(self, x):\n",
    "        self.val = x\n",
    "        self.left = None\n",
    "        self.right = None\n",
    "\n",
    "def create_tree(values):  \n",
    "    if not values: return None\n",
    "    \n",
    "    root = TreeNode(values[0])\n",
    "    queue = deque([root])\n",
    "    leng = len(values)\n",
    "    nums = 1\n",
    "    while nums < leng:\n",
    "        node = queue.popleft()\n",
    "        if node:\n",
    "            node.left = TreeNode(values[nums]) if values[nums] else None\n",
    "            queue.append(node.left)\n",
    "            if nums + 1 < leng:\n",
    "                node.right = TreeNode(values[nums+1]) if values[nums+1] else None\n",
    "                queue.append(node.right)\n",
    "                nums += 1\n",
    "            nums += 1\n",
    "    return root\n",
    "\n",
    "def bfs(root):\n",
    "    ret = []\n",
    "    queue = deque([root])\n",
    "    while queue:\n",
    "        node = queue.popleft()\n",
    "        if node:\n",
    "            ret.append(node.val)\n",
    "            queue.append(node.left)\n",
    "            queue.append(node.right)\n",
    "    return ret\n",
    "\n",
    "class Solution:\n",
    "    def isSymmetrical(self, pRoot):\n",
    "        # write code here\n",
    "        if not pRoot: return True\n",
    "        temp=copy.deepcopy(pRoot)\n",
    "        def reverse_tree(pRoot):\n",
    "            if not pRoot: return\n",
    "            pRoot.left, pRoot.right=reverse_tree(pRoot.right),reverse_tree(pRoot.left)\n",
    "\n",
    "            return pRoot\n",
    "        \n",
    "        def is_same(pRoot,rRoot):\n",
    "            if not pRoot and not rRoot: return True\n",
    "            if (not pRoot and rRoot ) or (not rRoot and pRoot) or not pRoot.val == rRoot.val: \n",
    "                return False\n",
    "            #if not pRoot.val == rRoot.val:\n",
    "                #return False\n",
    "            return is_same(pRoot.left, rRoot.left) and is_same(pRoot.right, rRoot.right)\n",
    "        \n",
    "        rRoot=reverse_tree(temp)\n",
    "        #print(bfs(rRoot),bfs(pRoot))\n",
    "        \n",
    "        return is_same(pRoot, rRoot)\n",
    "        \n",
    "values= [8,6,6,5,7,7]\n",
    "root=create_tree(values)\n",
    "print(bfs(root))\n",
    "\n",
    "s = Solution()\n",
    "s.isSymmetrical(root)"
   ]
  },
  {
   "cell_type": "code",
   "execution_count": 421,
   "metadata": {},
   "outputs": [
    {
     "name": "stdout",
     "output_type": "stream",
     "text": [
      "48\n",
      "49\n",
      "50\n",
      "51\n",
      "52\n",
      "53\n",
      "54\n",
      "55\n",
      "56\n",
      "57\n",
      "0\n",
      "1\n",
      "2\n",
      "3\n",
      "4\n",
      "5\n",
      "6\n",
      "7\n",
      "8\n",
      "9\n"
     ]
    }
   ],
   "source": [
    "s='0123456789'\n",
    "s=list(s)\n",
    "for i in s:\n",
    "    print(ord(i))\n",
    "for j in range(48,58):\n",
    "    print(chr(j))"
   ]
  },
  {
   "cell_type": "code",
   "execution_count": 423,
   "metadata": {},
   "outputs": [
    {
     "data": {
      "text/plain": [
       "(2147483647, 0, -2147483647)"
      ]
     },
     "execution_count": 423,
     "metadata": {},
     "output_type": "execute_result"
    }
   ],
   "source": [
    "# -*- coding:utf-8 -*-\n",
    "class Solution:\n",
    "    def StrToInt(self, s):\n",
    "        # write code here\n",
    "        if not s: return 0\n",
    "        ans=list(s)\n",
    "        \n",
    "        if ans[0]=='+' or ans[0]=='-':\n",
    "            ans=ans[1:]\n",
    "        if not ans: return 0\n",
    "        \n",
    "        res=[]\n",
    "        for i in ans:\n",
    "            tmp=ord(i)\n",
    "            if 47 < tmp < 58:\n",
    "                res.append(tmp-48)\n",
    "            else:\n",
    "                return 0\n",
    "        \n",
    "        n=len(res)\n",
    "        x=0\n",
    "        for j in range(n):\n",
    "            x +=res[n-1-j]*10**j\n",
    "            \n",
    "        return -x if s[0]=='-' else x\n",
    "    \n",
    "a = Solution()\n",
    "a.StrToInt('+2147483647'),a.StrToInt('214a47'),a.StrToInt('-2147483647')"
   ]
  },
  {
   "cell_type": "code",
   "execution_count": 434,
   "metadata": {},
   "outputs": [
    {
     "name": "stdout",
     "output_type": "stream",
     "text": [
      "[8, 6, 6, 5, 7, 7]\n"
     ]
    },
    {
     "data": {
      "text/plain": [
       "('8!6!6!5!7!7!#!#!#!#!#!#!#', [8, 6, 6, 5, 7, 7])"
      ]
     },
     "execution_count": 434,
     "metadata": {},
     "output_type": "execute_result"
    }
   ],
   "source": [
    "from collections import deque\n",
    "import copy\n",
    "# Definition for a binary tree node.\n",
    "class TreeNode:\n",
    "    def __init__(self, x):\n",
    "        self.val = x\n",
    "        self.left = None\n",
    "        self.right = None\n",
    "\n",
    "def create_tree(values):  \n",
    "    if not values: return None\n",
    "    \n",
    "    root = TreeNode(values[0])\n",
    "    queue = deque([root])\n",
    "    leng = len(values)\n",
    "    nums = 1\n",
    "    while nums < leng:\n",
    "        node = queue.popleft()\n",
    "        if node:\n",
    "            node.left = TreeNode(values[nums]) if values[nums] else None\n",
    "            queue.append(node.left)\n",
    "            if nums + 1 < leng:\n",
    "                node.right = TreeNode(values[nums+1]) if values[nums+1] else None\n",
    "                queue.append(node.right)\n",
    "                nums += 1\n",
    "            nums += 1\n",
    "    return root\n",
    "\n",
    "def bfs(root):\n",
    "    ret = []\n",
    "    queue = deque([root])\n",
    "    while queue:\n",
    "        node = queue.popleft()\n",
    "        if node:\n",
    "            ret.append(node.val)\n",
    "            queue.append(node.left)\n",
    "            queue.append(node.right)\n",
    "    return ret\n",
    "\n",
    "class Solution:\n",
    "    def Serialize(self, root):\n",
    "        # write code here\n",
    "        if not root: return\n",
    "        queue=[root]\n",
    "        ret=[]\n",
    "        while queue:\n",
    "            node=queue.pop(0)\n",
    "            if node:\n",
    "                ret.append(str(node.val))\n",
    "            else:\n",
    "                ret.append('#')\n",
    "            if node:\n",
    "                queue.append(node.left)\n",
    "                queue.append(node.right)\n",
    "            \n",
    "        res=\"!\".join(ret)\n",
    "        \n",
    "        return res\n",
    "    \n",
    "    def Deserialize(self, s):\n",
    "        # write code here\n",
    "        if not s or s=='#': return\n",
    "        values=s.split(\"!\")\n",
    "        root=TreeNode(int(values[0]))\n",
    "        queue=[root]\n",
    "        nums=len(values)\n",
    "        num=1\n",
    "        while num < nums:\n",
    "            node=queue.pop(0)\n",
    "            if node:\n",
    "                node.left=TreeNode(int(values[num])) if values[num]!='#' else None\n",
    "                queue.append(node.left)\n",
    "                num +=1\n",
    "                if num < nums:\n",
    "                    node.right=TreeNode(int(values[num])) if values[num]!='#' else None\n",
    "                    queue.append(node.right)\n",
    "                    num +=1\n",
    "        return root\n",
    "    \n",
    "values= [8,6,6,5,7,7]\n",
    "root=create_tree(values)\n",
    "print(bfs(root))\n",
    "\n",
    "s = Solution()\n",
    "a=s.Serialize(root)\n",
    "a,bfs(s.Deserialize(a))"
   ]
  },
  {
   "cell_type": "code",
   "execution_count": 439,
   "metadata": {},
   "outputs": [
    {
     "data": {
      "text/plain": [
       "[[6, 6, 5, 7, 7], [6, 6, 5, 7, 7]]"
      ]
     },
     "execution_count": 439,
     "metadata": {},
     "output_type": "execute_result"
    }
   ],
   "source": [
    "values= [[8,6,6,5,7,7],[8,6,6,5,7,7],[8,6,6,5,7,7]]\n",
    "del values[0]\n",
    "for v in values:\n",
    "    del v[0]\n",
    "values"
   ]
  },
  {
   "cell_type": "code",
   "execution_count": 463,
   "metadata": {},
   "outputs": [
    {
     "name": "stdout",
     "output_type": "stream",
     "text": [
      "[[1, 2, 8, 9], [2, 4, 9, 12], [4, 7, 10, 13], [6, 9, 11, 15]]\n",
      "3 0\n",
      "3 1\n",
      "2 1\n",
      "2 2\n",
      "1 2\n",
      "0 2\n",
      "\n",
      "3 0\n",
      "2 0\n",
      "2 1\n",
      "1 1\n",
      "1 2\n",
      "0 2\n",
      "-1 2\n",
      "[[2, 8, 9], [4, 9, 12], [7, 10, 13]]\n",
      "2 0\n",
      "1 0\n",
      "1 1\n",
      "0 1\n",
      "-1 1\n",
      "[[8, 9], [9, 12]]\n",
      "1 0\n",
      "0 0\n",
      "-1 0\n",
      "[[9]]\n",
      "0 0\n",
      "-1 0\n",
      "[]\n"
     ]
    },
    {
     "data": {
      "text/plain": [
       "(True, False)"
      ]
     },
     "execution_count": 463,
     "metadata": {},
     "output_type": "execute_result"
    }
   ],
   "source": [
    "# -*- coding:utf-8 -*-\n",
    "class Solution:\n",
    "    # array 二维列表\n",
    "    def Find(self, target, array):\n",
    "        # write code here\n",
    "        while 1:\n",
    "            r=len(array)\n",
    "            c=len(array[0])\n",
    "            i, j=r-1, 0\n",
    "            while 1:\n",
    "                print(i,j)\n",
    "                if -1<i<r and -1<j<c:\n",
    "                    if array[i][j]==target:\n",
    "                        print('')\n",
    "                        return True\n",
    "                    elif array[i][j]>target:\n",
    "                        i -=1\n",
    "                    else:\n",
    "                        j +=1\n",
    "                else:\n",
    "                    del array[-1]\n",
    "                    for arr in array:\n",
    "                        del arr[0]\n",
    "                        \n",
    "                    print(array)\n",
    "                    if not array:\n",
    "                        return False\n",
    "                    break\n",
    "                    \n",
    "array=[[1,2,8,9],[2,4,9,12],[4,7,10,13],[6,9,11,15]]\n",
    "print(array)\n",
    "a=Solution()\n",
    "a.Find(8,array),a.Find(5,array)"
   ]
  },
  {
   "cell_type": "code",
   "execution_count": 464,
   "metadata": {},
   "outputs": [
    {
     "data": {
      "text/plain": [
       "[1, 3, 5, 7, 9, 0, 2, 4, 6, 8]"
      ]
     },
     "execution_count": 464,
     "metadata": {},
     "output_type": "execute_result"
    }
   ],
   "source": [
    "# -*- coding:utf-8 -*-\n",
    "class Solution:\n",
    "    def reOrderArray(self, array):\n",
    "        # write code here\n",
    "        odd=[]\n",
    "        even=[]\n",
    "        for i in range(len(array)):\n",
    "            if not array[i]%2==0:\n",
    "                odd.append(array[i])\n",
    "            else:\n",
    "                even.append(array[i])\n",
    "                \n",
    "        return odd + even\n",
    "    \n",
    "array=[x for x in range(10)]\n",
    "a=Solution()\n",
    "a.reOrderArray(array)"
   ]
  },
  {
   "cell_type": "code",
   "execution_count": 467,
   "metadata": {},
   "outputs": [
    {
     "data": {
      "text/plain": [
       "([2, 3, 5, 7, 11, 13], [7, 11, 13])"
      ]
     },
     "execution_count": 467,
     "metadata": {},
     "output_type": "execute_result"
    }
   ],
   "source": [
    "def primes(index):\n",
    "            res=[]\n",
    "            for i in range(2,index+1):\n",
    "                flag=1\n",
    "                for j in range(2,i):\n",
    "                    if i%j==0:\n",
    "                        flag=0\n",
    "                        break\n",
    "                if flag:\n",
    "                    res.append(i)\n",
    "            return res\n",
    "        \n",
    "primes(13),primes(13)[3:]"
   ]
  },
  {
   "cell_type": "code",
   "execution_count": 473,
   "metadata": {
    "scrolled": true
   },
   "outputs": [
    {
     "name": "stdout",
     "output_type": "stream",
     "text": [
      "0\n",
      "1\n",
      "2\n",
      "3\n",
      "4\n",
      "5\n",
      "6\n",
      "cost  time:  0.0s\n",
      "8\n",
      "cost  time:  0.0s\n",
      "9\n",
      "cost  time:  0.0s\n",
      "10\n",
      "cost  time:  0.0s\n",
      "12\n",
      "cost  time:  0.0s\n",
      "15\n",
      "cost  time:  0.0s\n",
      "16\n",
      "cost  time:  0.0009970664978027344s\n",
      "18\n",
      "cost  time:  0.0s\n",
      "20\n",
      "cost  time:  0.0s\n",
      "24\n",
      "cost  time:  0.0s\n",
      "25\n",
      "cost  time:  0.0s\n",
      "27\n",
      "cost  time:  0.0009970664978027344s\n",
      "30\n",
      "cost  time:  0.0s\n",
      "32\n",
      "cost  time:  0.000997304916381836s\n",
      "36\n",
      "cost  time:  0.0s\n",
      "40\n",
      "cost  time:  0.0s\n",
      "45\n",
      "cost  time:  0.0009975433349609375s\n",
      "48\n",
      "cost  time:  0.0009965896606445312s\n",
      "50\n",
      "cost  time:  0.0009970664978027344s\n",
      "54\n",
      "cost  time:  0.0019948482513427734s\n",
      "60\n",
      "cost  time:  0.001994609832763672s\n",
      "64\n",
      "cost  time:  0.0019941329956054688s\n",
      "72\n",
      "cost  time:  0.001995563507080078s\n",
      "75\n",
      "cost  time:  0.0020203590393066406s\n",
      "80\n",
      "cost  time:  0.002027273178100586s\n",
      "81\n",
      "cost  time:  0.003968238830566406s\n",
      "90\n",
      "cost  time:  0.0049741268157958984s\n",
      "96\n",
      "cost  time:  0.0039904117584228516s\n",
      "100\n",
      "cost  time:  0.005983829498291016s\n",
      "108\n",
      "cost  time:  0.00797891616821289s\n",
      "120\n",
      "cost  time:  0.008975028991699219s\n",
      "125\n",
      "cost  time:  0.008977413177490234s\n",
      "128\n",
      "cost  time:  0.010004043579101562s\n",
      "135\n",
      "cost  time:  0.01193547248840332s\n",
      "144\n",
      "cost  time:  0.012970209121704102s\n",
      "150\n",
      "cost  time:  0.014950037002563477s\n",
      "160\n",
      "cost  time:  0.016955137252807617s\n",
      "162\n",
      "cost  time:  0.019946813583374023s\n",
      "180\n",
      "cost  time:  0.02393651008605957s\n",
      "192\n",
      "cost  time:  0.02692723274230957s\n",
      "200\n",
      "cost  time:  0.0329132080078125s\n",
      "216\n",
      "cost  time:  0.037909507751464844s\n",
      "225\n",
      "cost  time:  0.04287314414978027s\n",
      "240\n"
     ]
    }
   ],
   "source": [
    "import  time\n",
    "# -*- coding:utf-8 -*-\n",
    "class Solution:\n",
    "    def GetUglyNumber_Solution(self, index):\n",
    "        # write code here\n",
    "        t1=time.time()\n",
    "        if index < 7: return index\n",
    "        \n",
    "        def primes(index):\n",
    "            res=[]\n",
    "            for i in range(2,index+1):\n",
    "                flag=1\n",
    "                for j in range(2,i):\n",
    "                    if i%j==0:\n",
    "                        flag=0\n",
    "                        break\n",
    "                if flag:\n",
    "                    res.append(i)\n",
    "            return res\n",
    "        \n",
    "        N=7\n",
    "        ugly=8\n",
    "        while N<index:\n",
    "            ugly +=1\n",
    "            nums=primes(ugly)\n",
    "            flag=1\n",
    "            for x in nums[3:]:\n",
    "                if ugly %x==0:\n",
    "                    flag=0\n",
    "                    break\n",
    "            if flag:\n",
    "                N +=1\n",
    "                \n",
    "        t2=time.time()\n",
    "        print(\"cost  time:  %ss\"  %  (t2-t1))        \n",
    "        return ugly\n",
    "    \n",
    "a=Solution()\n",
    "for i in range(50):\n",
    "    print(a.GetUglyNumber_Solution(i))"
   ]
  },
  {
   "cell_type": "code",
   "execution_count": 474,
   "metadata": {},
   "outputs": [
    {
     "name": "stdout",
     "output_type": "stream",
     "text": [
      "0\n",
      "1\n",
      "2\n",
      "3\n",
      "4\n",
      "5\n",
      "6\n",
      "cost  time:  0.0s\n",
      "8\n",
      "cost  time:  0.0s\n",
      "9\n",
      "cost  time:  0.0s\n",
      "10\n",
      "cost  time:  0.0s\n",
      "12\n",
      "cost  time:  0.0s\n",
      "15\n",
      "cost  time:  0.0s\n",
      "16\n",
      "cost  time:  0.0s\n",
      "18\n",
      "cost  time:  0.0s\n",
      "20\n",
      "cost  time:  0.001005411148071289s\n",
      "24\n",
      "cost  time:  0.0s\n",
      "25\n",
      "cost  time:  0.0s\n",
      "27\n",
      "cost  time:  0.0s\n",
      "30\n",
      "cost  time:  0.0s\n",
      "32\n",
      "cost  time:  0.0009889602661132812s\n",
      "36\n",
      "cost  time:  0.0s\n",
      "40\n",
      "cost  time:  0.0s\n",
      "45\n",
      "cost  time:  0.0009984970092773438s\n",
      "48\n",
      "cost  time:  0.0009970664978027344s\n",
      "50\n",
      "cost  time:  0.0s\n",
      "54\n",
      "cost  time:  0.000997304916381836s\n",
      "60\n",
      "cost  time:  0.0009968280792236328s\n",
      "64\n",
      "cost  time:  0.000997781753540039s\n",
      "72\n",
      "cost  time:  0.000997304916381836s\n",
      "75\n",
      "cost  time:  0.001993894577026367s\n",
      "80\n",
      "cost  time:  0.000997304916381836s\n",
      "81\n",
      "cost  time:  0.002002716064453125s\n",
      "90\n",
      "cost  time:  0.001986980438232422s\n",
      "96\n",
      "cost  time:  0.0029926300048828125s\n",
      "100\n",
      "cost  time:  0.0029909610748291016s\n",
      "108\n",
      "cost  time:  0.0029921531677246094s\n",
      "120\n",
      "cost  time:  0.003989219665527344s\n",
      "125\n",
      "cost  time:  0.003989219665527344s\n",
      "128\n",
      "cost  time:  0.004987239837646484s\n",
      "135\n",
      "cost  time:  0.004021883010864258s\n",
      "144\n",
      "cost  time:  0.00498652458190918s\n",
      "150\n",
      "cost  time:  0.0060138702392578125s\n",
      "160\n",
      "cost  time:  0.0069849491119384766s\n",
      "162\n",
      "cost  time:  0.008953094482421875s\n",
      "180\n",
      "cost  time:  0.010959863662719727s\n",
      "192\n",
      "cost  time:  0.010970354080200195s\n",
      "200\n",
      "cost  time:  0.011967658996582031s\n",
      "216\n",
      "cost  time:  0.012967824935913086s\n",
      "225\n",
      "cost  time:  0.009048938751220703s\n",
      "240\n"
     ]
    }
   ],
   "source": [
    "import  time\n",
    "# -*- coding:utf-8 -*-\n",
    "class Solution:\n",
    "    def GetUglyNumber_Solution(self, index):\n",
    "        # write code here\n",
    "        t1=time.time()\n",
    "        if index < 7: return index\n",
    "        \n",
    "        N=7\n",
    "        ugly=8\n",
    "        while N<index:\n",
    "            ugly +=1\n",
    "            fflag=1\n",
    "            for i in range(7,ugly+1):\n",
    "                flag=1\n",
    "                for j in range(2,i):\n",
    "                    if i%j==0:\n",
    "                        flag=0\n",
    "                        break\n",
    "                if flag:\n",
    "                    if ugly%i==0:\n",
    "                        fflag=0\n",
    "                        break\n",
    "            if fflag:\n",
    "                N +=1\n",
    "                \n",
    "        t2=time.time()\n",
    "        print(\"cost  time:  %ss\"  %  (t2-t1))        \n",
    "        return ugly\n",
    "    \n",
    "a=Solution()\n",
    "for i in range(50):\n",
    "    print(a.GetUglyNumber_Solution(i))"
   ]
  },
  {
   "cell_type": "code",
   "execution_count": 488,
   "metadata": {},
   "outputs": [
    {
     "name": "stdout",
     "output_type": "stream",
     "text": [
      "0\n",
      "1\n",
      "2\n",
      "3\n",
      "4\n",
      "5\n",
      "6\n",
      "cost  time:  0.0s\n",
      "8\n",
      "cost  time:  0.0s\n",
      "9\n",
      "cost  time:  0.0s\n",
      "10\n",
      "cost  time:  0.0s\n",
      "12\n",
      "cost  time:  0.0s\n",
      "15\n",
      "cost  time:  0.0s\n",
      "16\n",
      "cost  time:  0.0s\n",
      "18\n",
      "cost  time:  0.0s\n",
      "20\n",
      "cost  time:  0.000997304916381836s\n",
      "24\n",
      "cost  time:  0.0s\n",
      "25\n",
      "cost  time:  0.0s\n",
      "27\n",
      "cost  time:  0.0s\n",
      "30\n",
      "cost  time:  0.0s\n",
      "32\n"
     ]
    }
   ],
   "source": [
    "import time\n",
    "# -*- coding:utf-8 -*-\n",
    "class Solution:\n",
    "    def GetUglyNumber_Solution(self, index):\n",
    "        # write code here\n",
    "        t1=time.time()\n",
    "        if index < 7: return index\n",
    "        uglyList = [1]\n",
    "        indexTwo = 0\n",
    "        indexThree = 0\n",
    "        indexFive = 0\n",
    "        for _ in range(index-1):\n",
    "            newUgly = min(uglyList[indexTwo]*2, uglyList[indexThree]*3, uglyList[indexFive]*5)\n",
    "            uglyList.append(newUgly)\n",
    "            if (newUgly % 2 == 0):\n",
    "                indexTwo += 1\n",
    "            if (newUgly % 3 == 0):\n",
    "                indexThree += 1\n",
    "            if (newUgly % 5 == 0):\n",
    "                indexFive += 1\n",
    "                \n",
    "        t2=time.time()\n",
    "        print(\"cost  time:  %ss\"  %  (t2-t1))\n",
    "        return uglyList[-1]\n",
    "    \n",
    "a=Solution()\n",
    "for i in range(20):\n",
    "    print(a.GetUglyNumber_Solution(i))"
   ]
  },
  {
   "cell_type": "code",
   "execution_count": 536,
   "metadata": {},
   "outputs": [
    {
     "data": {
      "text/plain": [
       "'www.runo-ob.com'"
      ]
     },
     "execution_count": 536,
     "metadata": {},
     "output_type": "execute_result"
    }
   ],
   "source": [
    "import re\n",
    "#p=re.compile(r\"http[s]?://((?:[a-zA-Z]|[0-9]|[$-_@.&+]|[!*,]|(?:%[0-9a-fA-F][0-9a-fA-F]))+)|([a-zA-Z]+.\\w+)\\.+[a-zA-Z0-9\\/_]+\")\n",
    "p=re.compile('((\\w|[\\-])+\\.)+\\w+/')\n",
    "#p=re.compile('([^\\./]+\\.)+\\w+/')\n",
    "#p=re.compile('([0-9a-zA-Z\\-\\_]+\\.)+[0-9a-zA-Z\\-]+/')\n",
    "t='https://www.runo-ob.com/ruby/ruby-installation-windows.html'\n",
    "re.search(p,t).group(0)[:-1]"
   ]
  },
  {
   "cell_type": "code",
   "execution_count": 554,
   "metadata": {},
   "outputs": [
    {
     "name": "stdout",
     "output_type": "stream",
     "text": [
      "{'g': 2, 'o': 2, 'l': 1, 'e': 1}\n",
      "['g', 'o', 'o', 'g', 'l', 'e']\n"
     ]
    },
    {
     "data": {
      "text/plain": [
       "(('l', 4), {'e', 'g', 'l', 'o'})"
      ]
     },
     "execution_count": 554,
     "metadata": {},
     "output_type": "execute_result"
    }
   ],
   "source": [
    "# -*- coding:utf-8 -*-\n",
    "from collections import Counter\n",
    "class Solution:\n",
    "    def FirstNotRepeatingChar(self, s):\n",
    "        # write code here\n",
    "        ans=dict(Counter(s))\n",
    "        print(ans)\n",
    "        print(list(s))\n",
    "        for k in ans:\n",
    "            if ans[k]==1:\n",
    "                return k,list(s).index(k)\n",
    "        return -1\n",
    "        \n",
    "a=Solution()\n",
    "s='google'\n",
    "a.FirstNotRepeatingChar(s)"
   ]
  },
  {
   "cell_type": "code",
   "execution_count": 564,
   "metadata": {},
   "outputs": [
    {
     "name": "stdout",
     "output_type": "stream",
     "text": [
      "{'g': [2, 0], 'o': [2, 1], 'l': [1, 4], 'e': [1, 5]}\n"
     ]
    },
    {
     "data": {
      "text/plain": [
       "4"
      ]
     },
     "execution_count": 564,
     "metadata": {},
     "output_type": "execute_result"
    }
   ],
   "source": [
    "class Solution:\n",
    "    def FirstNotRepeatingChar(self, s):\n",
    "        # write code here\n",
    "        ans=dict()\n",
    "        for j in range(len(s)):\n",
    "            if s[j] not in ans:\n",
    "                ans[s[j]]=[1,j]\n",
    "            else:\n",
    "                ans[s[j]][0] +=1\n",
    "                \n",
    "        print(ans)    \n",
    "        for k in ans:\n",
    "            if ans[k][0]==1:\n",
    "                return ans[k][1]\n",
    "\n",
    "        return -1\n",
    "    \n",
    "a=Solution()\n",
    "s='google'\n",
    "a.FirstNotRepeatingChar(s)"
   ]
  },
  {
   "cell_type": "code",
   "execution_count": 565,
   "metadata": {},
   "outputs": [
    {
     "data": {
      "text/plain": [
       "4"
      ]
     },
     "execution_count": 565,
     "metadata": {},
     "output_type": "execute_result"
    }
   ],
   "source": [
    "class Solution:\n",
    "    def FirstNotRepeatingChar(self, s):\n",
    "        # write code here\n",
    "        for i in range(len(s)):\n",
    "            if s.count(s[i])==1:\n",
    "                return i\n",
    "\n",
    "        return -1\n",
    "    \n",
    "a=Solution()\n",
    "s='google'\n",
    "a.FirstNotRepeatingChar(s)"
   ]
  },
  {
   "cell_type": "code",
   "execution_count": 3,
   "metadata": {},
   "outputs": [
    {
     "data": {
      "text/plain": [
       "(9, 9, 2)"
      ]
     },
     "execution_count": 3,
     "metadata": {},
     "output_type": "execute_result"
    }
   ],
   "source": [
    "# -*- coding:utf-8 -*-\n",
    "class Solution:\n",
    "    def __init__(self):\n",
    "        self.stack=[]\n",
    "        \n",
    "    def push(self, node):\n",
    "        # write code here\n",
    "        self.stack.append(node)\n",
    "        \n",
    "    def pop(self):\n",
    "        # write code here\n",
    "        return self.stack.pop()\n",
    "    \n",
    "    def top(self):\n",
    "        # write code here\n",
    "        return self.stack[-1]\n",
    "    \n",
    "    def min(self):\n",
    "        # write code here\n",
    "        return sorted(self.stack)[0]\n",
    "\n",
    "a=Solution()\n",
    "a.push(7)\n",
    "a.push(2)\n",
    "a.push(5)\n",
    "a.push(3)\n",
    "a.push(9)\n",
    "a.top(),a.pop(),a.min()"
   ]
  },
  {
   "cell_type": "code",
   "execution_count": 53,
   "metadata": {},
   "outputs": [
    {
     "name": "stdout",
     "output_type": "stream",
     "text": [
      "['3', '32', '321'] ['3#32#321', '3#321#32', '32#3#321', '32#321#3', '321#3#32', '321#32#3'] [332321, 332132, 323321, 323213, 321332, 321323]\n"
     ]
    },
    {
     "data": {
      "text/plain": [
       "321323"
      ]
     },
     "execution_count": 53,
     "metadata": {},
     "output_type": "execute_result"
    }
   ],
   "source": [
    "# -*- coding:utf-8 -*-\n",
    "from functools import reduce\n",
    "class Solution:\n",
    "    def PrintMinNumber(self, numbers):\n",
    "        # write code here\n",
    "        if not numbers: return ''\n",
    "        \n",
    "        nums=list(map(str, numbers))\n",
    "        n=len(nums)\n",
    "        f=lambda x,y:[a+'#'+b for a in x for b in y if not b in a.split('#')]\n",
    "        arr=list(reduce(f,[nums]*n))\n",
    "        res=list(map(lambda x:int(x.replace('#','')), arr))\n",
    "        #print(nums,arr,res)\n",
    "        return min(res)\n",
    "    \n",
    "a=Solution()\n",
    "#nums=[3,5,1,4,2]\n",
    "nums=[3,32,321]\n",
    "a.PrintMinNumber(nums)"
   ]
  },
  {
   "cell_type": "code",
   "execution_count": 30,
   "metadata": {},
   "outputs": [
    {
     "data": {
      "text/plain": [
       "([[3, 32, 321], [3, 32, 321], [3, 32, 321]],\n",
       " [3, 32, 321, 3, 32, 321, 3, 32, 321])"
      ]
     },
     "execution_count": 30,
     "metadata": {},
     "output_type": "execute_result"
    }
   ],
   "source": [
    "nums=[3,32,321]\n",
    "[nums]*3,nums*3"
   ]
  },
  {
   "cell_type": "code",
   "execution_count": 42,
   "metadata": {},
   "outputs": [
    {
     "data": {
      "text/plain": [
       "12345"
      ]
     },
     "execution_count": 42,
     "metadata": {},
     "output_type": "execute_result"
    }
   ],
   "source": [
    "import itertools \n",
    "class Solution:\n",
    "    def PrintMinNumber(self, numbers):\n",
    "        # write code here\n",
    "        if not numbers: return ''\n",
    "        \n",
    "        n=len(numbers)\n",
    "        nums=itertools.permutations(numbers,n)\n",
    "        \n",
    "        arr=[list(map(str, num)) for num in nums]\n",
    "        ans=[''.join(x) for x in arr]\n",
    "        #ans=[''.join(list(map(str, x))) for x in nums]\n",
    "        res=list(map(int, ans))\n",
    "        #print(arr,ans,res)\n",
    "        return min(res)\n",
    "    \n",
    "a=Solution()\n",
    "nums=[3,5,1,4,2]\n",
    "#nums=[3,32,321]\n",
    "a.PrintMinNumber(nums)"
   ]
  },
  {
   "cell_type": "code",
   "execution_count": 57,
   "metadata": {},
   "outputs": [
    {
     "data": {
      "text/plain": [
       "(['I', 'am', 'a', 'student.'],\n",
       " ['I', 'am', 'a', 'student.'],\n",
       " [],\n",
       " [''],\n",
       " [],\n",
       " ['', ''])"
      ]
     },
     "execution_count": 57,
     "metadata": {},
     "output_type": "execute_result"
    }
   ],
   "source": [
    "a='I am a student.'\n",
    "a.split(),a.split(' '),''.split(),''.split(' '),' '.split(),' '.split(' ')"
   ]
  },
  {
   "cell_type": "code",
   "execution_count": 58,
   "metadata": {},
   "outputs": [
    {
     "data": {
      "text/plain": [
       "7"
      ]
     },
     "execution_count": 58,
     "metadata": {},
     "output_type": "execute_result"
    }
   ],
   "source": [
    "# -*- coding:utf-8 -*-\n",
    "class Solution:\n",
    "    def InversePairs(self, data):\n",
    "        # write code here\n",
    "        n=len(data)\n",
    "        res=0\n",
    "        for i in range(n-1):\n",
    "            for j in range(i+1,n):\n",
    "                if data[i]>data[j]:\n",
    "                    res +=1\n",
    "            \n",
    "        return res % 1000000007\n",
    "    \n",
    "a=Solution()\n",
    "nums=[1,2,3,4,5,6,7,0]\n",
    "a.InversePairs(nums)"
   ]
  },
  {
   "cell_type": "code",
   "execution_count": 60,
   "metadata": {},
   "outputs": [
    {
     "data": {
      "text/plain": [
       "7"
      ]
     },
     "execution_count": 60,
     "metadata": {},
     "output_type": "execute_result"
    }
   ],
   "source": [
    "class Solution:\n",
    "\n",
    "    def reversePairs(self, nums):\n",
    "        size = len(nums)\n",
    "        if size < 2:\n",
    "            return 0\n",
    "\n",
    "        # 用于归并的辅助数组\n",
    "        temp = [0 for _ in range(size)]\n",
    "        return self.count_reverse_pairs(nums, 0, size - 1, temp)  % 1000000007\n",
    "\n",
    "    def count_reverse_pairs(self, nums, left, right, temp):\n",
    "        # 在数组 nums 的区间 [left, right] 统计逆序对\n",
    "        if left == right:\n",
    "            return 0\n",
    "        mid = (left + right) >> 1\n",
    "        left_pairs = self.count_reverse_pairs(nums, left, mid, temp)\n",
    "        right_pairs = self.count_reverse_pairs(nums, mid + 1, right, temp)\n",
    "\n",
    "        reverse_pairs = left_pairs + right_pairs\n",
    "        # 代码走到这里的时候，[left, mid] 和 [mid + 1, right] 已经完成了排序并且计算好逆序对\n",
    "\n",
    "        if nums[mid] <= nums[mid + 1]:\n",
    "            # 此时不用计算横跨两个区间的逆序对，直接返回 reverse_pairs\n",
    "            return reverse_pairs\n",
    "\n",
    "        reverse_cross_pairs = self.merge_and_count(nums, left, mid, right, temp)\n",
    "        return reverse_pairs + reverse_cross_pairs\n",
    "\n",
    "    def merge_and_count(self, nums, left, mid, right, temp):\n",
    "        \"\"\"\n",
    "        [left, mid] 有序，[mid + 1, right] 有序\n",
    "\n",
    "        前：[2, 3, 5, 8]，后：[4, 6, 7, 12]\n",
    "        只在后面数组元素出列的时候，数一数前面这个数组还剩下多少个数字，\n",
    "        由于\"前\"数组和\"后\"数组都有序，\n",
    "        此时\"前\"数组剩下的元素个数 mid - i + 1 就是与\"后\"数组元素出列的这个元素构成的逆序对个数\n",
    "\n",
    "        \"\"\"\n",
    "        for i in range(left, right + 1):\n",
    "            temp[i] = nums[i]\n",
    "\n",
    "        i = left\n",
    "        j = mid + 1\n",
    "        res = 0\n",
    "        for k in range(left, right + 1):\n",
    "            if i > mid:\n",
    "                nums[k] = temp[j]\n",
    "                j += 1\n",
    "            elif j > right:\n",
    "                nums[k] = temp[i]\n",
    "                i += 1\n",
    "            elif temp[i] <= temp[j]:\n",
    "                # 此时前数组元素出列，不统计逆序对\n",
    "                nums[k] = temp[i]\n",
    "                i += 1\n",
    "            else:\n",
    "                # assert temp[i] > temp[j]\n",
    "                # 此时后数组元素出列，统计逆序对，快就快在这里，一次可以统计出一个区间的个数的逆序对\n",
    "                nums[k] = temp[j]\n",
    "                j += 1\n",
    "                # 例：[7, 8, 9][4, 6, 9]，4 与 7 以及 7 后面所有的数都构成逆序对\n",
    "                res += (mid - i + 1)\n",
    "        return res\n",
    "    \n",
    "a=Solution()\n",
    "nums=[1,2,3,4,5,6,7,0]\n",
    "a.reversePairs(nums)"
   ]
  },
  {
   "cell_type": "code",
   "execution_count": 64,
   "metadata": {},
   "outputs": [
    {
     "data": {
      "text/plain": [
       "['abc', 'acb', 'bac', 'bca', 'cab', 'cba']"
      ]
     },
     "execution_count": 64,
     "metadata": {},
     "output_type": "execute_result"
    }
   ],
   "source": [
    "from functools import reduce\n",
    "# -*- coding:utf-8 -*-\n",
    "class Solution:\n",
    "    def Permutation(self, ss):\n",
    "        # write code here\n",
    "        if not ss: return []\n",
    "        f=lambda x,y:[x1+' '+x2 for x1 in x for x2 in y if not x2 in x1.split()]\n",
    "        ans=reduce(f, [sorted(list(ss))]*len(ss))\n",
    "        #res=map(lambda x:x.repalce(' ',''), ans)\n",
    "        res=list(map(lambda x:''.join(x.split()), ans))\n",
    "        \n",
    "        return res\n",
    "    \n",
    "a=Solution()\n",
    "ss='abc'\n",
    "a.Permutation(ss)"
   ]
  },
  {
   "cell_type": "code",
   "execution_count": 71,
   "metadata": {},
   "outputs": [
    {
     "data": {
      "text/plain": [
       "['abc', 'acb', 'bac', 'bca', 'cab', 'cba']"
      ]
     },
     "execution_count": 71,
     "metadata": {},
     "output_type": "execute_result"
    }
   ],
   "source": [
    "from functools import reduce\n",
    "from itertools import permutations\n",
    "# -*- coding:utf-8 -*-\n",
    "class Solution:\n",
    "    def Permutation(self, ss):\n",
    "        # write code here\n",
    "        if not ss: return []\n",
    "        ans=permutations(sorted(list(ss)),len(ss))\n",
    "        res=list(map(lambda x:''.join(x), ans))\n",
    "       \n",
    "        return res\n",
    "    \n",
    "a=Solution()\n",
    "ss='abc'\n",
    "a.Permutation(ss)"
   ]
  },
  {
   "cell_type": "code",
   "execution_count": 78,
   "metadata": {
    "scrolled": true
   },
   "outputs": [
    {
     "name": "stdout",
     "output_type": "stream",
     "text": [
      "1, 4, 3, 4, 5, 8, \n"
     ]
    },
    {
     "data": {
      "text/plain": [
       "4"
      ]
     },
     "execution_count": 78,
     "metadata": {},
     "output_type": "execute_result"
    }
   ],
   "source": [
    "# Definition for singly-linked list.\n",
    "class ListNode:\n",
    "    def __init__(self, x):\n",
    "        self.val = x\n",
    "        self.next = None\n",
    "\n",
    "# create\n",
    "def create_list(nums):\n",
    "    last = None\n",
    "    for num in reversed(nums):\n",
    "        list_node = ListNode(num)\n",
    "        list_node.next = last\n",
    "        last = list_node\n",
    "    return last\n",
    "\n",
    "# print \n",
    "def printList(l: ListNode):\n",
    "    while l:\n",
    "        print(\"%d, \" % (l.val), end = '')\n",
    "        l = l.next\n",
    "    print('')\n",
    "\n",
    "class Solution:\n",
    "    def FindKthToTail(self, head, k):\n",
    "        # write code here\n",
    "        if not head or not k: return\n",
    "        stack=[]\n",
    "        while head:\n",
    "            stack.append(head)\n",
    "            head=head.next\n",
    "        for _ in range(k-1):\n",
    "            stack.pop()\n",
    "            \n",
    "        if stack:\n",
    "            return stack.pop()\n",
    "        else:\n",
    "            return\n",
    "    \n",
    "a=Solution()\n",
    "l = create_list([1,4,3,4,5,8])\n",
    "printList (l)\n",
    "a.FindKthToTail(l,3).val"
   ]
  },
  {
   "cell_type": "code",
   "execution_count": 88,
   "metadata": {},
   "outputs": [
    {
     "name": "stdout",
     "output_type": "stream",
     "text": [
      "1, 4, 3, 4, 5, 8, \n"
     ]
    },
    {
     "data": {
      "text/plain": [
       "(<__main__.ListNode at 0x1275d70>,\n",
       " <__main__.ListNode at 0x5d55eb0>,\n",
       " <__main__.ListNode at 0x5d47850>,\n",
       " <__main__.ListNode at 0x5d55750>)"
      ]
     },
     "execution_count": 88,
     "metadata": {},
     "output_type": "execute_result"
    }
   ],
   "source": [
    "import copy\n",
    "#Definition for singly-linked list.\n",
    "class RandomListNode: \n",
    "    def init(self, x): \n",
    "        self.label = x \n",
    "        self.next = None \n",
    "        self.random = None\n",
    "\n",
    "#create\n",
    "def create_Randomlist(nums): \n",
    "    last = None \n",
    "    for num in reversed(nums): \n",
    "        list_node = RandomListNode(num) \n",
    "        list_node.next = last \n",
    "        last = list_node \n",
    "        \n",
    "    return last\n",
    "\n",
    "#print\n",
    "def printRandomList(l: RandomListNode): \n",
    "    while l: \n",
    "        print(\"%d, \" % (l.label), end = '') \n",
    "        l = l.next \n",
    "        \n",
    "    print('')\n",
    "\n",
    "class Solution:\n",
    "\n",
    "    # 返回 RandomListNode\n",
    "    def Clone(self, pHead):\n",
    "        # write code here\n",
    "        if not pHead: return\n",
    "        return copy.deepcopy(pHead)\n",
    "    \n",
    "a=Solution() \n",
    "l = create_list([1,4,3,4,5,8]) \n",
    "printList (l) \n",
    "a.Clone(l),l,a.Clone(l).next,l.next"
   ]
  },
  {
   "cell_type": "code",
   "execution_count": 120,
   "metadata": {},
   "outputs": [
    {
     "name": "stdout",
     "output_type": "stream",
     "text": [
      "1, 1, 1, 1, 1, 1, 1, \n",
      "\n"
     ]
    }
   ],
   "source": [
    "# Definition for singly-linked list.\n",
    "class ListNode:\n",
    "    def __init__(self, x):\n",
    "        self.val = x\n",
    "        self.next = None\n",
    "\n",
    "# create\n",
    "def create_list(nums):\n",
    "    last = None\n",
    "    for num in reversed(nums):\n",
    "        list_node = ListNode(num)\n",
    "        list_node.next = last\n",
    "        last = list_node\n",
    "    return last\n",
    "\n",
    "# print \n",
    "def printList(l: ListNode):\n",
    "    while l:\n",
    "        print(\"%d, \" % (l.val), end = '')\n",
    "        l = l.next\n",
    "    print('')\n",
    "\n",
    "class Solution:\n",
    "    def deleteDuplication(self, pHead):\n",
    "        # write code here\n",
    "        if not pHead: return\n",
    "        stack=[]\n",
    "        while pHead:\n",
    "            if stack:\n",
    "                pHead=pHead.next\n",
    "                if not pHead: break\n",
    "                flag=0\n",
    "                while pHead:\n",
    "                    if stack[-1].val==pHead.val:\n",
    "                        pHead=pHead.next\n",
    "                        flag=1\n",
    "                    else:\n",
    "                        break\n",
    "                if flag:\n",
    "                    stack.pop()\n",
    "                    \n",
    "            stack.append(pHead)\n",
    "            \n",
    "        for i in range(len(stack)-1):\n",
    "            stack[i].next=stack[i+1]\n",
    "                \n",
    "        return stack[0] if stack else None\n",
    "        \n",
    "a=Solution()\n",
    "l = create_list([1,4,4,3,3,5,8])\n",
    "#l = create_list([1,1,1,1,1,1,1])\n",
    "printList(l)\n",
    "printList(a.deleteDuplication(l))"
   ]
  }
 ],
 "metadata": {
  "kernelspec": {
   "display_name": "Python 3",
   "language": "python",
   "name": "python3"
  },
  "language_info": {
   "codemirror_mode": {
    "name": "ipython",
    "version": 3
   },
   "file_extension": ".py",
   "mimetype": "text/x-python",
   "name": "python",
   "nbconvert_exporter": "python",
   "pygments_lexer": "ipython3",
   "version": "3.7.0"
  }
 },
 "nbformat": 4,
 "nbformat_minor": 2
}
